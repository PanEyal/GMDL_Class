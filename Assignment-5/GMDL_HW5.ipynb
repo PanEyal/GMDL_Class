{
 "cells": [
  {
   "cell_type": "code",
   "execution_count": 1,
   "metadata": {
    "id": "H_aY_rhhHvG0",
    "pycharm": {
     "name": "#%%\n"
    }
   },
   "outputs": [],
   "source": [
    "import torch\n",
    "import torch.nn as nn\n",
    "import torchvision\n",
    "from torchvision import datasets, transforms\n",
    "import numpy as np\n",
    "import matplotlib.pyplot as plt\n",
    "import random\n",
    "import pandas as pd\n",
    "from tqdm import tqdm"
   ]
  },
  {
   "cell_type": "markdown",
   "metadata": {
    "id": "IdKbqqX9IdRW",
    "pycharm": {
     "name": "#%% md\n"
    }
   },
   "source": [
    "# Computer Excersice 1"
   ]
  },
  {
   "cell_type": "markdown",
   "metadata": {
    "id": "AysBsmEZOq8w",
    "pycharm": {
     "name": "#%% md\n"
    }
   },
   "source": [
    "### (a):"
   ]
  },
  {
   "cell_type": "code",
   "execution_count": 2,
   "metadata": {
    "colab": {
     "base_uri": "https://localhost:8080/",
     "height": 116,
     "referenced_widgets": [
      "0bbf4b48222d4ab08238d43cc7074dbb",
      "0f704a27a5874261914adc7355041729",
      "09176f25c83f4703ac7d74409ac5c510",
      "1fbd763f8b0640bf9b4b55c7929d396b",
      "e9658569f528407d9370d675cfbc32f7",
      "aecae98b0fbb4fc48a1bf5e5e0faee42",
      "6b92abf9634a4f0980b476af6a362b1d",
      "63c92fbb008948efb58b6b47888bb47d",
      "26eaf7e0d4c449e2a1b81033db41b3df",
      "470023eeb2ba4e76ba506bfaff9a08f7",
      "1fa5439bdc3b43b1b1fad4fbca57c583",
      "babc6fbbedc647b5ba9515093eb1fc1e",
      "dd859e7a876440259f144f6a457ba633",
      "c2400aa26e484562848bb98637b90afe",
      "6df3d494ad4a457884e43c1be0fd228c",
      "e314467bdfce4c92b0631eeec069dc97",
      "e856f414fe7846209b106053b228cc58",
      "66b6348bd1784fd5ae3be9da3f39a010",
      "706875f003a447e0b87641aaa8e0578a",
      "9df860c1ae9945d192a8c1fe4bfa6a4b",
      "82a902a9a9ca446da0a207e6a45bdae2",
      "1073fe85dd1342b3ba29ff4d393ffcb8"
     ]
    },
    "id": "MaWxnYVeIX3q",
    "outputId": "b4220041-48f9-4ded-8a2e-b5c82a1b7c06",
    "pycharm": {
     "name": "#%%\n"
    }
   },
   "outputs": [
    {
     "name": "stdout",
     "output_type": "stream",
     "text": [
      "Using downloaded and verified file: ./data\\train_32x32.mat\n",
      "Using downloaded and verified file: ./data\\test_32x32.mat\n"
     ]
    }
   ],
   "source": [
    "transform = transforms.Compose([transforms.ToTensor(),\n",
    "                              transforms.Normalize((0.5, 0.5, 0.5),\n",
    "                                (0.5, 0.5, 0.5))])\n",
    "\n",
    "train_data = torchvision.datasets.SVHN(root='./data', split='train',\n",
    "                                        download=True, transform=transform)\n",
    "\n",
    "test_data = torchvision.datasets.SVHN(root='./data', split='test',\n",
    "                                       download=True, transform=transform)"
   ]
  },
  {
   "cell_type": "markdown",
   "metadata": {
    "id": "5ZaGyWFgO1-O",
    "pycharm": {
     "name": "#%% md\n"
    }
   },
   "source": [
    "### (b):"
   ]
  },
  {
   "cell_type": "code",
   "execution_count": 3,
   "metadata": {
    "id": "m_Oek4NqIfOH",
    "pycharm": {
     "name": "#%%\n"
    }
   },
   "outputs": [],
   "source": [
    "train_size = int(0.8*len(train_data))\n",
    "validation_size = len(train_data) - train_size\n",
    "test_size = len(test_data)\n",
    "\n",
    "train_data, validation_data = torch.utils.data.random_split(train_data,[train_size, validation_size])"
   ]
  },
  {
   "cell_type": "markdown",
   "metadata": {
    "id": "vAdAjK4NQt4A",
    "pycharm": {
     "name": "#%% md\n"
    }
   },
   "source": [
    "### (c):"
   ]
  },
  {
   "cell_type": "code",
   "execution_count": 4,
   "metadata": {
    "id": "2mPIrvM5O4Q-",
    "pycharm": {
     "name": "#%%\n"
    }
   },
   "outputs": [],
   "source": [
    "batch_size = 128\n",
    "\n",
    "train_loader = torch.utils.data.DataLoader(train_data, batch_size=batch_size,\n",
    "                                          shuffle=True, num_workers=2)\n",
    "\n",
    "validation_loader = torch.utils.data.DataLoader(validation_data, batch_size=batch_size,\n",
    "                                         shuffle=False, num_workers=2)\n",
    "\n",
    "test_loader = torch.utils.data.DataLoader(test_data, batch_size=batch_size,\n",
    "                                         shuffle=False, num_workers=2)"
   ]
  },
  {
   "cell_type": "markdown",
   "metadata": {
    "id": "_fHveqH1RKGE",
    "pycharm": {
     "name": "#%% md\n"
    }
   },
   "source": [
    "### (d):"
   ]
  },
  {
   "cell_type": "code",
   "execution_count": 5,
   "metadata": {
    "colab": {
     "base_uri": "https://localhost:8080/",
     "height": 111
    },
    "id": "Cp31sgnMRJR9",
    "outputId": "6b205d4d-e09d-4773-f12f-7115eff9dd6f",
    "pycharm": {
     "name": "#%%\n"
    }
   },
   "outputs": [
    {
     "data": {
      "image/png": "[encoded data removed]",
      "text/plain": [
       "<Figure size 1440x1440 with 10 Axes>"
      ]
     },
     "metadata": {
      "needs_background": "light"
     },
     "output_type": "display_data"
    }
   ],
   "source": [
    "\n",
    "# Get a batch of training data\n",
    "inputs, classes = next(iter(train_loader))\n",
    "\n",
    "# Normalized the iputs from [-1,1] to [0,1] range\n",
    "inputs = inputs.numpy().transpose((0, 2, 3, 1)) / 2 + 0.5\n",
    "\n",
    "fig, axs = plt.subplots(nrows=1, ncols=10, constrained_layout=True, figsize=(20, 20))\n",
    "for i in range(10):\n",
    "  sample_index = random.randint(0, inputs.shape[0])\n",
    "  axs[i].imshow(inputs[sample_index])\n",
    "  axs[i].axis('off')\n",
    "plt.show()"
   ]
  },
  {
   "cell_type": "markdown",
   "metadata": {
    "id": "K3l4AVTViJma",
    "pycharm": {
     "name": "#%% md\n"
    }
   },
   "source": [
    "# Computer Exercise 2"
   ]
  },
  {
   "cell_type": "code",
   "execution_count": 6,
   "metadata": {
    "id": "jM1Aboj-iMZn",
    "pycharm": {
     "name": "#%%\n"
    }
   },
   "outputs": [],
   "source": [
    "def FC(layer1_size=128, layer2_size=64):\n",
    "  return nn.Sequential( nn.Linear(32*32*3, layer1_size),\n",
    "                        nn.Linear(layer1_size, layer2_size),\n",
    "                        nn.ReLU(),\n",
    "                        nn.Linear(layer2_size, 10),\n",
    "                        nn.ReLU())"
   ]
  },
  {
   "cell_type": "code",
   "execution_count": 7,
   "metadata": {
    "id": "xXQbuAGiXycC",
    "pycharm": {
     "name": "#%%\n"
    }
   },
   "outputs": [],
   "source": [
    "def out_size(W, F, S, P):\n",
    "  return ((W-F+2*P) // S) + 1"
   ]
  },
  {
   "cell_type": "code",
   "execution_count": 8,
   "metadata": {
    "id": "-f3zgrtQj9gu",
    "pycharm": {
     "name": "#%%\n"
    }
   },
   "outputs": [],
   "source": [
    "def CNN(kernel=3):\n",
    "  conv1_size= out_size(32, kernel, 1, 1)\n",
    "  out_channels_1 = 10\n",
    "  maxpool1_size = out_size(conv1_size, 2, 2, 0)\n",
    "  conv2_size = out_size(maxpool1_size, kernel, 1, 1)\n",
    "  maxpool2_size = out_size(conv2_size, 2, 2, 0)\n",
    "  out_channels_2 = 20\n",
    "  flatten_size = (maxpool2_size ** 2) * out_channels_2\n",
    "  \n",
    "  return nn.Sequential( nn.Conv2d(in_channels=3, kernel_size=kernel, stride=1,\n",
    "                                  padding=1, out_channels=10),\n",
    "                        nn.ReLU(),\n",
    "                        nn.MaxPool2d(kernel_size=2, stride=2, padding=0),\n",
    "                        nn.Conv2d(in_channels=10, kernel_size=kernel, stride=1,\n",
    "                                  padding=1, out_channels=20),\n",
    "                        nn.ReLU(),\n",
    "                        nn.MaxPool2d(kernel_size=2, stride=2, padding=0),\n",
    "                        nn.Flatten(),\n",
    "                        nn.Linear(flatten_size, 64),\n",
    "                        nn.ReLU(),\n",
    "                        nn.Linear(64,10))"
   ]
  },
  {
   "cell_type": "markdown",
   "metadata": {
    "id": "-eqx-xsfJ1hU",
    "pycharm": {
     "name": "#%% md\n"
    }
   },
   "source": [
    "# Computer Exercise 3"
   ]
  },
  {
   "cell_type": "code",
   "execution_count": 9,
   "metadata": {
    "id": "M7xzBj-NSrDJ",
    "pycharm": {
     "name": "#%%\n"
    }
   },
   "outputs": [],
   "source": [
    "import copy\n",
    "device = torch.device(\"cuda\" if torch.cuda.is_available() else \"cpu\")"
   ]
  },
  {
   "cell_type": "code",
   "execution_count": 10,
   "metadata": {
    "id": "bGqQUyeuWDKN",
    "pycharm": {
     "name": "#%%\n"
    }
   },
   "outputs": [],
   "source": [
    "def train_and_val_model(model, num_epochs=30, lr=0.001, validate=True, fc=True):\n",
    "  criterion = nn.CrossEntropyLoss()\n",
    "  optimizer = torch.optim.Adam(model.parameters(),lr=lr)\n",
    "\n",
    "  train_loss = np.zeros(num_epochs)\n",
    "  train_accu = np.zeros(num_epochs)\n",
    "  val_loss = np.zeros(num_epochs)\n",
    "  val_accu = np.zeros(num_epochs)\n",
    "\n",
    "  model=model.to(device)\n",
    "  \n",
    "  for epoch in tqdm(range(num_epochs), \"Epoch Progress: \"):  # loop over the dataset multiple times\n",
    "    # Train\n",
    "    with torch.enable_grad():\n",
    "      model.train()\n",
    "      running_loss = 0.\n",
    "      correct_predictions = 0.\n",
    "      for i, (inputs, labels) in enumerate(train_loader, 0):\n",
    "        # zero the parameter gradients\n",
    "        optimizer.zero_grad()\n",
    "        # load to device\n",
    "        inputs = inputs.to(device)\n",
    "        labels = labels.to(device)\n",
    "        if fc:\n",
    "          inputs = inputs.view(inputs.shape[0], -1)\n",
    "        # forward + backward + optimize\n",
    "        outputs = model(inputs)\n",
    "        loss = criterion(outputs, labels)\n",
    "        loss.backward()\n",
    "        optimizer.step()\n",
    "        running_loss += loss.item() * inputs.size(0)\n",
    "        correct_predictions += torch.sum(torch.argmax(outputs,dim=1) == labels.data)\n",
    "\n",
    "      # get train statistics per epoch\n",
    "      train_loss[epoch] = (running_loss / train_size)\n",
    "      train_accu[epoch] = (correct_predictions / train_size)\n",
    "    \n",
    "    # Validate\n",
    "    if validate:\n",
    "      with torch.no_grad():\n",
    "        model.eval()\n",
    "        running_loss = 0.\n",
    "        correct_predictions = 0.\n",
    "        for i, (inputs, labels) in enumerate(validation_loader, 0):\n",
    "          # load to device\n",
    "          inputs = inputs.to(device)\n",
    "          labels = labels.to(device)\n",
    "          if fc:\n",
    "            inputs = inputs.view(inputs.shape[0], -1)\n",
    "          # forward\n",
    "          outputs = model(inputs)\n",
    "          loss = criterion(outputs, labels)\n",
    "          running_loss += loss.item() * inputs.size(0)\n",
    "          correct_predictions += torch.sum(torch.argmax(outputs,dim=1) == labels.data)\n",
    "\n",
    "        # get validation statistics per epoch\n",
    "        val_loss[epoch] = (running_loss / validation_size)\n",
    "        val_accu[epoch] = (correct_predictions / validation_size)\n",
    "\n",
    "  return model, train_loss, train_accu, val_loss, val_accu"
   ]
  },
  {
   "cell_type": "markdown",
   "metadata": {
    "id": "-4-nRUKckGub",
    "pycharm": {
     "name": "#%% md\n"
    }
   },
   "source": [
    "# Computer Exercise 4\n"
   ]
  },
  {
   "cell_type": "code",
   "execution_count": 11,
   "metadata": {
    "pycharm": {
     "name": "#%%\n"
    }
   },
   "outputs": [],
   "source": [
    "def print_loss_accu(train_loss, train_accu, val_loss, val_accu) :\n",
    "  fig, (loss_ax, accu_ax) = plt.subplots(nrows=1, ncols=2)\n",
    "\n",
    "  loss_ax.set_xlabel(\"Epochs\")\n",
    "  loss_ax.set_ylabel(\"Loss\")\n",
    "  loss_ax.plot(range(30), train_loss, label=\"train loss\")\n",
    "  loss_ax.plot(range(30), val_loss, label=\"validation loss\")\n",
    "  loss_ax.set_title(\"Train and Validation\\nLoss Comparison\")\n",
    "  loss_ax.legend()\n",
    "\n",
    "  accu_ax.set_xlabel(\"Epochs\")\n",
    "  accu_ax.set_ylabel(\"Accuracy\")\n",
    "  accu_ax.plot(range(30), train_accu, label=\"train accuracy\")\n",
    "  accu_ax.plot(range(30), val_accu, label=\"validation accuracy\")\n",
    "  accu_ax.set_title(\"Train and Validation\\nAccuracy Comparison\")\n",
    "  accu_ax.legend()\n",
    "\n",
    "  fig.tight_layout()\n",
    "  res = pd.DataFrame([[train_loss[-1], val_loss[-1]],[train_accu[-1], val_accu[-1]]], index=[\"Loss\", \"Accuracy\"], columns=[\"Train\", \"Validation\"])\n",
    "  print(f\"\\n{res}\\n\")"
   ]
  },
  {
   "cell_type": "markdown",
   "metadata": {
    "pycharm": {
     "name": "#%% md\n"
    }
   },
   "source": [
    "## FC Model"
   ]
  },
  {
   "cell_type": "markdown",
   "metadata": {
    "pycharm": {
     "name": "#%% md\n"
    }
   },
   "source": [
    "**default - layers (128, 64)**"
   ]
  },
  {
   "cell_type": "code",
   "execution_count": 12,
   "metadata": {
    "pycharm": {
     "name": "#%%\n"
    }
   },
   "outputs": [
    {
     "name": "stderr",
     "output_type": "stream",
     "text": [
      "Epoch Progress:   7%|▋         | 2/30 [00:51<11:58, 25.65s/it]\n"
     ]
    },
    {
     "ename": "KeyboardInterrupt",
     "evalue": "",
     "output_type": "error",
     "traceback": [
      "\u001b[1;31m---------------------------------------------------------------------------\u001b[0m",
      "\u001b[1;31mKeyboardInterrupt\u001b[0m                         Traceback (most recent call last)",
      "Input \u001b[1;32mIn [12]\u001b[0m, in \u001b[0;36m<cell line: 1>\u001b[1;34m()\u001b[0m\n\u001b[1;32m----> 1\u001b[0m fc_1_model, fc_train_loss, fc_train_accu, fc_val_loss, fc_val_accu \u001b[38;5;241m=\u001b[39m \u001b[43mtrain_and_val_model\u001b[49m\u001b[43m(\u001b[49m\u001b[43mFC\u001b[49m\u001b[43m(\u001b[49m\u001b[43m)\u001b[49m\u001b[43m)\u001b[49m\n\u001b[0;32m      2\u001b[0m print_loss_accu(fc_train_loss, fc_train_accu, fc_val_loss, fc_val_accu)\n",
      "Input \u001b[1;32mIn [10]\u001b[0m, in \u001b[0;36mtrain_and_val_model\u001b[1;34m(model, num_epochs, lr, validate, fc)\u001b[0m\n\u001b[0;32m     30\u001b[0m   optimizer\u001b[38;5;241m.\u001b[39mstep()\n\u001b[0;32m     31\u001b[0m   running_loss \u001b[38;5;241m+\u001b[39m\u001b[38;5;241m=\u001b[39m loss\u001b[38;5;241m.\u001b[39mitem() \u001b[38;5;241m*\u001b[39m inputs\u001b[38;5;241m.\u001b[39msize(\u001b[38;5;241m0\u001b[39m)\n\u001b[1;32m---> 32\u001b[0m   correct_predictions \u001b[38;5;241m+\u001b[39m\u001b[38;5;241m=\u001b[39m \u001b[43mtorch\u001b[49m\u001b[38;5;241;43m.\u001b[39;49m\u001b[43msum\u001b[49m\u001b[43m(\u001b[49m\u001b[43mtorch\u001b[49m\u001b[38;5;241;43m.\u001b[39;49m\u001b[43margmax\u001b[49m\u001b[43m(\u001b[49m\u001b[43moutputs\u001b[49m\u001b[43m,\u001b[49m\u001b[43mdim\u001b[49m\u001b[38;5;241;43m=\u001b[39;49m\u001b[38;5;241;43m1\u001b[39;49m\u001b[43m)\u001b[49m\u001b[43m \u001b[49m\u001b[38;5;241;43m==\u001b[39;49m\u001b[43m \u001b[49m\u001b[43mlabels\u001b[49m\u001b[38;5;241;43m.\u001b[39;49m\u001b[43mdata\u001b[49m\u001b[43m)\u001b[49m\n\u001b[0;32m     34\u001b[0m \u001b[38;5;66;03m# get train statistics per epoch\u001b[39;00m\n\u001b[0;32m     35\u001b[0m train_loss[epoch] \u001b[38;5;241m=\u001b[39m (running_loss \u001b[38;5;241m/\u001b[39m train_size)\n",
      "\u001b[1;31mKeyboardInterrupt\u001b[0m: "
     ]
    }
   ],
   "source": [
    "fc_1_model, fc_train_loss, fc_train_accu, fc_val_loss, fc_val_accu = train_and_val_model(FC())\n",
    "print_loss_accu(fc_train_loss, fc_train_accu, fc_val_loss, fc_val_accu)"
   ]
  },
  {
   "cell_type": "code",
   "execution_count": 13,
   "metadata": {},
   "outputs": [
    {
     "data": {
      "text/plain": [
       "True"
      ]
     },
     "execution_count": 13,
     "metadata": {},
     "output_type": "execute_result"
    }
   ],
   "source": [
    "torch.cuda.is_available()"
   ]
  },
  {
   "cell_type": "markdown",
   "metadata": {
    "pycharm": {
     "name": "#%% md\n"
    }
   },
   "source": [
    "**layers (512, 256)**\n"
   ]
  },
  {
   "cell_type": "code",
   "execution_count": null,
   "metadata": {
    "pycharm": {
     "name": "#%%\n"
    }
   },
   "outputs": [],
   "source": [
    "fc_2_model, fc_train_loss, fc_train_accu, fc_val_loss, fc_val_accu = train_and_val_model(FC(512, 256))\n",
    "print_loss_accu(fc_train_loss, fc_train_accu, fc_val_loss, fc_val_accu)"
   ]
  },
  {
   "cell_type": "markdown",
   "metadata": {
    "pycharm": {
     "name": "#%% md\n"
    }
   },
   "source": [
    "**layers (64, 32)**\n"
   ]
  },
  {
   "cell_type": "code",
   "execution_count": null,
   "metadata": {
    "pycharm": {
     "name": "#%%\n"
    }
   },
   "outputs": [],
   "source": [
    "fc_3_model, fc_train_loss, fc_train_accu, fc_val_loss, fc_val_accu = train_and_val_model(FC(64, 32))\n",
    "print_loss_accu(fc_train_loss, fc_train_accu, fc_val_loss, fc_val_accu)"
   ]
  },
  {
   "cell_type": "markdown",
   "metadata": {
    "pycharm": {
     "name": "#%% md\n"
    }
   },
   "source": [
    "## CNN Model"
   ]
  },
  {
   "cell_type": "markdown",
   "metadata": {
    "pycharm": {
     "name": "#%% md\n"
    }
   },
   "source": [
    "**default - kernel (3)**"
   ]
  },
  {
   "cell_type": "code",
   "execution_count": null,
   "metadata": {
    "pycharm": {
     "name": "#%%\n"
    }
   },
   "outputs": [],
   "source": [
    "cnn_1_model, cnn_train_loss, cnn_train_accu, cnn_val_loss, cnn_val_accu = train_and_val_model(CNN(), fc=False)\n",
    "print_loss_accu(cnn_train_loss, cnn_train_accu, cnn_val_loss, cnn_val_accu)"
   ]
  },
  {
   "cell_type": "markdown",
   "metadata": {
    "pycharm": {
     "name": "#%% md\n"
    }
   },
   "source": [
    "**kernel (10)**"
   ]
  },
  {
   "cell_type": "code",
   "execution_count": null,
   "metadata": {
    "pycharm": {
     "name": "#%%\n"
    }
   },
   "outputs": [],
   "source": [
    "cnn_2_model, cnn_train_loss, cnn_train_accu, cnn_val_loss, cnn_val_accu = train_and_val_model(CNN(10), fc=False)\n",
    "print_loss_accu(cnn_train_loss, cnn_train_accu, cnn_val_loss, cnn_val_accu)"
   ]
  },
  {
   "cell_type": "markdown",
   "metadata": {
    "pycharm": {
     "name": "#%% md\n"
    }
   },
   "source": [
    "**kernel (1)**"
   ]
  },
  {
   "cell_type": "code",
   "execution_count": null,
   "metadata": {
    "pycharm": {
     "name": "#%%\n"
    }
   },
   "outputs": [],
   "source": [
    "cnn_3_model, cnn_train_loss, cnn_train_accu, cnn_val_loss, cnn_val_accu = train_and_val_model(CNN(1), fc=False)\n",
    "print_loss_accu(cnn_train_loss, cnn_train_accu, cnn_val_loss, cnn_val_accu)"
   ]
  },
  {
   "cell_type": "markdown",
   "metadata": {
    "pycharm": {
     "name": "#%% md\n"
    }
   },
   "source": [
    "# Problem 1"
   ]
  },
  {
   "cell_type": "markdown",
   "metadata": {
    "pycharm": {
     "name": "#%% md\n"
    }
   },
   "source": [
    "The findings are represented above each graph.\n",
    "The architecture that performs the best on the validation set is CNN with kernel size 10.\n",
    "We can notice from the findings that the Net is overfitting, since the train accuracy is higher than the validation accuracy.\n",
    "The model succeeds in a good manner on the test set (accuracy = 0.911270), but it was less accurate for the vaidation set (accuracy = 0.888684)"
   ]
  },
  {
   "cell_type": "markdown",
   "metadata": {
    "pycharm": {
     "name": "#%% md\n"
    }
   },
   "source": [
    "# Computer Exercise 5\n"
   ]
  },
  {
   "cell_type": "code",
   "execution_count": null,
   "metadata": {
    "pycharm": {
     "name": "#%%\n"
    }
   },
   "outputs": [],
   "source": [
    "test_loss = np.zeros(30)\n",
    "test_accu = np.zeros(30)\n",
    "num_epochs = 30\n",
    "criterion = nn.CrossEntropyLoss()"
   ]
  },
  {
   "cell_type": "code",
   "execution_count": null,
   "metadata": {
    "pycharm": {
     "name": "#%%\n"
    }
   },
   "outputs": [],
   "source": [
    "with torch.no_grad():\n",
    "  cnn_2_model.eval()\n",
    "  running_loss = 0.\n",
    "  correct_predictions = 0.\n",
    "  for i, (inputs, labels) in enumerate(test_loader, 0):\n",
    "    # load to device\n",
    "    inputs = inputs.to(device)\n",
    "    labels = labels.to(device)\n",
    "    # forward\n",
    "    outputs = cnn_2_model(inputs)\n",
    "    loss = criterion(outputs, labels)\n",
    "    running_loss += loss.item() * inputs.size(0)\n",
    "    correct_predictions += torch.sum(torch.argmax(outputs,dim=1) == labels.data)\n",
    "    \n",
    "  test_loss = (running_loss / test_size)\n",
    "  test_accu = (correct_predictions.item() / test_size)\n",
    "\n",
    "res = pd.DataFrame([[test_loss],[test_accu]], index=[\"Loss\", \"Accuracy\"], columns=[\"Test\"])\n",
    "print(res)"
   ]
  },
  {
   "cell_type": "markdown",
   "metadata": {
    "pycharm": {
     "name": "#%% md\n"
    }
   },
   "source": [
    "# Problem 2"
   ]
  },
  {
   "cell_type": "markdown",
   "metadata": {
    "pycharm": {
     "name": "#%% md\n"
    }
   },
   "source": [
    "it is not guaranteed that the model we chose based on the validation set will give the best performance on the test set, since the validation set is different from the test set. However, we make the assumption that both sets are drawned from an identical distribution. That is why we expect the best modell on the validation set to be the best model on any other set (including the test set)."
   ]
  },
  {
   "cell_type": "markdown",
   "metadata": {
    "pycharm": {
     "name": "#%% md\n"
    }
   },
   "source": [
    "# Computer Exercise 6"
   ]
  },
  {
   "cell_type": "markdown",
   "metadata": {
    "pycharm": {
     "name": "#%% md\n"
    }
   },
   "source": [
    "We chose to finetune the pre-trained ResNet-18 model:"
   ]
  },
  {
   "cell_type": "code",
   "execution_count": null,
   "metadata": {
    "pycharm": {
     "name": "#%%\n"
    }
   },
   "outputs": [],
   "source": [
    "def FT_RN_18():\n",
    "  resNet_model = torchvision.models.resnet18(pretrained=True)\n",
    "\n",
    "  # finetuning\n",
    "  in_features = resNet_model.fc.in_features\n",
    "  resNet_model.fc = nn.Linear(in_features, 10)\n",
    "\n",
    "  return resNet_model"
   ]
  },
  {
   "cell_type": "code",
   "execution_count": null,
   "metadata": {
    "pycharm": {
     "name": "#%%\n"
    }
   },
   "outputs": [],
   "source": [
    "resNet_model, train_loss, train_accu, val_loss, val_accu = train_and_val_model(FT_RN_18(), fc=False)\n",
    "print_loss_accu(train_loss, train_accu, val_loss, val_accu)"
   ]
  },
  {
   "cell_type": "markdown",
   "metadata": {
    "pycharm": {
     "name": "#%% md\n"
    }
   },
   "source": [
    "# Problem 3"
   ]
  },
  {
   "cell_type": "markdown",
   "metadata": {
    "pycharm": {
     "name": "#%% md\n"
    }
   },
   "source": [
    "As mentioned before we chose to finetune the pre-trained ResNet-18 model. According to our knowledge, in the ResNet-18 model the first layers have already learned how to recognize simple shapes in an image, such as straight and curved lines, corners, etc. Hence, the majority of the work has already been done in the pre-trained Net."
   ]
  },
  {
   "cell_type": "markdown",
   "metadata": {
    "pycharm": {
     "name": "#%% md\n"
    }
   },
   "source": [
    "# Problem 4"
   ]
  },
  {
   "cell_type": "markdown",
   "metadata": {
    "pycharm": {
     "name": "#%% md\n"
    }
   },
   "source": [
    "The finetuned ResNet-18 model has better acuuracy than the previous CNN and FC models although it recieved higher loss. Our best findings for each Net on the vllidation set is as follows:"
   ]
  },
  {
   "cell_type": "markdown",
   "metadata": {
    "pycharm": {
     "name": "#%% md\n"
    }
   },
   "source": [
    "| Valildation| FC       | CNN      | FT-RN-18 |\n",
    "|:--------:|:--------:|:--------:|:--------:|\n",
    "| Loss     | 0.604458 | 0.399554 | 0.421862 |\n",
    "| Accuracy | 0.833879 | 0.888684 | 0.927723 |"
   ]
  },
  {
   "cell_type": "markdown",
   "metadata": {
    "pycharm": {
     "name": "#%% md\n"
    }
   },
   "source": [
    "We speculate that the performance increased in FT-RN-18 since the depth of it is much larger (18 layers). Also, the FT-RN-18 has been already trained with many examples from ImageNet dataset (more than 1 million images!). The dataset images contains many shapes (as lines and corners), that we can exploit for classifing the SVHN dataset."
   ]
  },
  {
   "cell_type": "markdown",
   "metadata": {
    "pycharm": {
     "name": "#%% md\n"
    }
   },
   "source": [
    "# Problem 5"
   ]
  },
  {
   "cell_type": "code",
   "execution_count": null,
   "metadata": {
    "pycharm": {
     "name": "#%%\n"
    }
   },
   "outputs": [],
   "source": [
    "lrs = [1E-8, 1E-6, 1E-5, 1E-4, 1E-3, 1E-2, 1E-0]\n",
    "best_loss = np.infty\n",
    "\n",
    "for lr in lrs:\n",
    "  _, train_loss, _, _, _ = train_and_val_model(FT_RN_18(), lr=lr, validate=False, fc=False)\n",
    "  if train_loss[-1] < best_loss:\n",
    "    best_loss = train_loss[-1]\n",
    "    best_lr = lr\n",
    "  plt.plot(range(num_epochs), train_loss, label=('lr='+str(lr)))\n",
    "plt.title('Train Loss\\nLearning Rate Comparison')\n",
    "plt.xlabel('Epochs')\n",
    "plt.ylabel('Loss')\n",
    "plt.legend()\n",
    "\n",
    "print(f\"\\nBest  learning rate is: {best_lr}\\nRecieved loss: {best_loss}\\n\")"
   ]
  },
  {
   "cell_type": "markdown",
   "metadata": {
    "pycharm": {
     "name": "#%% md\n"
    }
   },
   "source": [
    "From our testing we see that the best loss was recieved with learning rate = 0.001. Bigger or smaller learning rates caused the loss to increase. For the larger learning rate, the reason for this behaviour can be explained because the step in each gradient diraction step is too big, and therefore, \"overshoot\" the desired minimum and cause the model difficulties in convergness. For too small learning rate, the steps in each iteration are too small and makes the model learning not effective and long lasting, so in 30 epochs we won't get fast enough to the minimum as in more larger learnign rates."
   ]
  },
  {
   "cell_type": "markdown",
   "metadata": {},
   "source": [
    "From our testing we see that the best loss was recieved with learning rate = 0.001. Bigger or smaller learning rates caused the loss to increase. For the larger learning rate, the reason for this behaviour can be explained because the step in each gradient diraction step is too big, and therefore, \"overshoot\" the desired minimum and cause the model difficulties in convergness. For too small learning rate, the steps in each iteration are too small and makes the model learning not effective and long lasting, so in 30 epochs we won't get fast enough to the minimum as in more larger learnign rates."
   ]
  }
 ],
 "metadata": {
  "accelerator": "GPU",
  "colab": {
   "collapsed_sections": [],
   "name": "GMDL_HW5.ipynb",
   "provenance": []
  },
  "gpuClass": "standard",
  "kernelspec": {
   "display_name": "Python 3 (ipykernel)",
   "language": "python",
   "name": "python3"
  },
  "language_info": {
   "codemirror_mode": {
    "name": "ipython",
    "version": 3
   },
   "file_extension": ".py",
   "mimetype": "text/x-python",
   "name": "python",
   "nbconvert_exporter": "python",
   "pygments_lexer": "ipython3",
   "version": "3.9.12"
  },
  "widgets": {
   "application/vnd.jupyter.widget-state+json": {
    "09176f25c83f4703ac7d74409ac5c510": {
     "model_module": "@jupyter-widgets/controls",
     "model_module_version": "1.5.0",
     "model_name": "FloatProgressModel",
     "state": {
      "_dom_classes": [],
      "_model_module": "@jupyter-widgets/controls",
      "_model_module_version": "1.5.0",
      "_model_name": "FloatProgressModel",
      "_view_count": null,
      "_view_module": "@jupyter-widgets/controls",
      "_view_module_version": "1.5.0",
      "_view_name": "ProgressView",
      "bar_style": "success",
      "description": "",
      "description_tooltip": null,
      "layout": "IPY_MODEL_63c92fbb008948efb58b6b47888bb47d",
      "max": 182040794,
      "min": 0,
      "orientation": "horizontal",
      "style": "IPY_MODEL_26eaf7e0d4c449e2a1b81033db41b3df",
      "value": 182040794
     }
    },
    "0bbf4b48222d4ab08238d43cc7074dbb": {
     "model_module": "@jupyter-widgets/controls",
     "model_module_version": "1.5.0",
     "model_name": "HBoxModel",
     "state": {
      "_dom_classes": [],
      "_model_module": "@jupyter-widgets/controls",
      "_model_module_version": "1.5.0",
      "_model_name": "HBoxModel",
      "_view_count": null,
      "_view_module": "@jupyter-widgets/controls",
      "_view_module_version": "1.5.0",
      "_view_name": "HBoxView",
      "box_style": "",
      "children": [
       "IPY_MODEL_0f704a27a5874261914adc7355041729",
       "IPY_MODEL_09176f25c83f4703ac7d74409ac5c510",
       "IPY_MODEL_1fbd763f8b0640bf9b4b55c7929d396b"
      ],
      "layout": "IPY_MODEL_e9658569f528407d9370d675cfbc32f7"
     }
    },
    "0f704a27a5874261914adc7355041729": {
     "model_module": "@jupyter-widgets/controls",
     "model_module_version": "1.5.0",
     "model_name": "HTMLModel",
     "state": {
      "_dom_classes": [],
      "_model_module": "@jupyter-widgets/controls",
      "_model_module_version": "1.5.0",
      "_model_name": "HTMLModel",
      "_view_count": null,
      "_view_module": "@jupyter-widgets/controls",
      "_view_module_version": "1.5.0",
      "_view_name": "HTMLView",
      "description": "",
      "description_tooltip": null,
      "layout": "IPY_MODEL_aecae98b0fbb4fc48a1bf5e5e0faee42",
      "placeholder": "​",
      "style": "IPY_MODEL_6b92abf9634a4f0980b476af6a362b1d",
      "value": ""
     }
    },
    "1073fe85dd1342b3ba29ff4d393ffcb8": {
     "model_module": "@jupyter-widgets/controls",
     "model_module_version": "1.5.0",
     "model_name": "DescriptionStyleModel",
     "state": {
      "_model_module": "@jupyter-widgets/controls",
      "_model_module_version": "1.5.0",
      "_model_name": "DescriptionStyleModel",
      "_view_count": null,
      "_view_module": "@jupyter-widgets/base",
      "_view_module_version": "1.2.0",
      "_view_name": "StyleView",
      "description_width": ""
     }
    },
    "1fa5439bdc3b43b1b1fad4fbca57c583": {
     "model_module": "@jupyter-widgets/controls",
     "model_module_version": "1.5.0",
     "model_name": "DescriptionStyleModel",
     "state": {
      "_model_module": "@jupyter-widgets/controls",
      "_model_module_version": "1.5.0",
      "_model_name": "DescriptionStyleModel",
      "_view_count": null,
      "_view_module": "@jupyter-widgets/base",
      "_view_module_version": "1.2.0",
      "_view_name": "StyleView",
      "description_width": ""
     }
    },
    "1fbd763f8b0640bf9b4b55c7929d396b": {
     "model_module": "@jupyter-widgets/controls",
     "model_module_version": "1.5.0",
     "model_name": "HTMLModel",
     "state": {
      "_dom_classes": [],
      "_model_module": "@jupyter-widgets/controls",
      "_model_module_version": "1.5.0",
      "_model_name": "HTMLModel",
      "_view_count": null,
      "_view_module": "@jupyter-widgets/controls",
      "_view_module_version": "1.5.0",
      "_view_name": "HTMLView",
      "description": "",
      "description_tooltip": null,
      "layout": "IPY_MODEL_470023eeb2ba4e76ba506bfaff9a08f7",
      "placeholder": "​",
      "style": "IPY_MODEL_1fa5439bdc3b43b1b1fad4fbca57c583",
      "value": " 182041600/? [00:03&lt;00:00, 70335631.63it/s]"
     }
    },
    "26eaf7e0d4c449e2a1b81033db41b3df": {
     "model_module": "@jupyter-widgets/controls",
     "model_module_version": "1.5.0",
     "model_name": "ProgressStyleModel",
     "state": {
      "_model_module": "@jupyter-widgets/controls",
      "_model_module_version": "1.5.0",
      "_model_name": "ProgressStyleModel",
      "_view_count": null,
      "_view_module": "@jupyter-widgets/base",
      "_view_module_version": "1.2.0",
      "_view_name": "StyleView",
      "bar_color": null,
      "description_width": ""
     }
    },
    "470023eeb2ba4e76ba506bfaff9a08f7": {
     "model_module": "@jupyter-widgets/base",
     "model_module_version": "1.2.0",
     "model_name": "LayoutModel",
     "state": {
      "_model_module": "@jupyter-widgets/base",
      "_model_module_version": "1.2.0",
      "_model_name": "LayoutModel",
      "_view_count": null,
      "_view_module": "@jupyter-widgets/base",
      "_view_module_version": "1.2.0",
      "_view_name": "LayoutView",
      "align_content": null,
      "align_items": null,
      "align_self": null,
      "border": null,
      "bottom": null,
      "display": null,
      "flex": null,
      "flex_flow": null,
      "grid_area": null,
      "grid_auto_columns": null,
      "grid_auto_flow": null,
      "grid_auto_rows": null,
      "grid_column": null,
      "grid_gap": null,
      "grid_row": null,
      "grid_template_areas": null,
      "grid_template_columns": null,
      "grid_template_rows": null,
      "height": null,
      "justify_content": null,
      "justify_items": null,
      "left": null,
      "margin": null,
      "max_height": null,
      "max_width": null,
      "min_height": null,
      "min_width": null,
      "object_fit": null,
      "object_position": null,
      "order": null,
      "overflow": null,
      "overflow_x": null,
      "overflow_y": null,
      "padding": null,
      "right": null,
      "top": null,
      "visibility": null,
      "width": null
     }
    },
    "63c92fbb008948efb58b6b47888bb47d": {
     "model_module": "@jupyter-widgets/base",
     "model_module_version": "1.2.0",
     "model_name": "LayoutModel",
     "state": {
      "_model_module": "@jupyter-widgets/base",
      "_model_module_version": "1.2.0",
      "_model_name": "LayoutModel",
      "_view_count": null,
      "_view_module": "@jupyter-widgets/base",
      "_view_module_version": "1.2.0",
      "_view_name": "LayoutView",
      "align_content": null,
      "align_items": null,
      "align_self": null,
      "border": null,
      "bottom": null,
      "display": null,
      "flex": null,
      "flex_flow": null,
      "grid_area": null,
      "grid_auto_columns": null,
      "grid_auto_flow": null,
      "grid_auto_rows": null,
      "grid_column": null,
      "grid_gap": null,
      "grid_row": null,
      "grid_template_areas": null,
      "grid_template_columns": null,
      "grid_template_rows": null,
      "height": null,
      "justify_content": null,
      "justify_items": null,
      "left": null,
      "margin": null,
      "max_height": null,
      "max_width": null,
      "min_height": null,
      "min_width": null,
      "object_fit": null,
      "object_position": null,
      "order": null,
      "overflow": null,
      "overflow_x": null,
      "overflow_y": null,
      "padding": null,
      "right": null,
      "top": null,
      "visibility": null,
      "width": null
     }
    },
    "66b6348bd1784fd5ae3be9da3f39a010": {
     "model_module": "@jupyter-widgets/controls",
     "model_module_version": "1.5.0",
     "model_name": "DescriptionStyleModel",
     "state": {
      "_model_module": "@jupyter-widgets/controls",
      "_model_module_version": "1.5.0",
      "_model_name": "DescriptionStyleModel",
      "_view_count": null,
      "_view_module": "@jupyter-widgets/base",
      "_view_module_version": "1.2.0",
      "_view_name": "StyleView",
      "description_width": ""
     }
    },
    "6b92abf9634a4f0980b476af6a362b1d": {
     "model_module": "@jupyter-widgets/controls",
     "model_module_version": "1.5.0",
     "model_name": "DescriptionStyleModel",
     "state": {
      "_model_module": "@jupyter-widgets/controls",
      "_model_module_version": "1.5.0",
      "_model_name": "DescriptionStyleModel",
      "_view_count": null,
      "_view_module": "@jupyter-widgets/base",
      "_view_module_version": "1.2.0",
      "_view_name": "StyleView",
      "description_width": ""
     }
    },
    "6df3d494ad4a457884e43c1be0fd228c": {
     "model_module": "@jupyter-widgets/controls",
     "model_module_version": "1.5.0",
     "model_name": "HTMLModel",
     "state": {
      "_dom_classes": [],
      "_model_module": "@jupyter-widgets/controls",
      "_model_module_version": "1.5.0",
      "_model_name": "HTMLModel",
      "_view_count": null,
      "_view_module": "@jupyter-widgets/controls",
      "_view_module_version": "1.5.0",
      "_view_name": "HTMLView",
      "description": "",
      "description_tooltip": null,
      "layout": "IPY_MODEL_82a902a9a9ca446da0a207e6a45bdae2",
      "placeholder": "​",
      "style": "IPY_MODEL_1073fe85dd1342b3ba29ff4d393ffcb8",
      "value": " 64275456/? [00:02&lt;00:00, 28595945.41it/s]"
     }
    },
    "706875f003a447e0b87641aaa8e0578a": {
     "model_module": "@jupyter-widgets/base",
     "model_module_version": "1.2.0",
     "model_name": "LayoutModel",
     "state": {
      "_model_module": "@jupyter-widgets/base",
      "_model_module_version": "1.2.0",
      "_model_name": "LayoutModel",
      "_view_count": null,
      "_view_module": "@jupyter-widgets/base",
      "_view_module_version": "1.2.0",
      "_view_name": "LayoutView",
      "align_content": null,
      "align_items": null,
      "align_self": null,
      "border": null,
      "bottom": null,
      "display": null,
      "flex": null,
      "flex_flow": null,
      "grid_area": null,
      "grid_auto_columns": null,
      "grid_auto_flow": null,
      "grid_auto_rows": null,
      "grid_column": null,
      "grid_gap": null,
      "grid_row": null,
      "grid_template_areas": null,
      "grid_template_columns": null,
      "grid_template_rows": null,
      "height": null,
      "justify_content": null,
      "justify_items": null,
      "left": null,
      "margin": null,
      "max_height": null,
      "max_width": null,
      "min_height": null,
      "min_width": null,
      "object_fit": null,
      "object_position": null,
      "order": null,
      "overflow": null,
      "overflow_x": null,
      "overflow_y": null,
      "padding": null,
      "right": null,
      "top": null,
      "visibility": null,
      "width": null
     }
    },
    "82a902a9a9ca446da0a207e6a45bdae2": {
     "model_module": "@jupyter-widgets/base",
     "model_module_version": "1.2.0",
     "model_name": "LayoutModel",
     "state": {
      "_model_module": "@jupyter-widgets/base",
      "_model_module_version": "1.2.0",
      "_model_name": "LayoutModel",
      "_view_count": null,
      "_view_module": "@jupyter-widgets/base",
      "_view_module_version": "1.2.0",
      "_view_name": "LayoutView",
      "align_content": null,
      "align_items": null,
      "align_self": null,
      "border": null,
      "bottom": null,
      "display": null,
      "flex": null,
      "flex_flow": null,
      "grid_area": null,
      "grid_auto_columns": null,
      "grid_auto_flow": null,
      "grid_auto_rows": null,
      "grid_column": null,
      "grid_gap": null,
      "grid_row": null,
      "grid_template_areas": null,
      "grid_template_columns": null,
      "grid_template_rows": null,
      "height": null,
      "justify_content": null,
      "justify_items": null,
      "left": null,
      "margin": null,
      "max_height": null,
      "max_width": null,
      "min_height": null,
      "min_width": null,
      "object_fit": null,
      "object_position": null,
      "order": null,
      "overflow": null,
      "overflow_x": null,
      "overflow_y": null,
      "padding": null,
      "right": null,
      "top": null,
      "visibility": null,
      "width": null
     }
    },
    "9df860c1ae9945d192a8c1fe4bfa6a4b": {
     "model_module": "@jupyter-widgets/controls",
     "model_module_version": "1.5.0",
     "model_name": "ProgressStyleModel",
     "state": {
      "_model_module": "@jupyter-widgets/controls",
      "_model_module_version": "1.5.0",
      "_model_name": "ProgressStyleModel",
      "_view_count": null,
      "_view_module": "@jupyter-widgets/base",
      "_view_module_version": "1.2.0",
      "_view_name": "StyleView",
      "bar_color": null,
      "description_width": ""
     }
    },
    "aecae98b0fbb4fc48a1bf5e5e0faee42": {
     "model_module": "@jupyter-widgets/base",
     "model_module_version": "1.2.0",
     "model_name": "LayoutModel",
     "state": {
      "_model_module": "@jupyter-widgets/base",
      "_model_module_version": "1.2.0",
      "_model_name": "LayoutModel",
      "_view_count": null,
      "_view_module": "@jupyter-widgets/base",
      "_view_module_version": "1.2.0",
      "_view_name": "LayoutView",
      "align_content": null,
      "align_items": null,
      "align_self": null,
      "border": null,
      "bottom": null,
      "display": null,
      "flex": null,
      "flex_flow": null,
      "grid_area": null,
      "grid_auto_columns": null,
      "grid_auto_flow": null,
      "grid_auto_rows": null,
      "grid_column": null,
      "grid_gap": null,
      "grid_row": null,
      "grid_template_areas": null,
      "grid_template_columns": null,
      "grid_template_rows": null,
      "height": null,
      "justify_content": null,
      "justify_items": null,
      "left": null,
      "margin": null,
      "max_height": null,
      "max_width": null,
      "min_height": null,
      "min_width": null,
      "object_fit": null,
      "object_position": null,
      "order": null,
      "overflow": null,
      "overflow_x": null,
      "overflow_y": null,
      "padding": null,
      "right": null,
      "top": null,
      "visibility": null,
      "width": null
     }
    },
    "babc6fbbedc647b5ba9515093eb1fc1e": {
     "model_module": "@jupyter-widgets/controls",
     "model_module_version": "1.5.0",
     "model_name": "HBoxModel",
     "state": {
      "_dom_classes": [],
      "_model_module": "@jupyter-widgets/controls",
      "_model_module_version": "1.5.0",
      "_model_name": "HBoxModel",
      "_view_count": null,
      "_view_module": "@jupyter-widgets/controls",
      "_view_module_version": "1.5.0",
      "_view_name": "HBoxView",
      "box_style": "",
      "children": [
       "IPY_MODEL_dd859e7a876440259f144f6a457ba633",
       "IPY_MODEL_c2400aa26e484562848bb98637b90afe",
       "IPY_MODEL_6df3d494ad4a457884e43c1be0fd228c"
      ],
      "layout": "IPY_MODEL_e314467bdfce4c92b0631eeec069dc97"
     }
    },
    "c2400aa26e484562848bb98637b90afe": {
     "model_module": "@jupyter-widgets/controls",
     "model_module_version": "1.5.0",
     "model_name": "FloatProgressModel",
     "state": {
      "_dom_classes": [],
      "_model_module": "@jupyter-widgets/controls",
      "_model_module_version": "1.5.0",
      "_model_name": "FloatProgressModel",
      "_view_count": null,
      "_view_module": "@jupyter-widgets/controls",
      "_view_module_version": "1.5.0",
      "_view_name": "ProgressView",
      "bar_style": "success",
      "description": "",
      "description_tooltip": null,
      "layout": "IPY_MODEL_706875f003a447e0b87641aaa8e0578a",
      "max": 64275384,
      "min": 0,
      "orientation": "horizontal",
      "style": "IPY_MODEL_9df860c1ae9945d192a8c1fe4bfa6a4b",
      "value": 64275384
     }
    },
    "dd859e7a876440259f144f6a457ba633": {
     "model_module": "@jupyter-widgets/controls",
     "model_module_version": "1.5.0",
     "model_name": "HTMLModel",
     "state": {
      "_dom_classes": [],
      "_model_module": "@jupyter-widgets/controls",
      "_model_module_version": "1.5.0",
      "_model_name": "HTMLModel",
      "_view_count": null,
      "_view_module": "@jupyter-widgets/controls",
      "_view_module_version": "1.5.0",
      "_view_name": "HTMLView",
      "description": "",
      "description_tooltip": null,
      "layout": "IPY_MODEL_e856f414fe7846209b106053b228cc58",
      "placeholder": "​",
      "style": "IPY_MODEL_66b6348bd1784fd5ae3be9da3f39a010",
      "value": ""
     }
    },
    "e314467bdfce4c92b0631eeec069dc97": {
     "model_module": "@jupyter-widgets/base",
     "model_module_version": "1.2.0",
     "model_name": "LayoutModel",
     "state": {
      "_model_module": "@jupyter-widgets/base",
      "_model_module_version": "1.2.0",
      "_model_name": "LayoutModel",
      "_view_count": null,
      "_view_module": "@jupyter-widgets/base",
      "_view_module_version": "1.2.0",
      "_view_name": "LayoutView",
      "align_content": null,
      "align_items": null,
      "align_self": null,
      "border": null,
      "bottom": null,
      "display": null,
      "flex": null,
      "flex_flow": null,
      "grid_area": null,
      "grid_auto_columns": null,
      "grid_auto_flow": null,
      "grid_auto_rows": null,
      "grid_column": null,
      "grid_gap": null,
      "grid_row": null,
      "grid_template_areas": null,
      "grid_template_columns": null,
      "grid_template_rows": null,
      "height": null,
      "justify_content": null,
      "justify_items": null,
      "left": null,
      "margin": null,
      "max_height": null,
      "max_width": null,
      "min_height": null,
      "min_width": null,
      "object_fit": null,
      "object_position": null,
      "order": null,
      "overflow": null,
      "overflow_x": null,
      "overflow_y": null,
      "padding": null,
      "right": null,
      "top": null,
      "visibility": null,
      "width": null
     }
    },
    "e856f414fe7846209b106053b228cc58": {
     "model_module": "@jupyter-widgets/base",
     "model_module_version": "1.2.0",
     "model_name": "LayoutModel",
     "state": {
      "_model_module": "@jupyter-widgets/base",
      "_model_module_version": "1.2.0",
      "_model_name": "LayoutModel",
      "_view_count": null,
      "_view_module": "@jupyter-widgets/base",
      "_view_module_version": "1.2.0",
      "_view_name": "LayoutView",
      "align_content": null,
      "align_items": null,
      "align_self": null,
      "border": null,
      "bottom": null,
      "display": null,
      "flex": null,
      "flex_flow": null,
      "grid_area": null,
      "grid_auto_columns": null,
      "grid_auto_flow": null,
      "grid_auto_rows": null,
      "grid_column": null,
      "grid_gap": null,
      "grid_row": null,
      "grid_template_areas": null,
      "grid_template_columns": null,
      "grid_template_rows": null,
      "height": null,
      "justify_content": null,
      "justify_items": null,
      "left": null,
      "margin": null,
      "max_height": null,
      "max_width": null,
      "min_height": null,
      "min_width": null,
      "object_fit": null,
      "object_position": null,
      "order": null,
      "overflow": null,
      "overflow_x": null,
      "overflow_y": null,
      "padding": null,
      "right": null,
      "top": null,
      "visibility": null,
      "width": null
     }
    },
    "e9658569f528407d9370d675cfbc32f7": {
     "model_module": "@jupyter-widgets/base",
     "model_module_version": "1.2.0",
     "model_name": "LayoutModel",
     "state": {
      "_model_module": "@jupyter-widgets/base",
      "_model_module_version": "1.2.0",
      "_model_name": "LayoutModel",
      "_view_count": null,
      "_view_module": "@jupyter-widgets/base",
      "_view_module_version": "1.2.0",
      "_view_name": "LayoutView",
      "align_content": null,
      "align_items": null,
      "align_self": null,
      "border": null,
      "bottom": null,
      "display": null,
      "flex": null,
      "flex_flow": null,
      "grid_area": null,
      "grid_auto_columns": null,
      "grid_auto_flow": null,
      "grid_auto_rows": null,
      "grid_column": null,
      "grid_gap": null,
      "grid_row": null,
      "grid_template_areas": null,
      "grid_template_columns": null,
      "grid_template_rows": null,
      "height": null,
      "justify_content": null,
      "justify_items": null,
      "left": null,
      "margin": null,
      "max_height": null,
      "max_width": null,
      "min_height": null,
      "min_width": null,
      "object_fit": null,
      "object_position": null,
      "order": null,
      "overflow": null,
      "overflow_x": null,
      "overflow_y": null,
      "padding": null,
      "right": null,
      "top": null,
      "visibility": null,
      "width": null
     }
    }
   }
  }
 },
 "nbformat": 4,
 "nbformat_minor": 4
}
