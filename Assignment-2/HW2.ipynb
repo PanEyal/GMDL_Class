{
 "cells": [
  {
   "cell_type": "code",
   "execution_count": 40,
   "metadata": {
    "pycharm": {
     "name": "#%%\n"
    }
   },
   "outputs": [],
   "source": [
    "import numpy as np\n",
    "import matplotlib.pyplot as plt\n",
    "from IPython.display import display, Latex"
   ]
  },
  {
   "cell_type": "markdown",
   "metadata": {
    "pycharm": {
     "name": "#%% md\n"
    }
   },
   "source": [
    "## Computer Excercise 1"
   ]
  },
  {
   "cell_type": "code",
   "execution_count": 2,
   "metadata": {
    "pycharm": {
     "name": "#%%\n"
    }
   },
   "outputs": [],
   "source": [
    "def G(row_s, Temp):\n",
    "    return np.exp((1/Temp) * np.dot(row_s[0:-1], row_s[1:]))"
   ]
  },
  {
   "cell_type": "markdown",
   "metadata": {},
   "source": [
    "## Computer Excercise 2"
   ]
  },
  {
   "cell_type": "code",
   "execution_count": 3,
   "metadata": {},
   "outputs": [],
   "source": [
    "def F(row_s, row_t, Temp):\n",
    "    return np.exp((1/Temp) * np.dot(row_s, row_t))"
   ]
  },
  {
   "cell_type": "markdown",
   "metadata": {},
   "source": [
    "## Computer Excercise 3"
   ]
  },
  {
   "cell_type": "code",
   "execution_count": 4,
   "metadata": {},
   "outputs": [],
   "source": [
    "temps = {1:0, 1.5:0, 2:0}\n",
    "x_values = {1, -1}\n",
    "for temp in temps:\n",
    "    for x_1_1 in x_values:\n",
    "        for x_1_2 in x_values:\n",
    "            for x_2_1 in x_values:\n",
    "                for x_2_2 in x_values:\n",
    "                    grid = [[x_1_1,x_1_2],\n",
    "                            [x_2_1,x_2_2]]\n",
    "                    temps[temp] += G(grid[0], temp)*G(grid[1], temp)*F(grid[0],grid[1], temp)"
   ]
  },
  {
   "cell_type": "code",
   "execution_count": 5,
   "metadata": {},
   "outputs": [
    {
     "data": {
      "text/plain": [
       "{1: 121.23293134406595, 1.5: 40.922799092745386, 2: 27.048782764334526}"
      ]
     },
     "execution_count": 5,
     "metadata": {},
     "output_type": "execute_result"
    }
   ],
   "source": [
    "temps"
   ]
  },
  {
   "cell_type": "markdown",
   "metadata": {},
   "source": [
    "## Computer Excercise 4"
   ]
  },
  {
   "cell_type": "code",
   "execution_count": 6,
   "metadata": {},
   "outputs": [],
   "source": [
    "temps = {1:0, 1.5:0, 2:0}\n",
    "x_values = {1, -1}\n",
    "for temp in temps:\n",
    "    for x_1_1 in x_values:\n",
    "        for x_1_2 in x_values:\n",
    "            for x_1_3 in x_values:\n",
    "                for x_2_1 in x_values:\n",
    "                    for x_2_2 in x_values:\n",
    "                        for x_2_3 in x_values:\n",
    "                            for x_3_1 in x_values:\n",
    "                                for x_3_2 in x_values:\n",
    "                                    for x_3_3 in x_values:\n",
    "                                        grid = [[x_1_1,x_1_2,x_1_3],\n",
    "                                                [x_2_1,x_2_2,x_2_3],\n",
    "                                                [x_3_1,x_3_2,x_3_3]]\n",
    "                                        temps[temp] += G(grid[0], temp)*G(grid[1], temp)*G(grid[2], temp)*F(grid[0],grid[1], temp)*F(grid[1],grid[2], temp)"
   ]
  },
  {
   "cell_type": "code",
   "execution_count": 7,
   "metadata": {},
   "outputs": [
    {
     "data": {
      "text/plain": [
       "{1: 365645.7491357704, 1.5: 10565.421983514265, 2: 2674.518123060087}"
      ]
     },
     "execution_count": 7,
     "metadata": {},
     "output_type": "execute_result"
    }
   ],
   "source": [
    "temps"
   ]
  },
  {
   "cell_type": "markdown",
   "metadata": {},
   "source": [
    "## Computer Excercise 5"
   ]
  },
  {
   "cell_type": "code",
   "execution_count": 8,
   "metadata": {},
   "outputs": [],
   "source": [
    "def y2row(y,width=8):\n",
    "    \"\"\"\n",
    "    y: an integer in (0,...,(2**width)-1)\n",
    "    \"\"\"\n",
    "    if not 0<=y<=(2**width)-1:\n",
    "        raise ValueError(y)\n",
    "    my_str=np.binary_repr(y,width=width)\n",
    "    my_list = list(map(int,my_str))\n",
    "    my_array = np.asarray(my_list)\n",
    "    my_array[my_array==0]=-1\n",
    "    row=my_array\n",
    "    return row"
   ]
  },
  {
   "cell_type": "code",
   "execution_count": 9,
   "metadata": {},
   "outputs": [],
   "source": [
    "temps = {1:0, 1.5:0, 2:0}\n",
    "y_values = {0,1,2,3}\n",
    "for temp in temps:\n",
    "    for y_1 in y_values:\n",
    "        for y_2 in y_values:\n",
    "            grid = [y2row(y_1, 2),\n",
    "                    y2row(y_2, 2)]\n",
    "            temps[temp] += G(grid[0], temp)*G(grid[1], temp)*F(grid[0],grid[1], temp)"
   ]
  },
  {
   "cell_type": "code",
   "execution_count": 10,
   "metadata": {},
   "outputs": [
    {
     "data": {
      "text/plain": [
       "{1: 121.23293134406595, 1.5: 40.922799092745386, 2: 27.048782764334526}"
      ]
     },
     "execution_count": 10,
     "metadata": {},
     "output_type": "execute_result"
    }
   ],
   "source": [
    "temps"
   ]
  },
  {
   "cell_type": "markdown",
   "metadata": {},
   "source": [
    "## Computer Excercise 6"
   ]
  },
  {
   "cell_type": "code",
   "execution_count": 11,
   "metadata": {},
   "outputs": [],
   "source": [
    "temps = {1:0, 1.5:0, 2:0}\n",
    "y_values = {0,1,2,3,4,5,6,7}\n",
    "for temp in temps:\n",
    "    for y_1 in y_values:\n",
    "        for y_2 in y_values:\n",
    "            for y_3 in y_values:\n",
    "                grid = [y2row(y_1, 3),\n",
    "                        y2row(y_2, 3),\n",
    "                        y2row(y_3, 3)]\n",
    "                temps[temp] += G(grid[0], temp)*G(grid[1], temp)*G(grid[2], temp)*F(grid[0],grid[1], temp)*F(grid[1],grid[2], temp)"
   ]
  },
  {
   "cell_type": "code",
   "execution_count": 12,
   "metadata": {},
   "outputs": [
    {
     "data": {
      "text/plain": [
       "{1: 365645.7491357704, 1.5: 10565.421983514265, 2: 2674.518123060087}"
      ]
     },
     "execution_count": 12,
     "metadata": {},
     "output_type": "execute_result"
    }
   ],
   "source": [
    "temps"
   ]
  },
  {
   "cell_type": "markdown",
   "metadata": {},
   "source": [
    "## Computer Excercise 7"
   ]
  },
  {
   "cell_type": "code",
   "execution_count": 62,
   "metadata": {},
   "outputs": [],
   "source": [
    "temps = [1, 1.5, 2]\n",
    "def forward_pass(temp, width=8):\n",
    "    y_values = 2 ** width\n",
    "    Ts = [np.ones(y_values)]\n",
    "    for k in range(1, width):\n",
    "        Ts.append(np.zeros(y_values))\n",
    "        for i in range(y_values):\n",
    "            for j in range(y_values):\n",
    "                Ts[k][i] += Ts[k-1][j]*G(y2row(j, width), temp)*F(y2row(j, width), y2row(i, width), temp)\n",
    "    \n",
    "    # for last Ts[k]: k=width\n",
    "    z_temp = 0\n",
    "    for j in range(y_values):\n",
    "        z_temp += Ts[width-1][j]*G(y2row(j, width), temp)\n",
    "    \n",
    "    return Ts, z_temp"
   ]
  },
  {
   "cell_type": "markdown",
   "metadata": {},
   "source": [
    "(2X2 lattice)"
   ]
  },
  {
   "cell_type": "code",
   "execution_count": 63,
   "metadata": {},
   "outputs": [],
   "source": [
    "Ts, z_temp = forward_pass(1,2)"
   ]
  },
  {
   "cell_type": "code",
   "execution_count": 64,
   "metadata": {},
   "outputs": [
    {
     "data": {
      "text/plain": [
       "array([21.18917525,  8.20463255,  8.20463255, 21.18917525])"
      ]
     },
     "execution_count": 64,
     "metadata": {},
     "output_type": "execute_result"
    }
   ],
   "source": [
    "Ts[1]"
   ]
  },
  {
   "cell_type": "code",
   "execution_count": 65,
   "metadata": {},
   "outputs": [
    {
     "data": {
      "text/plain": [
       "121.23293134406596"
      ]
     },
     "execution_count": 65,
     "metadata": {},
     "output_type": "execute_result"
    }
   ],
   "source": [
    "z_temp"
   ]
  },
  {
   "cell_type": "markdown",
   "metadata": {},
   "source": [
    "(3X3 lattice)"
   ]
  },
  {
   "cell_type": "code",
   "execution_count": 66,
   "metadata": {},
   "outputs": [],
   "source": [
    "Ts, z_temp = forward_pass(1, 3)"
   ]
  },
  {
   "cell_type": "code",
   "execution_count": 67,
   "metadata": {},
   "outputs": [
    {
     "data": {
      "text/plain": [
       "array([155.37102759,  46.44297052,  31.70116107,  46.44297052,\n",
       "        46.44297052,  31.70116107,  46.44297052, 155.37102759])"
      ]
     },
     "execution_count": 67,
     "metadata": {},
     "output_type": "execute_result"
    }
   ],
   "source": [
    "Ts[1]"
   ]
  },
  {
   "cell_type": "code",
   "execution_count": 68,
   "metadata": {},
   "outputs": [
    {
     "data": {
      "text/plain": [
       "array([23416.16435187,  4634.76802124,  3916.10003703,  4634.76802124,\n",
       "        4634.76802124,  3916.10003703,  4634.76802124, 23416.16435187])"
      ]
     },
     "execution_count": 68,
     "metadata": {},
     "output_type": "execute_result"
    }
   ],
   "source": [
    "Ts[2]"
   ]
  },
  {
   "cell_type": "code",
   "execution_count": 69,
   "metadata": {},
   "outputs": [
    {
     "data": {
      "text/plain": [
       "365645.7491357699"
      ]
     },
     "execution_count": 69,
     "metadata": {},
     "output_type": "execute_result"
    }
   ],
   "source": [
    "z_temp"
   ]
  },
  {
   "cell_type": "code",
   "execution_count": 70,
   "metadata": {},
   "outputs": [],
   "source": [
    "def calc_ps(Ts, z_temp, temp, width=8):\n",
    "    y_values = 2 ** width\n",
    "    Ps = [0]\n",
    "    for k in range(1, width):\n",
    "        Ps.append(np.zeros((y_values,y_values)))\n",
    "        for i in range(y_values):\n",
    "            for j in range(y_values):\n",
    "                Ps[k][i][j] = (Ts[k-1][i]*G(y2row(i,width),temp)*F(y2row(i,width),y2row(j,width),temp)) / Ts[k][j]\n",
    "    \n",
    "    # for last Ps[k]: k=width\n",
    "    P_last =  np.zeros(y_values)\n",
    "    for i in range(y_values):\n",
    "        P_last[i] = Ts[width-1][i]*G(y2row(i,width),temp) / z_temp\n",
    "    \n",
    "    return Ps, P_last"
   ]
  },
  {
   "cell_type": "code",
   "execution_count": 71,
   "metadata": {},
   "outputs": [],
   "source": [
    "def get_sample(Ps, P_last, width=8):\n",
    "    y_values = 2 ** width\n",
    "    take_from = np.asarray(range(y_values))\n",
    "    sample = np.zeros((width, width))\n",
    "    last_choice = np.random.choice(take_from, p=P_last)\n",
    "    sample[width-1] = y2row(last_choice, width)\n",
    "    \n",
    "    for row in range(width-2, -1, -1):\n",
    "        curr_choice = np.random.choice(take_from, p=Ps[row+1][:,last_choice])\n",
    "        sample[row] = y2row(curr_choice, width)\n",
    "        last_choice = curr_choice\n",
    "    \n",
    "    return sample"
   ]
  },
  {
   "cell_type": "code",
   "execution_count": 72,
   "metadata": {},
   "outputs": [],
   "source": [
    "def sampler(temp, width=8):\n",
    "    Ts, z_temp = forward_pass(temp)\n",
    "    Ps, P_last = calc_ps(Ts, z_temp, temp)\n",
    "    return lambda : get_sample(Ps, P_last, width)"
   ]
  },
  {
   "cell_type": "code",
   "execution_count": 24,
   "metadata": {},
   "outputs": [],
   "source": [
    "sampler1=sampler(1)\n",
    "sampler2=sampler(1.5)\n",
    "sampler3=sampler(2)"
   ]
  },
  {
   "cell_type": "code",
   "execution_count": 73,
   "metadata": {},
   "outputs": [],
   "source": [
    "def run_sampler(sampler, n):\n",
    "    samples = []\n",
    "    for i in range(n):\n",
    "        samples.append(sampler())\n",
    "    \n",
    "    return samples"
   ]
  },
  {
   "cell_type": "code",
   "execution_count": 74,
   "metadata": {},
   "outputs": [],
   "source": [
    "S = []\n",
    "S.append(run_sampler(sampler1, 10))\n",
    "S.append(run_sampler(sampler2, 10))\n",
    "S.append(run_sampler(sampler3, 10))"
   ]
  },
  {
   "cell_type": "code",
   "execution_count": 75,
   "metadata": {},
   "outputs": [
    {
     "data": {
      "image/png": "[encoded data removed]",
      "text/plain": [
       "<Figure size 1440x1440 with 10 Axes>"
      ]
     },
     "metadata": {
      "needs_background": "light"
     },
     "output_type": "display_data"
    },
    {
     "data": {
      "image/png": "[encoded data removed]",
      "text/plain": [
       "<Figure size 1440x1440 with 10 Axes>"
      ]
     },
     "metadata": {
      "needs_background": "light"
     },
     "output_type": "display_data"
    },
    {
     "data": {
      "image/png": "[encoded data removed]",
      "text/plain": [
       "<Figure size 1440x1440 with 10 Axes>"
      ]
     },
     "metadata": {
      "needs_background": "light"
     },
     "output_type": "display_data"
    }
   ],
   "source": [
    "for i in range(len(S)):\n",
    "    fig, axs = plt.subplots(1, 10, figsize=(20,20))\n",
    "    for j in range(len(S[i])):\n",
    "        axs[j].imshow(S[i][j], interpolation=\"None\", cmap='summer', vmin=-1, vmax=+1)\n",
    "        axs[j].axis(\"off\")\n",
    "        axs[j].set_title(f\"temp: {temps[i]}\")"
   ]
  },
  {
   "cell_type": "markdown",
   "metadata": {},
   "source": [
    "## Problem 1\n",
    "We would like to calculate the following calculation of the probability:\n",
    "\n",
    "\\begin{align}\n",
    "p(x)=\\frac{1}{Z_{Temp}}exp(\\frac{1}{Temp}\\sum_{s∼t}x_sx_t)\n",
    "=\\frac{1}{Z_{Temp}}exp(\\frac{1}{2}\\sum_{s∼t}x_sx_t)\n",
    "\\end{align}\n",
    "\n",
    "<ins>For these two code commands:</ins><br>\n",
    "python2 -c \"print [1/Temp for Temp in [1,1.5,2]]\" <br>\n",
    "python3 -c \"print ([1/Temp for Temp in [1,1.5,2]])\" <br>\n",
    "\n",
    "\n",
    "<ins>The output is:</ins><br>\n",
    "[1, 0.6666666666666666, 0]<br>\n",
    "[1.0, 0.6666666666666666, 0.5]<br>\n",
    "\n",
    "\n",
    "Meaning, calculating int division in python2 remains an int, but python3 casts to float.\n",
    "Therefore, in python2, the frustrated student encountered truncation when dividing 1/2.\n",
    "\n",
    "Hence:\n",
    "\\begin{align}\n",
    "p(x)=\\frac{1}{Z_{Temp}}exp(0)=\\frac{1}{Z_{Temp}}\n",
    "\\end{align}\n",
    "\n",
    "With:\n",
    "\\begin{align}\n",
    "Z_{Temp}=\\sum_x{exp(\\frac{1}{Temp}\\sum_{s∼t}x_sx_t)}=\\sum_x{exp(0)}=\\sum_x{1}=size(x)\n",
    "\\end{align}\n",
    "\n",
    "And now:\n",
    "\\begin{align}\n",
    "p(x)=\\frac{1}{size(x)}\n",
    "\\end{align}\n",
    "\n",
    "which means, the student sampled from the uniform distribution over binary images, and gained completely random samples (with no structure whatsoever)."
   ]
  },
  {
   "cell_type": "markdown",
   "metadata": {},
   "source": [
    "## Computer Excercise 8"
   ]
  },
  {
   "cell_type": "code",
   "execution_count": 61,
   "metadata": {},
   "outputs": [
    {
     "name": "stdout",
     "output_type": "stream",
     "text": [
      "Temp = 1\n"
     ]
    },
    {
     "data": {
      "text/latex": [
       "$\\qquad\\hat{E}_{Temp}(X_{(1,1)}X_{(2,2)})$ = 0.9526"
      ],
      "text/plain": [
       "<IPython.core.display.Latex object>"
      ]
     },
     "metadata": {},
     "output_type": "display_data"
    },
    {
     "data": {
      "text/latex": [
       "$\\qquad\\hat{E}_{Temp}(X_{(1,1)}X_{(8,8)})$ = 0.9062"
      ],
      "text/plain": [
       "<IPython.core.display.Latex object>"
      ]
     },
     "metadata": {},
     "output_type": "display_data"
    },
    {
     "name": "stdout",
     "output_type": "stream",
     "text": [
      "Temp = 1.5\n"
     ]
    },
    {
     "data": {
      "text/latex": [
       "$\\qquad\\hat{E}_{Temp}(X_{(1,1)}X_{(2,2)})$ = 0.7688"
      ],
      "text/plain": [
       "<IPython.core.display.Latex object>"
      ]
     },
     "metadata": {},
     "output_type": "display_data"
    },
    {
     "data": {
      "text/latex": [
       "$\\qquad\\hat{E}_{Temp}(X_{(1,1)}X_{(8,8)})$ = 0.544"
      ],
      "text/plain": [
       "<IPython.core.display.Latex object>"
      ]
     },
     "metadata": {},
     "output_type": "display_data"
    },
    {
     "name": "stdout",
     "output_type": "stream",
     "text": [
      "Temp = 2\n"
     ]
    },
    {
     "data": {
      "text/latex": [
       "$\\qquad\\hat{E}_{Temp}(X_{(1,1)}X_{(2,2)})$ = 0.5058"
      ],
      "text/plain": [
       "<IPython.core.display.Latex object>"
      ]
     },
     "metadata": {},
     "output_type": "display_data"
    },
    {
     "data": {
      "text/latex": [
       "$\\qquad\\hat{E}_{Temp}(X_{(1,1)}X_{(8,8)})$ = 0.1128"
      ],
      "text/plain": [
       "<IPython.core.display.Latex object>"
      ]
     },
     "metadata": {},
     "output_type": "display_data"
    }
   ],
   "source": [
    "temps = [1, 1.5, 2]\n",
    "\n",
    "S = []\n",
    "S.append(run_sampler(sampler1, 10000))\n",
    "S.append(run_sampler(sampler2, 10000))\n",
    "S.append(run_sampler(sampler3, 10000))\n",
    "\n",
    "for i in range(len(S)):\n",
    "    E_1_2 = 0\n",
    "    E_1_8 = 0\n",
    "    for x in S[i]:\n",
    "        E_1_2 += x[0,0]*x[1,1]\n",
    "        E_1_8 += x[0,0]*x[7,7]\n",
    "    E_1_2 /= len(S[i])\n",
    "    E_1_8 /= len(S[i])\n",
    "    print(f\"Temp = {temps[i]}\")\n",
    "    display(Latex(\"$\\qquad\\hat{E}_{Temp}(X_{(1,1)}X_{(2,2)})$\"+f\" = {E_1_2}\"))\n",
    "    display(Latex(\"$\\qquad\\hat{E}_{Temp}(X_{(1,1)}X_{(8,8)})$\"+f\" = {E_1_8}\"))"
   ]
  },
  {
   "cell_type": "markdown",
   "metadata": {},
   "source": [
    "## Problem 2\n",
    "\n",
    "We can understand from $\\hat{E}_{Temp}(X_{(1,1)}X_{(2,2)})$ and $\\hat{E}_{Temp}(X_{(1,1)}X_{(8,8)})$ for each of the temperatures values the following:\n",
    " - In the case of a lower temperature (=1), the probabilities to obtain two near pixels with the same value and even two far pixels with the same value is likely high.\n",
    " - As we raise the temperature (=1.5), we notice that the overall probabilities to obtain two same value pixels (with the same distance as in the lower temperature) decreases.<br>But still, closer pixels have better chance to get the same value than distant pixels.\n",
    " - with high temperature (=2) we get that even for two close pixels (with distance 2) the probability of gaining the same value is almost independent of each other (probability = 0.5).<br>For two distant pixels, their probability of getting different values is very high (probability = 1 - 0.1 = 0.9).\n",
    " \n",
    "This behaviour results from the Ising's model property that tends to bind close pixels together with the same value (as it tries to shorten the length of the boundaries separating the values)."
   ]
  },
  {
   "cell_type": "markdown",
   "metadata": {},
   "source": [
    "## Computer Excercise 9"
   ]
  },
  {
   "cell_type": "code",
   "execution_count": null,
   "metadata": {},
   "outputs": [],
   "source": []
  }
 ],
 "metadata": {
  "kernelspec": {
   "display_name": "Python 3",
   "language": "python",
   "name": "python3"
  },
  "language_info": {
   "codemirror_mode": {
    "name": "ipython",
    "version": 3
   },
   "file_extension": ".py",
   "mimetype": "text/x-python",
   "name": "python",
   "nbconvert_exporter": "python",
   "pygments_lexer": "ipython3",
   "version": "3.8.3"
  }
 },
 "nbformat": 4,
 "nbformat_minor": 4
}
