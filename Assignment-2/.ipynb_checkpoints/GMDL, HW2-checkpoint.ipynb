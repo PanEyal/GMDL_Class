{
 "cells": [
  {
   "cell_type": "markdown",
   "metadata": {},
   "source": [
    "<h1><center>GMDL, HW2</center></h1>"
   ]
  },
  {
   "cell_type": "markdown",
   "metadata": {},
   "source": [
    "<h4><center>Pan Eyal, Ilana Pervoi</center></h4>"
   ]
  },
  {
   "cell_type": "code",
   "execution_count": 1,
   "metadata": {
    "pycharm": {
     "name": "#%%\n"
    }
   },
   "outputs": [],
   "source": [
    "import numpy as np\n",
    "import pandas as pd\n",
    "import matplotlib.pyplot as plt\n",
    "from IPython.display import display, Latex\n",
    "from tqdm import tqdm"
   ]
  },
  {
   "cell_type": "code",
   "execution_count": 2,
   "metadata": {},
   "outputs": [],
   "source": [
    "temps = [1, 1.5, 2]\n",
    "x_values = {1, -1}"
   ]
  },
  {
   "cell_type": "markdown",
   "metadata": {
    "pycharm": {
     "name": "#%% md\n"
    }
   },
   "source": [
    "## Computer Excercise 1"
   ]
  },
  {
   "cell_type": "code",
   "execution_count": 3,
   "metadata": {
    "pycharm": {
     "name": "#%%\n"
    }
   },
   "outputs": [],
   "source": [
    "def G(row_s, Temp):\n",
    "    return np.exp((1/Temp) * np.dot(row_s[0:-1], row_s[1:]))"
   ]
  },
  {
   "cell_type": "markdown",
   "metadata": {},
   "source": [
    "## Computer Excercise 2"
   ]
  },
  {
   "cell_type": "code",
   "execution_count": 4,
   "metadata": {},
   "outputs": [],
   "source": [
    "def F(row_s, row_t, Temp):\n",
    "    return np.exp((1/Temp) * np.dot(row_s, row_t))"
   ]
  },
  {
   "cell_type": "markdown",
   "metadata": {},
   "source": [
    "## Computer Excercise 3"
   ]
  },
  {
   "cell_type": "code",
   "execution_count": 5,
   "metadata": {},
   "outputs": [],
   "source": [
    "z_temps = [0] * 3\n",
    "for i in range(3):\n",
    "    for x_1_1 in x_values:\n",
    "        for x_1_2 in x_values:\n",
    "            for x_2_1 in x_values:\n",
    "                for x_2_2 in x_values:\n",
    "                    grid = [[x_1_1,x_1_2],\n",
    "                            [x_2_1,x_2_2]]\n",
    "                    z_temps[i] += G(grid[0], temps[i])*G(grid[1], temps[i])*F(grid[0],grid[1], temps[i])"
   ]
  },
  {
   "cell_type": "code",
   "execution_count": 6,
   "metadata": {},
   "outputs": [],
   "source": [
    "def print_z_temps(z_temps):\n",
    "    for i in range(3):\n",
    "        print(f\"For temperature: {temps[i]}, Z_temp = {z_temps[i]}\")"
   ]
  },
  {
   "cell_type": "code",
   "execution_count": 7,
   "metadata": {},
   "outputs": [
    {
     "name": "stdout",
     "output_type": "stream",
     "text": [
      "For temperature: 1, Z_temp = 121.23293134406595\n",
      "For temperature: 1.5, Z_temp = 40.922799092745386\n",
      "For temperature: 2, Z_temp = 27.048782764334526\n"
     ]
    }
   ],
   "source": [
    "print_z_temps(z_temps)"
   ]
  },
  {
   "cell_type": "markdown",
   "metadata": {},
   "source": [
    "## Computer Excercise 4"
   ]
  },
  {
   "cell_type": "code",
   "execution_count": 8,
   "metadata": {},
   "outputs": [],
   "source": [
    "z_temps = [0] * 3\n",
    "for i in range(3):\n",
    "    for x_1_1 in x_values:\n",
    "        for x_1_2 in x_values:\n",
    "            for x_1_3 in x_values:\n",
    "                for x_2_1 in x_values:\n",
    "                    for x_2_2 in x_values:\n",
    "                        for x_2_3 in x_values:\n",
    "                            for x_3_1 in x_values:\n",
    "                                for x_3_2 in x_values:\n",
    "                                    for x_3_3 in x_values:\n",
    "                                        grid = [[x_1_1,x_1_2,x_1_3],\n",
    "                                                [x_2_1,x_2_2,x_2_3],\n",
    "                                                [x_3_1,x_3_2,x_3_3]]\n",
    "                                        z_temps[i] += G(grid[0], temps[i])*G(grid[1], temps[i])*G(grid[2], temps[i])*F(grid[0],grid[1], temps[i])*F(grid[1],grid[2], temps[i])"
   ]
  },
  {
   "cell_type": "code",
   "execution_count": 9,
   "metadata": {},
   "outputs": [
    {
     "name": "stdout",
     "output_type": "stream",
     "text": [
      "For temperature: 1, Z_temp = 365645.7491357704\n",
      "For temperature: 1.5, Z_temp = 10565.421983514265\n",
      "For temperature: 2, Z_temp = 2674.518123060087\n"
     ]
    }
   ],
   "source": [
    "print_z_temps(z_temps)"
   ]
  },
  {
   "cell_type": "markdown",
   "metadata": {},
   "source": [
    "## Computer Excercise 5"
   ]
  },
  {
   "cell_type": "code",
   "execution_count": 10,
   "metadata": {},
   "outputs": [],
   "source": [
    "def y2row(y,width=8):\n",
    "    \"\"\"\n",
    "    y: an integer in (0,...,(2**width)-1)\n",
    "    \"\"\"\n",
    "    if not 0<=y<=(2**width)-1:\n",
    "        raise ValueError(y)\n",
    "    my_str=np.binary_repr(y,width=width)\n",
    "    my_list = list(map(int,my_str))\n",
    "    my_array = np.asarray(my_list)\n",
    "    my_array[my_array==0]=-1\n",
    "    row=my_array\n",
    "    return row"
   ]
  },
  {
   "cell_type": "code",
   "execution_count": 11,
   "metadata": {},
   "outputs": [],
   "source": [
    "z_temps = [0] * 3\n",
    "y_values = {0,1,2,3}\n",
    "for i in range(3):\n",
    "    for y_1 in y_values:\n",
    "        for y_2 in y_values:\n",
    "            grid = [y2row(y_1, 2),\n",
    "                    y2row(y_2, 2)]\n",
    "            z_temps[i] += G(grid[0], temps[i])*G(grid[1], temps[i])*F(grid[0],grid[1], temps[i])"
   ]
  },
  {
   "cell_type": "code",
   "execution_count": 12,
   "metadata": {},
   "outputs": [
    {
     "name": "stdout",
     "output_type": "stream",
     "text": [
      "For temperature: 1, Z_temp = 121.23293134406595\n",
      "For temperature: 1.5, Z_temp = 40.922799092745386\n",
      "For temperature: 2, Z_temp = 27.048782764334526\n"
     ]
    }
   ],
   "source": [
    "print_z_temps(z_temps)"
   ]
  },
  {
   "cell_type": "markdown",
   "metadata": {},
   "source": [
    "## Computer Excercise 6"
   ]
  },
  {
   "cell_type": "code",
   "execution_count": 13,
   "metadata": {},
   "outputs": [],
   "source": [
    "z_temps = [0] * 3\n",
    "y_values = {0,1,2,3,4,5,6,7}\n",
    "for i in range(3):\n",
    "    for y_1 in y_values:\n",
    "        for y_2 in y_values:\n",
    "            for y_3 in y_values:\n",
    "                grid = [y2row(y_1, 3),\n",
    "                        y2row(y_2, 3),\n",
    "                        y2row(y_3, 3)]\n",
    "                z_temps[i] += G(grid[0], temps[i])*G(grid[1], temps[i])*G(grid[2], temps[i])*F(grid[0],grid[1], temps[i])*F(grid[1],grid[2], temps[i])"
   ]
  },
  {
   "cell_type": "code",
   "execution_count": 14,
   "metadata": {},
   "outputs": [
    {
     "name": "stdout",
     "output_type": "stream",
     "text": [
      "For temperature: 1, Z_temp = 365645.7491357704\n",
      "For temperature: 1.5, Z_temp = 10565.421983514265\n",
      "For temperature: 2, Z_temp = 2674.518123060087\n"
     ]
    }
   ],
   "source": [
    "print_z_temps(z_temps)"
   ]
  },
  {
   "cell_type": "markdown",
   "metadata": {},
   "source": [
    "## Computer Excercise 7"
   ]
  },
  {
   "cell_type": "code",
   "execution_count": 15,
   "metadata": {},
   "outputs": [],
   "source": [
    "def forward_pass(temp, width=8):\n",
    "    y_values = 2 ** width\n",
    "    Ts = [np.ones(y_values)]\n",
    "    for k in (prog_bar := tqdm(range(1, width))):\n",
    "        prog_bar.set_description(f\"(Temp = {temp}) Forward Pass             \")\n",
    "        Ts.append(np.zeros(y_values))\n",
    "        for i in range(y_values):\n",
    "            for j in range(y_values):\n",
    "                Ts[k][i] += Ts[k-1][j]*G(y2row(j, width), temp)*F(y2row(j, width), y2row(i, width), temp)\n",
    "    \n",
    "    # for last Ts[k]: k=width\n",
    "    z_temp = 0\n",
    "    for j in range(y_values):\n",
    "        z_temp += Ts[width-1][j]*G(y2row(j, width), temp)\n",
    "    \n",
    "    return Ts, z_temp"
   ]
  },
  {
   "cell_type": "code",
   "execution_count": 16,
   "metadata": {},
   "outputs": [],
   "source": [
    "def calc_ps(Ts, z_temp, temp, width=8):\n",
    "    y_values = 2 ** width\n",
    "    Ps = [0]\n",
    "    for k in (prog_bar := tqdm(range(1, width))):\n",
    "        prog_bar.set_description(f\"(Temp = {temp}) Calculating Probabilities\")\n",
    "        Ps.append(np.zeros((y_values,y_values)))\n",
    "        for i in range(y_values):\n",
    "            for j in range(y_values):\n",
    "                Ps[k][i][j] = (Ts[k-1][i]*G(y2row(i,width),temp)*F(y2row(i,width),y2row(j,width),temp)) / Ts[k][j]\n",
    "    \n",
    "    # for last Ps[k]: k=width\n",
    "    P_last =  np.zeros(y_values)\n",
    "    for i in range(y_values):\n",
    "        P_last[i] = Ts[width-1][i]*G(y2row(i,width),temp) / z_temp\n",
    "    \n",
    "    return Ps, P_last"
   ]
  },
  {
   "cell_type": "code",
   "execution_count": 17,
   "metadata": {},
   "outputs": [],
   "source": [
    "def get_sample(Ps, P_last, width=8):\n",
    "    y_values = 2 ** width\n",
    "    take_from = np.asarray(range(y_values))\n",
    "    sample = np.zeros((width, width))\n",
    "    last_choice = np.random.choice(take_from, p=P_last)\n",
    "    sample[width-1] = y2row(last_choice, width)\n",
    "    \n",
    "    for row in range(width-2, -1, -1):\n",
    "        curr_choice = np.random.choice(take_from, p=Ps[row+1][:,last_choice])\n",
    "        sample[row] = y2row(curr_choice, width)\n",
    "        last_choice = curr_choice\n",
    "    \n",
    "    return sample"
   ]
  },
  {
   "cell_type": "code",
   "execution_count": 18,
   "metadata": {},
   "outputs": [],
   "source": [
    "def sampler(temp, width=8):\n",
    "    Ts, z_temp = forward_pass(temp)\n",
    "    Ps, P_last = calc_ps(Ts, z_temp, temp)\n",
    "    return lambda : get_sample(Ps, P_last, width)"
   ]
  },
  {
   "cell_type": "code",
   "execution_count": 19,
   "metadata": {},
   "outputs": [
    {
     "name": "stderr",
     "output_type": "stream",
     "text": [
      "(Temp = 1) Forward Pass             : 100%|██████████████████████████████████████████████| 7/7 [00:20<00:00,  2.94s/it]\n",
      "(Temp = 1) Calculating Probabilities: 100%|██████████████████████████████████████████████| 7/7 [00:20<00:00,  2.95s/it]\n",
      "(Temp = 1.5) Forward Pass             : 100%|████████████████████████████████████████████| 7/7 [00:19<00:00,  2.79s/it]\n",
      "(Temp = 1.5) Calculating Probabilities: 100%|████████████████████████████████████████████| 7/7 [00:20<00:00,  2.88s/it]\n",
      "(Temp = 2) Forward Pass             : 100%|██████████████████████████████████████████████| 7/7 [00:19<00:00,  2.83s/it]\n",
      "(Temp = 2) Calculating Probabilities: 100%|██████████████████████████████████████████████| 7/7 [00:19<00:00,  2.84s/it]\n"
     ]
    }
   ],
   "source": [
    "sampler1=sampler(1)\n",
    "sampler2=sampler(1.5)\n",
    "sampler3=sampler(2)"
   ]
  },
  {
   "cell_type": "code",
   "execution_count": 20,
   "metadata": {},
   "outputs": [],
   "source": [
    "def run_sampler(sampler, n):\n",
    "    samples = []\n",
    "    for i in (prog_bar := tqdm(range(n))):\n",
    "        prog_bar.set_description(f\"Getting {n} samples\")\n",
    "        samples.append(sampler())\n",
    "\n",
    "    return samples"
   ]
  },
  {
   "cell_type": "code",
   "execution_count": 21,
   "metadata": {},
   "outputs": [
    {
     "name": "stderr",
     "output_type": "stream",
     "text": [
      "Getting 10 samples: 100%|█████████████████████████████████████████████████████████████| 10/10 [00:00<00:00, 588.06it/s]\n",
      "Getting 10 samples: 100%|█████████████████████████████████████████████████████████████| 10/10 [00:00<00:00, 588.25it/s]\n",
      "Getting 10 samples: 100%|█████████████████████████████████████████████████████████████| 10/10 [00:00<00:00, 666.64it/s]\n"
     ]
    }
   ],
   "source": [
    "S = []\n",
    "S.append(run_sampler(sampler1, 10))\n",
    "S.append(run_sampler(sampler2, 10))\n",
    "S.append(run_sampler(sampler3, 10))"
   ]
  },
  {
   "cell_type": "code",
   "execution_count": 22,
   "metadata": {},
   "outputs": [
    {
     "data": {
      "image/png": "[encoded data removed]",
      "text/plain": [
       "<Figure size 1440x1440 with 10 Axes>"
      ]
     },
     "metadata": {
      "needs_background": "light"
     },
     "output_type": "display_data"
    },
    {
     "data": {
      "image/png": "[encoded data removed]",
      "text/plain": [
       "<Figure size 1440x1440 with 10 Axes>"
      ]
     },
     "metadata": {
      "needs_background": "light"
     },
     "output_type": "display_data"
    },
    {
     "data": {
      "image/png": "[encoded data removed]",
      "text/plain": [
       "<Figure size 1440x1440 with 10 Axes>"
      ]
     },
     "metadata": {
      "needs_background": "light"
     },
     "output_type": "display_data"
    }
   ],
   "source": [
    "for i in range(len(S)):\n",
    "    fig, axs = plt.subplots(1, 10, figsize=(20,20))\n",
    "    for j in range(len(S[i])):\n",
    "        axs[j].imshow(S[i][j], interpolation=\"None\", cmap='summer', vmin=-1, vmax=+1)\n",
    "        axs[j].axis(\"off\")\n",
    "        axs[j].set_title(f\"temp: {temps[i]}\")"
   ]
  },
  {
   "cell_type": "markdown",
   "metadata": {},
   "source": [
    "## Problem 1\n",
    "We would like to calculate the following calculation of the probability:\n",
    "\n",
    "\\begin{align}\n",
    "p(x)=\\frac{1}{Z_{Temp}}exp(\\frac{1}{Temp}\\sum_{s∼t}x_sx_t)\n",
    "=\\frac{1}{Z_{Temp}}exp(\\frac{1}{2}\\sum_{s∼t}x_sx_t)\n",
    "\\end{align}\n",
    "\n",
    "<ins>For these two code commands:</ins><br>\n",
    "python2 -c \"print [1/Temp for Temp in [1,1.5,2]]\" <br>\n",
    "python3 -c \"print ([1/Temp for Temp in [1,1.5,2]])\" <br>\n",
    "\n",
    "\n",
    "<ins>The output is:</ins><br>\n",
    "[1, 0.6666666666666666, 0]<br>\n",
    "[1.0, 0.6666666666666666, 0.5]<br>\n",
    "\n",
    "\n",
    "Meaning, calculating int division in python2 remains an int, but python3 computes it in float.<br>\n",
    "Therefore, in python2, the frustrated student encountered truncation when dividing $\\frac{1}{2}$.\n",
    "\n",
    "Hence:\n",
    "\\begin{align}\n",
    "p(x)=\\frac{1}{Z_{Temp}}exp(0)=\\frac{1}{Z_{Temp}}\n",
    "\\end{align}\n",
    "\n",
    "With:\n",
    "\\begin{align}\n",
    "Z_{Temp}=\\sum_x{exp(\\frac{1}{Temp}\\sum_{s∼t}x_sx_t)}=\\sum_x{exp(0)}=\\sum_x{1}=size(x)\n",
    "\\end{align}\n",
    "\n",
    "And now:\n",
    "\\begin{align}\n",
    "p(x)=\\frac{1}{size(x)}\n",
    "\\end{align}\n",
    "\n",
    "which means, the student sampled from the uniform distribution over binary images, and gained completely random samples (with no structure whatsoever)."
   ]
  },
  {
   "cell_type": "markdown",
   "metadata": {},
   "source": [
    "## Computer Excercise 8"
   ]
  },
  {
   "cell_type": "code",
   "execution_count": 23,
   "metadata": {},
   "outputs": [
    {
     "name": "stderr",
     "output_type": "stream",
     "text": [
      "Getting 10000 samples: 100%|████████████████████████████████████████████████████| 10000/10000 [00:13<00:00, 715.46it/s]\n",
      "Getting 10000 samples: 100%|████████████████████████████████████████████████████| 10000/10000 [00:14<00:00, 698.76it/s]\n",
      "Getting 10000 samples: 100%|████████████████████████████████████████████████████| 10000/10000 [00:14<00:00, 687.47it/s]\n",
      "Calculating Expectations, batch 0: 100%|███████████████████████████████████████| 10000/10000 [00:08<00:00, 1204.53it/s]\n",
      "Calculating Expectations, batch 1: 100%|███████████████████████████████████████| 10000/10000 [00:08<00:00, 1202.79it/s]\n",
      "Calculating Expectations, batch 2: 100%|███████████████████████████████████████| 10000/10000 [00:08<00:00, 1176.89it/s]\n"
     ]
    }
   ],
   "source": [
    "temps = [1, 1.5, 2]\n",
    "\n",
    "E = []\n",
    "\n",
    "samples_size = 10000\n",
    "\n",
    "all_samples = []\n",
    "all_samples.append(run_sampler(sampler1, samples_size))\n",
    "all_samples.append(run_sampler(sampler2, samples_size))\n",
    "all_samples.append(run_sampler(sampler3, samples_size))\n",
    "\n",
    "for i in range(3):\n",
    "    E_1_2 = 0\n",
    "    E_1_8 = 0\n",
    "    for sample in (prog_bar := tqdm(all_samples[i])):\n",
    "        prog_bar.set_description(f\"Calculating Expectations, batch {i}\")\n",
    "        E_1_2 += sample[0,0]*sample[1,1]\n",
    "        E_1_8 += sample[0,0]*sample[7,7]\n",
    "    E_1_2 /= samples_size\n",
    "    E_1_8 /= samples_size\n",
    "    \n",
    "    E.append([E_1_2, E_1_8])"
   ]
  },
  {
   "cell_type": "code",
   "execution_count": 24,
   "metadata": {},
   "outputs": [],
   "source": [
    "def table(E):\n",
    "    columns = [\"$$\\qquad\\hat{E}_{Temp}(X_{(1,1)}X_{(2,2)})$$\", \"$$\\qquad\\hat{E}_{Temp}(X_{(1,1)}X_{(8,8)})$$\"]\n",
    "    df=pd.DataFrame(E, index=temps, columns=columns)\n",
    "    df.index.name='temperature'\n",
    "    return df"
   ]
  },
  {
   "cell_type": "code",
   "execution_count": 25,
   "metadata": {},
   "outputs": [
    {
     "data": {
      "text/html": [
       "<div>\n",
       "<style scoped>\n",
       "    .dataframe tbody tr th:only-of-type {\n",
       "        vertical-align: middle;\n",
       "    }\n",
       "\n",
       "    .dataframe tbody tr th {\n",
       "        vertical-align: top;\n",
       "    }\n",
       "\n",
       "    .dataframe thead th {\n",
       "        text-align: right;\n",
       "    }\n",
       "</style>\n",
       "<table border=\"1\" class=\"dataframe\">\n",
       "  <thead>\n",
       "    <tr style=\"text-align: right;\">\n",
       "      <th></th>\n",
       "      <th>$$\\qquad\\hat{E}_{Temp}(X_{(1,1)}X_{(2,2)})$$</th>\n",
       "      <th>$$\\qquad\\hat{E}_{Temp}(X_{(1,1)}X_{(8,8)})$$</th>\n",
       "    </tr>\n",
       "    <tr>\n",
       "      <th>temperature</th>\n",
       "      <th></th>\n",
       "      <th></th>\n",
       "    </tr>\n",
       "  </thead>\n",
       "  <tbody>\n",
       "    <tr>\n",
       "      <th>1.0</th>\n",
       "      <td>0.9518</td>\n",
       "      <td>0.9026</td>\n",
       "    </tr>\n",
       "    <tr>\n",
       "      <th>1.5</th>\n",
       "      <td>0.7702</td>\n",
       "      <td>0.5608</td>\n",
       "    </tr>\n",
       "    <tr>\n",
       "      <th>2.0</th>\n",
       "      <td>0.4976</td>\n",
       "      <td>0.1238</td>\n",
       "    </tr>\n",
       "  </tbody>\n",
       "</table>\n",
       "</div>"
      ],
      "text/plain": [
       "             $$\\qquad\\hat{E}_{Temp}(X_{(1,1)}X_{(2,2)})$$  \\\n",
       "temperature                                                 \n",
       "1.0                                                0.9518   \n",
       "1.5                                                0.7702   \n",
       "2.0                                                0.4976   \n",
       "\n",
       "             $$\\qquad\\hat{E}_{Temp}(X_{(1,1)}X_{(8,8)})$$  \n",
       "temperature                                                \n",
       "1.0                                                0.9026  \n",
       "1.5                                                0.5608  \n",
       "2.0                                                0.1238  "
      ]
     },
     "execution_count": 25,
     "metadata": {},
     "output_type": "execute_result"
    }
   ],
   "source": [
    "table(E)"
   ]
  },
  {
   "cell_type": "markdown",
   "metadata": {},
   "source": [
    "## Problem 2\n",
    "\n",
    "We can understand from $\\hat{E}_{Temp}(X_{(1,1)}X_{(2,2)})$ and $\\hat{E}_{Temp}(X_{(1,1)}X_{(8,8)})$ for each of the temperatures values the following:\n",
    " - In the case of a lower temperature (=1), the probabilities to obtain two near pixels with the same value and even two far pixels with the same value is likely high.\n",
    " - As we raise the temperature (=1.5), we notice that the overall probabilities to obtain two same value pixels (with the same distance as in the lower temperature) decreases.<br>But still, closer pixels have better chance to get the same value than distant pixels.\n",
    " - with high temperature (=2) we get that even for two close pixels (with distance 2) the probability of gaining the same value is almost independent of each other (probability = 0.5).<br>For two distant pixels, their probability of getting different values is very high (probability = 1 - 0.1 = 0.9).\n",
    " \n",
    "This behaviour results from the Ising's model property that tends to bind close pixels together with the same value (as it tries to shorten the length of the boundaries separating the values)."
   ]
  },
  {
   "cell_type": "markdown",
   "metadata": {},
   "source": [
    "## Computer Excercise 9"
   ]
  },
  {
   "cell_type": "markdown",
   "metadata": {},
   "source": [
    "### Independent Samples"
   ]
  },
  {
   "cell_type": "code",
   "execution_count": 26,
   "metadata": {},
   "outputs": [],
   "source": [
    "def get_gibbs_sample(temp, sweeps, method=1, width=8, verbose=0):\n",
    "    # initiate the Gibbs sampler at a random configuration\n",
    "    sample = np.random.randint(low=0,high=2,size=(width+2,width+2))*2-1\n",
    "    # pad boundries with 0-s\n",
    "    sample[0,:] = 0\n",
    "    sample[:,0] = 0\n",
    "    sample[width+1, :] = 0\n",
    "    sample[:, width+1] = 0\n",
    "    \n",
    "    prog_bar = range(sweeps)\n",
    "    \n",
    "    if verbose:\n",
    "        prog_bar = tqdm(range(sweeps))\n",
    "        prog_bar.set_description(f\"Getting sample with {sweeps} sweeps\")\n",
    "    \n",
    "    if method == 2:\n",
    "        E_1_2 = 0\n",
    "        E_1_8 = 0\n",
    "    \n",
    "    for iteration in prog_bar:\n",
    "        for i in range(1, width+1):\n",
    "            for j in range(1, width+1):\n",
    "                neighbore_sum =  (sample[i-1,j]+sample[i+1,j]+sample[i,j-1]+sample[i,j+1])\n",
    "                p_x = [(np.exp((1/temp) * neighbore_sum)), (np.exp((-1/temp) * neighbore_sum))]\n",
    "                p_x = p_x/(p_x[0] + p_x[1]) # normalize the prob to sum to 1\n",
    "                sample[i,j] = np.random.choice([1,-1], p=p_x)\n",
    "                \n",
    "                if iteration >= 99 and method == 2:\n",
    "                    E_1_2 = ((((iteration - 99) * E_1_2) + sample[1,1]*sample[2,2])/(iteration-98))\n",
    "                    E_1_8 = ((((iteration - 99) * E_1_8) + sample[1,1]*sample[8,8])/(iteration-98))\n",
    "    \n",
    "    if method == 2:\n",
    "        return [E_1_2, E_1_8]\n",
    "    \n",
    "    return sample[1:width+1, 1:width+1]"
   ]
  },
  {
   "cell_type": "code",
   "execution_count": 27,
   "metadata": {},
   "outputs": [],
   "source": [
    "def independent_samples(temp, n=10000):\n",
    "    E_1_2 = 0\n",
    "    E_1_8 = 0\n",
    "\n",
    "    for i in (prog_bar := tqdm(range(n))):\n",
    "        prog_bar.set_description(f\"Getting {n} samples\")\n",
    "        sample = get_gibbs_sample(temp, 25)\n",
    "        E_1_2 += sample[0,0]*sample[1,1]\n",
    "        E_1_8 += sample[0,0]*sample[7,7]\n",
    "\n",
    "    E_1_2 /= n\n",
    "    E_1_8 /= n\n",
    "    \n",
    "    return [E_1_2, E_1_8]"
   ]
  },
  {
   "cell_type": "code",
   "execution_count": 28,
   "metadata": {},
   "outputs": [
    {
     "name": "stderr",
     "output_type": "stream",
     "text": [
      "Getting 10000 samples: 100%|█████████████████████████████████████████████████████| 10000/10000 [11:57<00:00, 13.94it/s]\n",
      "Getting 10000 samples: 100%|█████████████████████████████████████████████████████| 10000/10000 [13:22<00:00, 12.47it/s]\n",
      "Getting 10000 samples: 100%|█████████████████████████████████████████████████████| 10000/10000 [13:25<00:00, 12.42it/s]\n"
     ]
    }
   ],
   "source": [
    "temps = [1, 1.5, 2]\n",
    "E = []\n",
    "for temp in temps:\n",
    "    E.append(independent_samples(temp))"
   ]
  },
  {
   "cell_type": "code",
   "execution_count": 29,
   "metadata": {},
   "outputs": [
    {
     "data": {
      "text/html": [
       "<div>\n",
       "<style scoped>\n",
       "    .dataframe tbody tr th:only-of-type {\n",
       "        vertical-align: middle;\n",
       "    }\n",
       "\n",
       "    .dataframe tbody tr th {\n",
       "        vertical-align: top;\n",
       "    }\n",
       "\n",
       "    .dataframe thead th {\n",
       "        text-align: right;\n",
       "    }\n",
       "</style>\n",
       "<table border=\"1\" class=\"dataframe\">\n",
       "  <thead>\n",
       "    <tr style=\"text-align: right;\">\n",
       "      <th></th>\n",
       "      <th>$$\\qquad\\hat{E}_{Temp}(X_{(1,1)}X_{(2,2)})$$</th>\n",
       "      <th>$$\\qquad\\hat{E}_{Temp}(X_{(1,1)}X_{(8,8)})$$</th>\n",
       "    </tr>\n",
       "    <tr>\n",
       "      <th>temperature</th>\n",
       "      <th></th>\n",
       "      <th></th>\n",
       "    </tr>\n",
       "  </thead>\n",
       "  <tbody>\n",
       "    <tr>\n",
       "      <th>1.0</th>\n",
       "      <td>0.9346</td>\n",
       "      <td>0.5528</td>\n",
       "    </tr>\n",
       "    <tr>\n",
       "      <th>1.5</th>\n",
       "      <td>0.7540</td>\n",
       "      <td>0.3576</td>\n",
       "    </tr>\n",
       "    <tr>\n",
       "      <th>2.0</th>\n",
       "      <td>0.4950</td>\n",
       "      <td>0.1012</td>\n",
       "    </tr>\n",
       "  </tbody>\n",
       "</table>\n",
       "</div>"
      ],
      "text/plain": [
       "             $$\\qquad\\hat{E}_{Temp}(X_{(1,1)}X_{(2,2)})$$  \\\n",
       "temperature                                                 \n",
       "1.0                                                0.9346   \n",
       "1.5                                                0.7540   \n",
       "2.0                                                0.4950   \n",
       "\n",
       "             $$\\qquad\\hat{E}_{Temp}(X_{(1,1)}X_{(8,8)})$$  \n",
       "temperature                                                \n",
       "1.0                                                0.5528  \n",
       "1.5                                                0.3576  \n",
       "2.0                                                0.1012  "
      ]
     },
     "execution_count": 29,
     "metadata": {},
     "output_type": "execute_result"
    }
   ],
   "source": [
    "table(E)"
   ]
  },
  {
   "cell_type": "code",
   "execution_count": 30,
   "metadata": {},
   "outputs": [],
   "source": [
    "def Ergodicity(temp, width=8):\n",
    "    return (get_gibbs_sample(temp, 25000, method=2, verbose=1))"
   ]
  },
  {
   "cell_type": "code",
   "execution_count": 31,
   "metadata": {},
   "outputs": [
    {
     "name": "stderr",
     "output_type": "stream",
     "text": [
      "Getting sample with 25000 sweeps: 100%|█████████████████████████████████████████| 25000/25000 [01:18<00:00, 317.43it/s]\n",
      "Getting sample with 25000 sweeps: 100%|█████████████████████████████████████████| 25000/25000 [01:22<00:00, 303.64it/s]\n",
      "Getting sample with 25000 sweeps: 100%|█████████████████████████████████████████| 25000/25000 [01:24<00:00, 294.73it/s]\n"
     ]
    }
   ],
   "source": [
    "temps = [1, 1.5, 2]\n",
    "\n",
    "E = []\n",
    "for temp in temps:\n",
    "    E.append(Ergodicity(temp))"
   ]
  },
  {
   "cell_type": "code",
   "execution_count": 32,
   "metadata": {},
   "outputs": [
    {
     "data": {
      "text/html": [
       "<div>\n",
       "<style scoped>\n",
       "    .dataframe tbody tr th:only-of-type {\n",
       "        vertical-align: middle;\n",
       "    }\n",
       "\n",
       "    .dataframe tbody tr th {\n",
       "        vertical-align: top;\n",
       "    }\n",
       "\n",
       "    .dataframe thead th {\n",
       "        text-align: right;\n",
       "    }\n",
       "</style>\n",
       "<table border=\"1\" class=\"dataframe\">\n",
       "  <thead>\n",
       "    <tr style=\"text-align: right;\">\n",
       "      <th></th>\n",
       "      <th>$$\\qquad\\hat{E}_{Temp}(X_{(1,1)}X_{(2,2)})$$</th>\n",
       "      <th>$$\\qquad\\hat{E}_{Temp}(X_{(1,1)}X_{(8,8)})$$</th>\n",
       "    </tr>\n",
       "    <tr>\n",
       "      <th>temperature</th>\n",
       "      <th></th>\n",
       "      <th></th>\n",
       "    </tr>\n",
       "  </thead>\n",
       "  <tbody>\n",
       "    <tr>\n",
       "      <th>1.0</th>\n",
       "      <td>0.960890</td>\n",
       "      <td>0.913566</td>\n",
       "    </tr>\n",
       "    <tr>\n",
       "      <th>1.5</th>\n",
       "      <td>0.807486</td>\n",
       "      <td>0.623898</td>\n",
       "    </tr>\n",
       "    <tr>\n",
       "      <th>2.0</th>\n",
       "      <td>0.531088</td>\n",
       "      <td>0.095179</td>\n",
       "    </tr>\n",
       "  </tbody>\n",
       "</table>\n",
       "</div>"
      ],
      "text/plain": [
       "             $$\\qquad\\hat{E}_{Temp}(X_{(1,1)}X_{(2,2)})$$  \\\n",
       "temperature                                                 \n",
       "1.0                                              0.960890   \n",
       "1.5                                              0.807486   \n",
       "2.0                                              0.531088   \n",
       "\n",
       "             $$\\qquad\\hat{E}_{Temp}(X_{(1,1)}X_{(8,8)})$$  \n",
       "temperature                                                \n",
       "1.0                                              0.913566  \n",
       "1.5                                              0.623898  \n",
       "2.0                                              0.095179  "
      ]
     },
     "execution_count": 32,
     "metadata": {},
     "output_type": "execute_result"
    }
   ],
   "source": [
    "table(E)"
   ]
  },
  {
   "cell_type": "markdown",
   "metadata": {},
   "source": [
    "## Problem 3\n",
    "\n",
    "We can see that for two near pixles such as $X_{(1,1)}X_{(2,2)}$, the expectations of the corresponding temperatures in both methods is similar to the exact sampling expectation (and eachother). We speculate that this is because 25 and also obvious 25000 sweeps are enough to achieve good convergence to the true expectations for two near pixels.<br>\n",
    "\n",
    "However, for two far pixles such as $X_{(1,1)}X_{(8,8)}$, the second method is similar to the  true expectations, as it does 25000 sweeps that ables to converge on 8X8 lattice (only 64 pixels) to the true expectation (according to the law of large numbers).\n",
    "But in the first method, for temperatures 1 and 1.5, 25 sweeps are not enough to reach convergence.\n",
    "For temperature 2, the true expectation is closer to 0, meaning the probability for the two pixles to be different from each other is tend to $\\frac{1}{2}$. Therefore, the number of sweeps would not effect that much as the expectation of the initial random configuration from the i.i.d fair coin destribution, is already $\\frac{1}{2}$.\n"
   ]
  },
  {
   "cell_type": "markdown",
   "metadata": {},
   "source": [
    "## Computer Excercise 10"
   ]
  },
  {
   "cell_type": "code",
   "execution_count": 33,
   "metadata": {},
   "outputs": [],
   "source": [
    "def get_posterior_gibbs_sample(temp, y, sigma, sweeps, width=100):\n",
    "    # initiate the Gibbs sampler at a random configuration\n",
    "    sample = np.random.randint(low=0,high=2,size=(width+2,width+2))*2-1\n",
    "    # pad boundries with 0-s\n",
    "    sample[0,:] = 0\n",
    "    sample[:,0] = 0\n",
    "    sample[width+1, :] = 0\n",
    "    sample[:, width+1] = 0\n",
    "        \n",
    "    for iteration in (prog_bar := tqdm(range(sweeps))):\n",
    "        prog_bar.set_description(f\"Getting posterior sample with {sweeps} sweeps\")\n",
    "        for i in range(1, width+1):\n",
    "            for j in range(1, width+1):\n",
    "                neighbore_sum =  (sample[i-1,j]+sample[i+1,j]+sample[i,j-1]+sample[i,j+1])\n",
    "                p_xy = [(np.exp(((1/temp) * neighbore_sum)-((1/(2*(sigma**2)))*(y[i-1,j-1]-1)**2))), \\\n",
    "                       (np.exp(-(1/temp) * neighbore_sum-(1/(2*(sigma**2)))*(y[i-1,j-1]+1)**2))]\n",
    "                p_xy = p_xy/(p_xy[0] + p_xy[1]) # normalize the prob to sum to 1\n",
    "                sample[i,j] = np.random.choice([1,-1], p=p_xy)\n",
    "        \n",
    "    return sample[1:width+1, 1:width+1]"
   ]
  },
  {
   "cell_type": "code",
   "execution_count": 34,
   "metadata": {},
   "outputs": [],
   "source": [
    "def ICM(temp, y, sigma, sweeps, width=100):\n",
    "    # initiate the Gibbs sampler at a random configuration\n",
    "    sample = np.random.randint(low=0,high=2,size=(width+2,width+2))*2-1\n",
    "    # pad boundries with 0-s\n",
    "    sample[0,:] = 0\n",
    "    sample[:,0] = 0\n",
    "    sample[width+1, :] = 0\n",
    "    sample[:, width+1] = 0\n",
    "    \n",
    "    for iteration in (prog_bar := tqdm(range(sweeps))):\n",
    "        prog_bar.set_description(f\"Getting ICM sample with {sweeps} sweeps\")\n",
    "        for i in range(1, width+1):\n",
    "            for j in range(1, width+1):\n",
    "                neighbore_sum =  (sample[i-1,j]+sample[i+1,j]+sample[i,j-1]+sample[i,j+1])\n",
    "                p_xy = [(np.exp((1/temp) * neighbore_sum-(1/(2*(sigma**2)))*(y[i-1,j-1]-1)**2)), \\\n",
    "                       (np.exp(-(1/temp) * neighbore_sum-(1/(2*(sigma**2)))*(y[i-1,j-1]+1)**2))]\n",
    "                \n",
    "                sample[i,j] = -1*(np.argmax(p_xy)*2-1)\n",
    "        \n",
    "    return sample[1:width+1, 1:width+1]"
   ]
  },
  {
   "cell_type": "code",
   "execution_count": 35,
   "metadata": {},
   "outputs": [],
   "source": [
    "def MLE(y):\n",
    "    return np.sign(y)"
   ]
  },
  {
   "cell_type": "code",
   "execution_count": 36,
   "metadata": {},
   "outputs": [
    {
     "name": "stderr",
     "output_type": "stream",
     "text": [
      "Getting sample with 50 sweeps: 100%|███████████████████████████████████████████████████| 50/50 [00:23<00:00,  2.12it/s]\n",
      "Getting posterior sample with 50 sweeps: 100%|█████████████████████████████████████████| 50/50 [00:29<00:00,  1.71it/s]\n",
      "Getting ICM sample with 50 sweeps: 100%|███████████████████████████████████████████████| 50/50 [00:12<00:00,  3.94it/s]\n",
      "Getting sample with 50 sweeps: 100%|███████████████████████████████████████████████████| 50/50 [00:24<00:00,  2.08it/s]\n",
      "Getting posterior sample with 50 sweeps: 100%|█████████████████████████████████████████| 50/50 [00:26<00:00,  1.90it/s]\n",
      "Getting ICM sample with 50 sweeps: 100%|███████████████████████████████████████████████| 50/50 [00:13<00:00,  3.66it/s]\n",
      "Getting sample with 50 sweeps: 100%|███████████████████████████████████████████████████| 50/50 [00:26<00:00,  1.89it/s]\n",
      "Getting posterior sample with 50 sweeps: 100%|█████████████████████████████████████████| 50/50 [00:25<00:00,  1.92it/s]\n",
      "Getting ICM sample with 50 sweeps: 100%|███████████████████████████████████████████████| 50/50 [00:12<00:00,  4.11it/s]\n"
     ]
    }
   ],
   "source": [
    "Xs = []\n",
    "Ys = []\n",
    "postiriors = []\n",
    "ICMs = []\n",
    "MLEs= []\n",
    "\n",
    "for temp in temps:\n",
    "    sigma = 2\n",
    "    sweeps = 50\n",
    "    \n",
    "    x = get_gibbs_sample(temp, sweeps, width=100, verbose=1)\n",
    "    Xs.append(x)\n",
    "    \n",
    "    eta = 2*np.random.standard_normal(size=(100,100))\n",
    "    y = x + eta\n",
    "    Ys.append(y)\n",
    "    \n",
    "    postiriors.append(get_posterior_gibbs_sample(temp, y, sigma, sweeps))\n",
    "    ICMs.append(ICM(temp, y, sigma, sweeps))\n",
    "    MLEs.append(MLE(y))"
   ]
  },
  {
   "cell_type": "code",
   "execution_count": 37,
   "metadata": {},
   "outputs": [
    {
     "data": {
      "image/png": "[encoded data removed]",
      "text/plain": [
       "<Figure size 1440x1440 with 5 Axes>"
      ]
     },
     "metadata": {
      "needs_background": "light"
     },
     "output_type": "display_data"
    },
    {
     "data": {
      "image/png": "[encoded data removed]",
      "text/plain": [
       "<Figure size 1440x1440 with 5 Axes>"
      ]
     },
     "metadata": {
      "needs_background": "light"
     },
     "output_type": "display_data"
    },
    {
     "data": {
      "image/png": "[encoded data removed]",
      "text/plain": [
       "<Figure size 1440x1440 with 5 Axes>"
      ]
     },
     "metadata": {
      "needs_background": "light"
     },
     "output_type": "display_data"
    }
   ],
   "source": [
    "for i in range(3):\n",
    "    fig, axs = plt.subplots(1, 5, figsize=(20,20))\n",
    "    axs[0].imshow(Xs[i], interpolation=\"None\", cmap='summer', vmin=-1, vmax=+1)\n",
    "    axs[0].axis(\"off\")\n",
    "    axs[0].set_title(\"X\")\n",
    "    \n",
    "    axs[1].imshow(Ys[i], interpolation=\"None\", cmap='summer')\n",
    "    axs[1].axis(\"off\")\n",
    "    axs[1].set_title(\"Y\")\n",
    "    \n",
    "    axs[2].imshow(postiriors[i], interpolation=\"None\", cmap='summer', vmin=-1, vmax=+1)\n",
    "    axs[2].axis(\"off\")\n",
    "    axs[2].set_title(\"Posterior\")\n",
    "    \n",
    "    axs[3].imshow(ICMs[i], interpolation=\"None\", cmap='summer', vmin=-1, vmax=+1)\n",
    "    axs[3].axis(\"off\")\n",
    "    axs[3].set_title(\"ICM\")\n",
    "    \n",
    "    axs[4].imshow(MLEs[i], interpolation=\"None\", cmap='summer', vmin=-1, vmax=+1)\n",
    "    axs[4].axis(\"off\")\n",
    "    axs[4].set_title(\"MLE\")"
   ]
  }
 ],
 "metadata": {
  "kernelspec": {
   "display_name": "Python 3",
   "language": "python",
   "name": "python3"
  },
  "language_info": {
   "codemirror_mode": {
    "name": "ipython",
    "version": 3
   },
   "file_extension": ".py",
   "mimetype": "text/x-python",
   "name": "python",
   "nbconvert_exporter": "python",
   "pygments_lexer": "ipython3",
   "version": "3.8.3"
  }
 },
 "nbformat": 4,
 "nbformat_minor": 4
}
