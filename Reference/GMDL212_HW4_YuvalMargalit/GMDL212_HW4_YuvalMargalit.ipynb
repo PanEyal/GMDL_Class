{
 "cells": [
  {
   "cell_type": "code",
   "execution_count": 9,
   "metadata": {},
   "outputs": [
    {
     "data": {
      "text/plain": [
       "<matplotlib.axes._axes.Axes at 0x274631927f0>"
      ]
     },
     "execution_count": 9,
     "metadata": {},
     "output_type": "execute_result"
    },
    {
     "data": {
      "image/png": "[encoded data removed]",
      "text/plain": [
       "<Figure size 566.929x566.929 with 1 Axes>"
      ]
     },
     "metadata": {},
     "output_type": "display_data"
    }
   ],
   "source": [
    "import numpy as np\n",
    "import daft\n",
    "import itertools\n",
    "import pandas as pd\n",
    "from matplotlib import rc\n",
    "from matplotlib import pyplot as plt\n",
    "\n",
    "rc(\"font\", family=\"serif\", size=14)\n",
    "\n",
    "rc(\"text\", usetex=True)\n",
    "\n",
    "plt.rcParams['text.latex.preamble']=r\"\\usepackage{amsmath}\"\n",
    "pgm = daft.PGM([20, 20], node_unit=1.5, grid_unit=1,directed=False)\n",
    "\n",
    "# variable.\n",
    "pgm.add_node(daft.Node(\"d\", r\"$d$\",x = 1,y = 19))\n",
    "pgm.add_node(daft.Node(\"i\", r\"$i$\",x = 3,y = 19))\n",
    "pgm.add_node(daft.Node(\"g\", r\"$g$\",x = 2,y = 13))\n",
    "pgm.add_node(daft.Node(\"s\", r\"$s$\",x = 5,y = 13))\n",
    "pgm.add_node(daft.Node(\"l\", r\"$l$\",x = 2,y = 7))\n",
    "\n",
    "# factors.\n",
    "pgm.add_node(daft.Node(\"f1\", r\"$f_1$\",x = 5,y = 16,shape=\"rectangle\"))\n",
    "pgm.add_node(daft.Node(\"f2\", r\"$f_2$\",x = 2,y = 16,shape=\"rectangle\"))\n",
    "pgm.add_node(daft.Node(\"f3\", r\"$f_3$\",x = 2,y = 10,shape=\"rectangle\"))\n",
    "\n",
    "# Add in the edges.\n",
    "pgm.add_edge(\"d\", \"f2\")\n",
    "pgm.add_edge(\"i\", \"f2\")\n",
    "pgm.add_edge(\"f2\", \"g\")\n",
    "pgm.add_edge(\"g\", \"f3\")\n",
    "pgm.add_edge(\"f3\", \"l\")\n",
    "pgm.add_edge(\"i\", \"f1\")\n",
    "pgm.add_edge(\"f1\", \"s\")\n",
    "\n",
    "# Render and save.\n",
    "pgm.render()\n"
   ]
  },
  {
   "cell_type": "code",
   "execution_count": 2,
   "metadata": {},
   "outputs": [],
   "source": [
    "binary_states=range(2)\n",
    "grade_states=range(3)\n",
    "pi=np.array([0.7,0.3])\n",
    "pd=np.array([0.6,0.4])\n",
    "ps=np.array([[0.95,0.05],[0.2,0.8]])\n",
    "pl=np.array([[0.1,0.9],[0.4,0.6],[0.99,0.01]])\n",
    "pg=np.array([[[0.3,0.4,0.3],[0.05,0.25,0.7]],[[0.9,0.08,0.02],[0.5,0.3,0.2]]])#[i,d,g]\n",
    "#f1=p(i)*p(s|i)\n",
    "#f2=p(d)*p(g|i,d)\n",
    "#f3=p(l|g)"
   ]
  },
  {
   "cell_type": "code",
   "execution_count": 3,
   "metadata": {},
   "outputs": [],
   "source": [
    "l_to_f3=1\n",
    "s_to_f1=1\n",
    "d_to_f2=1\n",
    "f1_to_i=ps.sum(axis=1)*pi\n",
    "f3_to_g=pl.sum(axis=1)\n",
    "g_to_f2=f3_to_g\n",
    "i_to_f2=f1_to_i"
   ]
  },
  {
   "cell_type": "code",
   "execution_count": 4,
   "metadata": {},
   "outputs": [
    {
     "name": "stdout",
     "output_type": "stream",
     "text": [
      "p(d)= [0.6 0.4]\n"
     ]
    }
   ],
   "source": [
    "#p(d)\n",
    "f2_to_d=np.zeros(2)\n",
    "for i,d,g in itertools.product(binary_states,binary_states,grade_states):\n",
    "    f2_to_d[d]+=pg[i,d,g]*i_to_f2[i]*g_to_f2[g]*pd[d]\n",
    "marg_d=f2_to_d\n",
    "print(\"p(d)=\",marg_d)"
   ]
  },
  {
   "cell_type": "code",
   "execution_count": 5,
   "metadata": {},
   "outputs": [
    {
     "name": "stdout",
     "output_type": "stream",
     "text": [
      "p(i)= [0.7 0.3]\n"
     ]
    }
   ],
   "source": [
    "#p(i)\n",
    "f2_to_i=np.zeros(2)\n",
    "for i,d,g in itertools.product(binary_states,binary_states,grade_states):\n",
    "    f2_to_i[i]+=pg[i,d,g]*g_to_f2[g]*pd[d]\n",
    "marg_i=f2_to_i*f1_to_i\n",
    "marg_i/=marg_i.sum()\n",
    "print(\"p(i)=\",marg_i)"
   ]
  },
  {
   "cell_type": "code",
   "execution_count": 6,
   "metadata": {},
   "outputs": [
    {
     "name": "stdout",
     "output_type": "stream",
     "text": [
      "p(g)= [0.362  0.2884 0.3496]\n"
     ]
    }
   ],
   "source": [
    "#p(g)\n",
    "f2_to_g=np.zeros(3)\n",
    "for i,d,g in itertools.product(binary_states,binary_states,grade_states):\n",
    "    f2_to_g[g]+=pg[i,d,g]*i_to_f2[i]*pd[d]\n",
    "marg_g=f2_to_g*f3_to_g\n",
    "marg_g/=marg_g.sum()\n",
    "print(\"p(g)=\",marg_g)"
   ]
  },
  {
   "cell_type": "code",
   "execution_count": 7,
   "metadata": {},
   "outputs": [
    {
     "name": "stdout",
     "output_type": "stream",
     "text": [
      "p(l)= [0.497664 0.502336]\n"
     ]
    }
   ],
   "source": [
    "#p(l)\n",
    "g_to_f3=f2_to_g\n",
    "f3_to_l=np.zeros(2)\n",
    "for l,g in itertools.product(binary_states,grade_states):\n",
    "    f3_to_l[l]+=pl[g,l]*g_to_f3[g]\n",
    "f3_to_l\n",
    "marg_l=f3_to_l/f3_to_l.sum()\n",
    "print(\"p(l)=\",marg_l)"
   ]
  },
  {
   "cell_type": "code",
   "execution_count": 8,
   "metadata": {},
   "outputs": [
    {
     "name": "stdout",
     "output_type": "stream",
     "text": [
      "p(s)= [0.725 0.275]\n"
     ]
    }
   ],
   "source": [
    "#p(s)\n",
    "i_to_f1=f2_to_i\n",
    "f1_to_s=np.zeros(2)\n",
    "for i,s in itertools.product(binary_states,binary_states):\n",
    "    f1_to_s[s]+=ps[i,s]*i_to_f1[i]*pi[i]\n",
    "f1_to_s\n",
    "marg_s=f1_to_s\n",
    "print(\"p(s)=\",marg_s)"
   ]
  }
 ],
 "metadata": {
  "kernelspec": {
   "display_name": "Python 3",
   "language": "python",
   "name": "python3"
  },
  "language_info": {
   "codemirror_mode": {
    "name": "ipython",
    "version": 3
   },
   "file_extension": ".py",
   "mimetype": "text/x-python",
   "name": "python",
   "nbconvert_exporter": "python",
   "pygments_lexer": "ipython3",
   "version": "3.9.2"
  }
 },
 "nbformat": 4,
 "nbformat_minor": 4
}
