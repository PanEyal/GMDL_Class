{
 "cells": [
  {
   "cell_type": "markdown",
   "metadata": {
    "id": "y5DP9FLjodab"
   },
   "source": [
    "# **GMDL Project**\n",
    "#### Pan Eyal, Ilana Pervoi"
   ]
  },
  {
   "cell_type": "markdown",
   "metadata": {
    "id": "CW8UTL7-Nmu1"
   },
   "source": [
    "# 1. Data & Preprocessing"
   ]
  },
  {
   "cell_type": "code",
   "execution_count": 29,
   "metadata": {
    "id": "QY4UYPyGEYNX"
   },
   "outputs": [],
   "source": [
    "import os\n",
    "\n",
    "import numpy as np \n",
    "import torch\n",
    "import torch.nn as nn\n",
    "import torch.nn.functional as F\n",
    "import torch.utils.data\n",
    "from torch.utils.data import Dataset\n",
    "\n",
    "import torchvision\n",
    "from torchvision import datasets, transforms\n",
    "\n",
    "import matplotlib.pyplot as plt\n",
    "\n",
    "from sklearn.metrics import confusion_matrix\n",
    "from sklearn.metrics import ConfusionMatrixDisplay\n",
    "\n",
    "from google.colab import files\n",
    "\n",
    "device = torch.device(\"cuda:0\" if torch.cuda.is_available() else \"cpu\")\n",
    "\n",
    "# Random seed (for reproducibility)\n",
    "SEED = 42\n",
    "np.random.seed(SEED)\n",
    "torch.manual_seed(SEED)\n",
    "torch.cuda.manual_seed(SEED)"
   ]
  },
  {
   "cell_type": "code",
   "execution_count": 2,
   "metadata": {
    "id": "iB9RBMpo0O-f"
   },
   "outputs": [],
   "source": [
    "def imshow(inp, title=None):\n",
    "    \"\"\"Imshow for Tensor\"\"\"\n",
    "    inp = inp.numpy().transpose((1, 2, 0))\n",
    "    mean = np.array([0.485, 0.456, 0.406])\n",
    "    std = np.array([0.229, 0.224, 0.225])\n",
    "    inp = std * inp + mean\n",
    "    inp = np.clip(inp, 0, 1)\n",
    "    plt.imshow(inp)\n",
    "    if title is not None:\n",
    "        plt.title(title)\n",
    "    plt.pause(0.001)  # pause a bit so that plots are updated"
   ]
  },
  {
   "cell_type": "markdown",
   "metadata": {
    "id": "aJemwRQ8OEGR"
   },
   "source": [
    "## Datasets, dataloaders and transformations"
   ]
  },
  {
   "cell_type": "code",
   "execution_count": 3,
   "metadata": {
    "id": "3J0tIHlo-0nn"
   },
   "outputs": [],
   "source": [
    "BATCH_SIZE = 128"
   ]
  },
  {
   "cell_type": "code",
   "execution_count": 4,
   "metadata": {
    "id": "VulBX7FjPyIe"
   },
   "outputs": [],
   "source": [
    "class data_set(Dataset):\n",
    "  \"\"\"for Combined dataset\"\"\"\n",
    "  def __init__(self, dataset, targets):\n",
    "    self.dataset = dataset\n",
    "    self.targets = targets\n",
    "      \n",
    "  def __getitem__(self, idx):\n",
    "    image = self.dataset[idx][0]\n",
    "    target = self.targets[idx]\n",
    "    return (image, target)\n",
    "\n",
    "  def __len__(self):\n",
    "    return len(self.dataset)"
   ]
  },
  {
   "cell_type": "markdown",
   "metadata": {
    "id": "198FIAjMY_bQ"
   },
   "source": [
    "### MNIST - for training"
   ]
  },
  {
   "cell_type": "code",
   "execution_count": 5,
   "metadata": {
    "id": "KJSzq6bhNNiI"
   },
   "outputs": [],
   "source": [
    "mnist_transform = transforms.Compose([transforms.ToTensor(),\n",
    "                              transforms.Normalize(\n",
    "                                  (0.1307,),\n",
    "                                  (0.3081,)), # mnist mean & std\n",
    "                              transforms.Resize(28)])\n",
    "\n",
    "mnist_train_set = torchvision.datasets.MNIST(root='./data',\n",
    "                                                 train=True,\n",
    "                                                 download=True,\n",
    "                                                 transform=mnist_transform)\n",
    "\n",
    "mnist_test_set = torchvision.datasets.MNIST(root='./data',\n",
    "                                            train=False,\n",
    "                                            download=True,\n",
    "                                            transform=mnist_transform)\n",
    "\n",
    "mnist_train_loader = torch.utils.data.DataLoader(mnist_train_set,\n",
    "                                                 batch_size=BATCH_SIZE,\n",
    "                                                 shuffle=True,\n",
    "                                                 num_workers=2)\n",
    "\n",
    "mnist_test_loader = torch.utils.data.DataLoader(mnist_test_set,\n",
    "                                                batch_size=BATCH_SIZE,\n",
    "                                                shuffle=False,\n",
    "                                                num_workers=2)"
   ]
  },
  {
   "cell_type": "code",
   "execution_count": 6,
   "metadata": {
    "colab": {
     "base_uri": "https://localhost:8080/",
     "height": 134
    },
    "id": "4CA8HEHf0l1r",
    "outputId": "91366a5d-6776-42b1-80ee-b3569fd1b05f"
   },
   "outputs": [
    {
     "data": {
      "image/png": "[encoded data removed]",
      "text/plain": [
       "<Figure size 432x288 with 1 Axes>"
      ]
     },
     "metadata": {
      "needs_background": "light"
     },
     "output_type": "display_data"
    }
   ],
   "source": [
    "# Printing 5 MNIST data examples\n",
    "inputs, classes = next(iter(mnist_test_loader))\n",
    "out = torchvision.utils.make_grid(inputs[:5])\n",
    "imshow(out, title=[x for x in classes[:5]])"
   ]
  },
  {
   "cell_type": "markdown",
   "metadata": {
    "id": "1PJui2PtOG7H"
   },
   "source": [
    "### CIFAR10 as OOD dataset - for evaluation"
   ]
  },
  {
   "cell_type": "code",
   "execution_count": 7,
   "metadata": {
    "colab": {
     "base_uri": "https://localhost:8080/",
     "height": 0
    },
    "id": "nDpWEUwET3a-",
    "outputId": "d81a1ba9-1a24-4abd-b038-31e25bd8ee6f"
   },
   "outputs": [
    {
     "name": "stdout",
     "output_type": "stream",
     "text": [
      "Files already downloaded and verified\n"
     ]
    }
   ],
   "source": [
    "CIFAR10_SUBSET_SIZE = 500 # unknown data set\n",
    "\n",
    "cifar10_transform = transforms.Compose([transforms.ToTensor(),\n",
    "                              transforms.Normalize(\n",
    "                                  (0.4914, 0.4822, 0.4465),\n",
    "                                  (0.247, 0.243, 0.261)), # cifar10 mean & std\n",
    "                              transforms.Resize(28),\n",
    "                              transforms.Grayscale(num_output_channels=1)])\n",
    "\n",
    "cifar10_test_set = torchvision.datasets.CIFAR10(root='./data',\n",
    "                                              train=False,\n",
    "                                              download=True,\n",
    "                                              transform=cifar10_transform)\n",
    "\n",
    "cifar10_test_subset_data = torch.utils.data.Subset(cifar10_test_set,\n",
    "                                                   np.random.choice(\n",
    "                                                       range(len(\n",
    "                                                           cifar10_test_set)),\n",
    "                                                           size=CIFAR10_SUBSET_SIZE))\n",
    "\n",
    "sub_cifar10_targets = [10 for i in range(CIFAR10_SUBSET_SIZE)]\n",
    "cifar10_test_subset = data_set(cifar10_test_subset_data, sub_cifar10_targets)\n",
    "\n",
    "cifar10_test_loader = torch.utils.data.DataLoader(cifar10_test_subset,\n",
    "                                                batch_size=BATCH_SIZE,\n",
    "                                                shuffle=False,\n",
    "                                                num_workers=2)"
   ]
  },
  {
   "cell_type": "code",
   "execution_count": 8,
   "metadata": {
    "colab": {
     "base_uri": "https://localhost:8080/",
     "height": 134
    },
    "id": "B2Jpl2lc1c3F",
    "outputId": "9d0aa04f-70cf-453d-b559-15b1e9e8a7a6"
   },
   "outputs": [
    {
     "data": {
      "image/png": "[encoded data removed]",
      "text/plain": [
       "<Figure size 432x288 with 1 Axes>"
      ]
     },
     "metadata": {
      "needs_background": "light"
     },
     "output_type": "display_data"
    }
   ],
   "source": [
    "# Printing 5 CIFAR10 data examples\n",
    "inputs, classes = next(iter(cifar10_test_loader))\n",
    "out = torchvision.utils.make_grid(inputs[:5])\n",
    "imshow(out, title=[x for x in classes[:5]])"
   ]
  },
  {
   "cell_type": "code",
   "execution_count": 9,
   "metadata": {
    "id": "qBqvcjz12HrU"
   },
   "outputs": [],
   "source": [
    "combined_test_loader = torch.utils.data.DataLoader(\n",
    "    torch.utils.data.ConcatDataset([mnist_test_set, cifar10_test_subset]),\n",
    "        batch_size=BATCH_SIZE, shuffle=True)"
   ]
  },
  {
   "cell_type": "code",
   "execution_count": 10,
   "metadata": {
    "colab": {
     "base_uri": "https://localhost:8080/",
     "height": 134
    },
    "id": "P_DfilVe1ssM",
    "outputId": "8a4a76f4-2c44-46fc-d73f-85ff5a8e3711"
   },
   "outputs": [
    {
     "data": {
      "image/png": "[encoded data removed]",
      "text/plain": [
       "<Figure size 432x288 with 1 Axes>"
      ]
     },
     "metadata": {
      "needs_background": "light"
     },
     "output_type": "display_data"
    }
   ],
   "source": [
    "# Printing 5 COMBINED data examples\n",
    "inputs, classes = next(iter(combined_test_loader))\n",
    "out = torchvision.utils.make_grid(inputs[:5])\n",
    "imshow(out, title=[x for x in classes[:5]])"
   ]
  },
  {
   "cell_type": "markdown",
   "metadata": {
    "id": "QeGkjNbvWmOd"
   },
   "source": [
    "\n",
    "# 2. Models"
   ]
  },
  {
   "cell_type": "code",
   "execution_count": 11,
   "metadata": {
    "id": "2QirT6gEHQF2"
   },
   "outputs": [],
   "source": [
    "def out_size(W, F, S, P):\n",
    "  return ((W-F+2*P) // S) + 1"
   ]
  },
  {
   "cell_type": "markdown",
   "metadata": {
    "id": "TY5Tl05oW2nv"
   },
   "source": [
    "### Baseline model class"
   ]
  },
  {
   "cell_type": "code",
   "execution_count": 12,
   "metadata": {
    "id": "OpNl-OWY9aQI"
   },
   "outputs": [],
   "source": [
    "class CNN(nn.Module):\n",
    "  def __init__(self):\n",
    "    super(CNN, self).__init__()\n",
    "    self.conv1 = nn.Conv2d(1, 32, kernel_size=5)\n",
    "    self.conv2 = nn.Conv2d(32, 32, kernel_size=5)\n",
    "    self.conv3 = nn.Conv2d(32,64, kernel_size=5)\n",
    "    self.fc1 = nn.Linear(3*3*64, 256)\n",
    "    self.fc2 = nn.Linear(256, 10)\n",
    "\n",
    "  def forward(self, x):\n",
    "    x = F.relu(self.conv1(x))\n",
    "    x = F.dropout(x, p=0.5, training=self.training)\n",
    "\n",
    "    x = F.relu(F.avg_pool2d(self.conv2(x), 2))\n",
    "    x = F.dropout(x, p=0.5, training=self.training)\n",
    "\n",
    "    x = F.relu(F.avg_pool2d(self.conv3(x),2))\n",
    "    x = F.dropout(x, p=0.5, training=self.training)\n",
    "\n",
    "    x = x.view(-1, 3*3*64)\n",
    "    x = F.relu(self.fc1(x))\n",
    "    x = F.dropout(x, training=self.training)\n",
    "\n",
    "    x = self.fc2(x)\n",
    "    return x"
   ]
  },
  {
   "cell_type": "markdown",
   "metadata": {
    "id": "LGvYZ5GfW5SO"
   },
   "source": [
    "### OSR model class"
   ]
  },
  {
   "cell_type": "code",
   "execution_count": 13,
   "metadata": {
    "id": "txCJK_5jNs7l"
   },
   "outputs": [],
   "source": [
    "class OSR(nn.Module):\n",
    "  def __init__(self, state_dict = None, dropout = 0.3, **kwargs):\n",
    "    super(OSR, self).__init__()\n",
    "\n",
    "    self.num_classes = 10\n",
    "    self.cnn = CNN()\n",
    "    if state_dict is not None:\n",
    "      self.cnn.load_state_dict(state_dict)\n",
    "    \n",
    "    self.classify = nn.Linear(self.num_classes, self.num_classes)\n",
    "    self.anchors = nn.Parameter(\n",
    "        torch.diag(torch.Tensor([10 for i in range(10)])).double(),\n",
    "        requires_grad = False)\n",
    "\n",
    "  def forward(self, x):\n",
    "    batch_size = len(x)\n",
    "    x = self.cnn(x)\n",
    "    outLinear = self.classify(x)\n",
    "    outDistance = self.distance_classifier(outLinear)\n",
    "\n",
    "    return outDistance\n",
    "\n",
    "  def distance_classifier(self, outLinear):\n",
    "    \"\"\" Calculates euclidean distance from outLinear to each class anchor\n",
    "      Returns n x m array of distance from input of batch_size n\n",
    "      to anchors of size m \"\"\"\n",
    "    n = outLinear.size(0)\n",
    "    m = self.num_classes\n",
    "    d = self.num_classes\n",
    "\n",
    "    outLinear = outLinear.unsqueeze(1).expand(n, m, d).double()\n",
    "    anchors = self.anchors.unsqueeze(0).expand(n, m, d)\n",
    "    dists = torch.norm(outLinear-anchors, 2, 2)\n",
    "\n",
    "    return dists"
   ]
  },
  {
   "cell_type": "markdown",
   "metadata": {
    "id": "hLJfhW3jN88t"
   },
   "source": [
    "# 3. Training"
   ]
  },
  {
   "cell_type": "markdown",
   "metadata": {
    "id": "VJgmRkd2OPuJ"
   },
   "source": [
    "### Training procedure for baseline model"
   ]
  },
  {
   "cell_type": "code",
   "execution_count": 14,
   "metadata": {
    "id": "L61jUSqMOcaR"
   },
   "outputs": [],
   "source": [
    "def train(model, criterion, train_loader):\n",
    "  optimizer = torch.optim.Adam(model.parameters())#,lr=0.001, betas=(0.9,0.999))\n",
    "  EPOCHS = 5 # return to 5 at the end\n",
    "  model.train()\n",
    "  \n",
    "  for epoch in range(EPOCHS):\n",
    "    print('--------------- Epoch : {} -------------'.format(epoch + 1))\n",
    "    correct = 0\n",
    "    loss = 0\n",
    "    for batch_idx, (inputs, targets) in enumerate(train_loader):\n",
    "      inputs = inputs.to(device)\n",
    "      targets = targets.to(device)\n",
    "      optimizer.zero_grad()\n",
    "\n",
    "      outputs = model(inputs)\n",
    "      \n",
    "      loss = criterion(outputs, targets)\n",
    "      loss.backward()\n",
    "      optimizer.step()\n",
    "\n",
    "      if batch_idx % 100 == 0:\n",
    "        print('[{}/{} ({:.0f}%)]\\tLoss: {:.6f}'.format(\n",
    "              batch_idx*len(inputs),\n",
    "              len(train_loader.dataset),\n",
    "              100.*batch_idx / len(train_loader),\n",
    "              loss.data))"
   ]
  },
  {
   "cell_type": "code",
   "execution_count": 15,
   "metadata": {
    "colab": {
     "base_uri": "https://localhost:8080/",
     "height": 0
    },
    "id": "rjbbcRYTCbxg",
    "outputId": "2d300c11-d0e5-4d68-93d2-80b73814c2e6"
   },
   "outputs": [
    {
     "name": "stdout",
     "output_type": "stream",
     "text": [
      "--------------- Epoch : 1 -------------\n",
      "[0/60000 (0%)]\tLoss: 2.308709\n",
      "[12800/60000 (21%)]\tLoss: 0.399435\n",
      "[25600/60000 (43%)]\tLoss: 0.308703\n",
      "[38400/60000 (64%)]\tLoss: 0.178245\n",
      "[51200/60000 (85%)]\tLoss: 0.208228\n",
      "--------------- Epoch : 2 -------------\n",
      "[0/60000 (0%)]\tLoss: 0.125328\n",
      "[12800/60000 (21%)]\tLoss: 0.128402\n",
      "[25600/60000 (43%)]\tLoss: 0.088483\n",
      "[38400/60000 (64%)]\tLoss: 0.245538\n",
      "[51200/60000 (85%)]\tLoss: 0.061351\n",
      "--------------- Epoch : 3 -------------\n",
      "[0/60000 (0%)]\tLoss: 0.073313\n",
      "[12800/60000 (21%)]\tLoss: 0.083124\n",
      "[25600/60000 (43%)]\tLoss: 0.073345\n",
      "[38400/60000 (64%)]\tLoss: 0.109590\n",
      "[51200/60000 (85%)]\tLoss: 0.180357\n",
      "--------------- Epoch : 4 -------------\n",
      "[0/60000 (0%)]\tLoss: 0.084745\n",
      "[12800/60000 (21%)]\tLoss: 0.085491\n",
      "[25600/60000 (43%)]\tLoss: 0.053581\n",
      "[38400/60000 (64%)]\tLoss: 0.131596\n",
      "[51200/60000 (85%)]\tLoss: 0.079892\n",
      "--------------- Epoch : 5 -------------\n",
      "[0/60000 (0%)]\tLoss: 0.063958\n",
      "[12800/60000 (21%)]\tLoss: 0.089258\n",
      "[25600/60000 (43%)]\tLoss: 0.082437\n",
      "[38400/60000 (64%)]\tLoss: 0.064615\n",
      "[51200/60000 (85%)]\tLoss: 0.071399\n"
     ]
    }
   ],
   "source": [
    "cnn = CNN()\n",
    "if torch.cuda.is_available():\n",
    "    cnn.cuda()\n",
    "\n",
    "criterion = nn.CrossEntropyLoss()\n",
    "train(cnn, criterion, mnist_train_loader)"
   ]
  },
  {
   "cell_type": "markdown",
   "metadata": {
    "id": "mPIc_SoteNRx"
   },
   "source": [
    "### Training procedure for OSR model"
   ]
  },
  {
   "cell_type": "markdown",
   "metadata": {
    "id": "EE6f2iOwNXQ9"
   },
   "source": [
    "\\begin{align}\n",
    "  \\mathbf{Loss}_T(\\pmb{x},y) =\n",
    "  \\log \\left(1 + \\sum_{j \\ne y}^N \\exp\\left(d_y - d_j\\right)\\right)\n",
    "  \\end{align}"
   ]
  },
  {
   "cell_type": "markdown",
   "metadata": {
    "id": "lHKvUvS9QU_i"
   },
   "source": [
    "\\begin{align}\n",
    "  \\mathbf{Loss}_A(\\pmb{x},y) = d_y\n",
    "  \\end{align}"
   ]
  },
  {
   "cell_type": "markdown",
   "metadata": {
    "id": "CXAF-ck5QeeG"
   },
   "source": [
    "\\begin{align}\n",
    "  \\mathbf{Loss}_{CAC}(\\pmb{x},y) =\n",
    "  \\mathbf{Loss}_T(\\pmb{x},y) + \\lambda \\cdot \\mathbf{Loss}_A(\\pmb{x},y)\n",
    "  \\end{align}"
   ]
  },
  {
   "cell_type": "code",
   "execution_count": 16,
   "metadata": {
    "id": "ojrBgsWLdhIe"
   },
   "outputs": [],
   "source": [
    "def Loss_CAC(distances, targets, lmbda=0.1):\n",
    "    true_distances = torch.gather(distances, 1, targets.view(-1, 1)).view(-1)\n",
    "    non_true_distances = torch.Tensor(\n",
    "            [[i for i in range(10) if targets[x] != i] for x in range(len(distances))]).long().to(device)\n",
    "    other_distances = torch.gather(distances, 1, non_true_distances)\n",
    "\n",
    "    loss_A = torch.mean(true_distances)\n",
    "\n",
    "    loss_T = torch.exp(true_distances.unsqueeze(1) - other_distances)\n",
    "    loss_T = torch.mean(torch.log(1+torch.sum(loss_T, dim = 1)))\n",
    "\n",
    "    loss_CAC = loss_T + lmbda * loss_A\n",
    "\n",
    "    return loss_CAC"
   ]
  },
  {
   "cell_type": "code",
   "execution_count": 17,
   "metadata": {
    "colab": {
     "base_uri": "https://localhost:8080/",
     "height": 0
    },
    "id": "fxYfG3npeB3B",
    "outputId": "51de75bc-593d-4a84-e635-c26926b3a2a5"
   },
   "outputs": [
    {
     "name": "stdout",
     "output_type": "stream",
     "text": [
      "--------------- Epoch : 1 -------------\n",
      "[0/60000 (0%)]\tLoss: 7.240751\n",
      "[12800/60000 (21%)]\tLoss: 0.872077\n",
      "[25600/60000 (43%)]\tLoss: 0.572993\n",
      "[38400/60000 (64%)]\tLoss: 0.482677\n",
      "[51200/60000 (85%)]\tLoss: 0.460322\n",
      "--------------- Epoch : 2 -------------\n",
      "[0/60000 (0%)]\tLoss: 0.455530\n",
      "[12800/60000 (21%)]\tLoss: 0.490036\n",
      "[25600/60000 (43%)]\tLoss: 0.411519\n",
      "[38400/60000 (64%)]\tLoss: 0.583462\n",
      "[51200/60000 (85%)]\tLoss: 0.461787\n",
      "--------------- Epoch : 3 -------------\n",
      "[0/60000 (0%)]\tLoss: 0.379365\n",
      "[12800/60000 (21%)]\tLoss: 0.361456\n",
      "[25600/60000 (43%)]\tLoss: 0.445346\n",
      "[38400/60000 (64%)]\tLoss: 0.338874\n",
      "[51200/60000 (85%)]\tLoss: 0.382265\n",
      "--------------- Epoch : 4 -------------\n",
      "[0/60000 (0%)]\tLoss: 0.296463\n",
      "[12800/60000 (21%)]\tLoss: 0.458847\n",
      "[25600/60000 (43%)]\tLoss: 0.358428\n",
      "[38400/60000 (64%)]\tLoss: 0.323584\n",
      "[51200/60000 (85%)]\tLoss: 0.340818\n",
      "--------------- Epoch : 5 -------------\n",
      "[0/60000 (0%)]\tLoss: 0.387706\n",
      "[12800/60000 (21%)]\tLoss: 0.331412\n",
      "[25600/60000 (43%)]\tLoss: 0.358564\n",
      "[38400/60000 (64%)]\tLoss: 0.375515\n",
      "[51200/60000 (85%)]\tLoss: 0.362730\n"
     ]
    }
   ],
   "source": [
    "osr = OSR(cnn.state_dict())\n",
    "\n",
    "if torch.cuda.is_available():\n",
    "  osr.cuda()\n",
    "\n",
    "criterion = Loss_CAC\n",
    "train(osr, criterion, mnist_train_loader)"
   ]
  },
  {
   "cell_type": "code",
   "execution_count": 46,
   "metadata": {
    "colab": {
     "base_uri": "https://localhost:8080/",
     "height": 17
    },
    "id": "-vrc_XjNnwwO",
    "outputId": "e7770678-46fc-4c31-9fbf-d225cb091ef1"
   },
   "outputs": [
    {
     "data": {
      "application/javascript": [
       "\n",
       "    async function download(id, filename, size) {\n",
       "      if (!google.colab.kernel.accessAllowed) {\n",
       "        return;\n",
       "      }\n",
       "      const div = document.createElement('div');\n",
       "      const label = document.createElement('label');\n",
       "      label.textContent = `Downloading \"${filename}\": `;\n",
       "      div.appendChild(label);\n",
       "      const progress = document.createElement('progress');\n",
       "      progress.max = size;\n",
       "      div.appendChild(progress);\n",
       "      document.body.appendChild(div);\n",
       "\n",
       "      const buffers = [];\n",
       "      let downloaded = 0;\n",
       "\n",
       "      const channel = await google.colab.kernel.comms.open(id);\n",
       "      // Send a message to notify the kernel that we're ready.\n",
       "      channel.send({})\n",
       "\n",
       "      for await (const message of channel.messages) {\n",
       "        // Send a message to notify the kernel that we're ready.\n",
       "        channel.send({})\n",
       "        if (message.buffers) {\n",
       "          for (const buffer of message.buffers) {\n",
       "            buffers.push(buffer);\n",
       "            downloaded += buffer.byteLength;\n",
       "            progress.value = downloaded;\n",
       "          }\n",
       "        }\n",
       "      }\n",
       "      const blob = new Blob(buffers, {type: 'application/binary'});\n",
       "      const a = document.createElement('a');\n",
       "      a.href = window.URL.createObjectURL(blob);\n",
       "      a.download = filename;\n",
       "      div.appendChild(a);\n",
       "      a.click();\n",
       "      div.remove();\n",
       "    }\n",
       "  "
      ],
      "text/plain": [
       "<IPython.core.display.Javascript object>"
      ]
     },
     "metadata": {},
     "output_type": "display_data"
    },
    {
     "data": {
      "application/javascript": [
       "download(\"download_bc52bdd6-b3c0-49b6-891c-2e6d50524db0\", \"osr_weights.pt\", 916990)"
      ],
      "text/plain": [
       "<IPython.core.display.Javascript object>"
      ]
     },
     "metadata": {},
     "output_type": "display_data"
    }
   ],
   "source": [
    "torch.save(osr.state_dict(), \"osr_weights.pt\")\n",
    "files.download(\"osr_weights.pt\")"
   ]
  },
  {
   "cell_type": "markdown",
   "metadata": {
    "id": "9cE7M0iDOasl"
   },
   "source": [
    "# 4. Evaluation"
   ]
  },
  {
   "cell_type": "code",
   "execution_count": 18,
   "metadata": {
    "id": "ZpM-f8z0OvyV"
   },
   "outputs": [],
   "source": [
    "def get_cnn_prediction(outputs):\n",
    "  return torch.max(outputs, 1)[1]"
   ]
  },
  {
   "cell_type": "code",
   "execution_count": 19,
   "metadata": {
    "id": "C15NMOqBOuJ1"
   },
   "outputs": [],
   "source": [
    "def get_osr_prediction(outputs, threshold=0.5):\n",
    "  softmin = torch.nn.Softmin(dim=1)\n",
    "  invScores = 1 - softmin(outputs)\n",
    "  scores = torch.Tensor(outputs * invScores).detach().cpu()\n",
    "  pred_value, prediction = torch.min(scores, axis=1)\n",
    "  prediction[pred_value > threshold] = 10\n",
    "  return torch.Tensor(prediction).to(device)"
   ]
  },
  {
   "cell_type": "code",
   "execution_count": 20,
   "metadata": {
    "id": "ZjivO5nWmTLZ"
   },
   "outputs": [],
   "source": [
    "dictionary = {0:0, 1:0, 2:0, 3:0, 4:0, 5:0, 6:0, 7:0, 8:0, 9:0, 10:1}\n",
    "\n",
    "def evaluate(model, labels, get_prediction, test_loader, binary=False):\n",
    "  y_true = []\n",
    "  y_pred = []\n",
    "  correct = 0\n",
    "  with torch.no_grad():\n",
    "    for inputs, targets in test_loader:\n",
    "      inputs = inputs.to(device)\n",
    "      targets = targets.to(device)\n",
    "\n",
    "      outputs = model(inputs)\n",
    "      \n",
    "      predicted = get_prediction(outputs)\n",
    "\n",
    "      correct += (predicted == targets).sum()\n",
    "\n",
    "      y_true += list(targets.detach().cpu())\n",
    "      y_pred += list(predicted.detach().cpu())\n",
    "\n",
    "    if binary:\n",
    "      y_true = [dictionary[int(y)] for y in y_true]\n",
    "      y_pred = [dictionary[int(y)] for y in y_pred]\n",
    "\n",
    "    print(\"Evaluation accuracy on the testing set: {:.3f}% \".format(\n",
    "        float(correct*100) / (len(test_loader)*BATCH_SIZE)))\n",
    "    \n",
    "    cm = confusion_matrix(y_true, y_pred, labels=range(len(labels)))\n",
    "    \n",
    "    disp = ConfusionMatrixDisplay(cm, display_labels=labels)\n",
    "    fig, ax = plt.subplots(figsize=(10,10))\n",
    "    ax.set_title(\"Confusion Matrix\")\n",
    "    disp.plot(cmap='Reds', ax=ax)\n",
    "    plt.show()\n",
    "\n",
    "    return cm"
   ]
  },
  {
   "cell_type": "markdown",
   "metadata": {
    "id": "u8O8jeWSOdaQ"
   },
   "source": [
    "### Baseline results"
   ]
  },
  {
   "cell_type": "code",
   "execution_count": 21,
   "metadata": {
    "colab": {
     "base_uri": "https://localhost:8080/",
     "height": 598
    },
    "id": "g-lDRAo8TTaF",
    "outputId": "fdf85b70-3fe9-4e8f-b6b2-5ed19028e675"
   },
   "outputs": [
    {
     "name": "stdout",
     "output_type": "stream",
     "text": [
      "Evaluation accuracy on the testing set: 96.826% \n"
     ]
    },
    {
     "data": {
      "image/png": "[encoded data removed]",
      "text/plain": [
       "<Figure size 720x720 with 2 Axes>"
      ]
     },
     "metadata": {
      "needs_background": "light"
     },
     "output_type": "display_data"
    }
   ],
   "source": [
    "baseline_c_matrix = evaluate(cnn, range(10), get_cnn_prediction,\n",
    "                             mnist_test_loader)"
   ]
  },
  {
   "cell_type": "markdown",
   "metadata": {
    "id": "pce_JqdNOf_e"
   },
   "source": [
    "### OSR rational"
   ]
  },
  {
   "cell_type": "markdown",
   "metadata": {
    "id": "-zJQeuN-PC1w"
   },
   "source": [
    "To solve the OSR problem, a distance based method that will create finite and closed clusters, felt the most natural for us. This is since we both feel quite comfortable with their concepts (from other courses & mini project). In a distance based method, zones that represent clusters can be created, with a set radius threshold that determines where the zones ends. Any input that wouldn't be mapped to a zone will be classified as 'unknown'.\n",
    "\n",
    "The problem that we encountered was that the initially formed clusters we received weren't \"tight\" clusters (around their centres) as we wished for. That caused the samples of the OOD testing set (random images from the CIFAR10 dataset in our example) to easily slip in and be classified to some of those clusters (some of them even got high confidence!). Consequently, the idea of finding whether the data is from OOD based on it's distance from all the clusters that the trained model had, encountered difficulties.\n",
    "\n",
    "Ultimately, we found the referenced paper [1] on anchor clustering. With that method, we can learn to gather the desired inputs from the known dataset around specific (nearby) points in space, and hopefully send the unknown unlearned OOD inputs to distant, far away points.\n",
    "Implementing this method resulted in a major improvement for our OSR problem, and gave us the desired behaviour we were looking for."
   ]
  },
  {
   "cell_type": "markdown",
   "metadata": {
    "id": "RqFwAaeuOjd3"
   },
   "source": [
    "### OOD results"
   ]
  },
  {
   "cell_type": "code",
   "execution_count": 22,
   "metadata": {
    "colab": {
     "base_uri": "https://localhost:8080/",
     "height": 592
    },
    "id": "qpIUbMIlOlgS",
    "outputId": "eb8fc789-bfc6-4988-d855-74a6337b6986"
   },
   "outputs": [
    {
     "name": "stdout",
     "output_type": "stream",
     "text": [
      "Evaluation accuracy on the testing set: 92.988% \n"
     ]
    },
    {
     "data": {
      "image/png": "[encoded data removed]",
      "text/plain": [
       "<Figure size 720x720 with 2 Axes>"
      ]
     },
     "metadata": {
      "needs_background": "light"
     },
     "output_type": "display_data"
    }
   ],
   "source": [
    "ood_c_matrix = evaluate(osr, ['Known', 'Unknowns'], get_osr_prediction,\n",
    "                        combined_test_loader, True)"
   ]
  },
  {
   "cell_type": "code",
   "execution_count": 28,
   "metadata": {
    "colab": {
     "base_uri": "https://localhost:8080/",
     "height": 0
    },
    "id": "5d0byCd-gPq7",
    "outputId": "e5b1acbf-2303-42a5-be61-6d5fc09c2d8f"
   },
   "outputs": [
    {
     "name": "stdout",
     "output_type": "stream",
     "text": [
      "We recieved 94.80% success rate on the 10000 MNIST samples\n",
      "We recieved 88.20% success rate on the 500 OOD samples\n"
     ]
    }
   ],
   "source": [
    "success_on_known = (ood_c_matrix[0,0] / len(mnist_test_set)) * 100\n",
    "print(\"We recieved {:.2f}% success rate on the {} MNIST samples\".format(\n",
    "    success_on_known, len(mnist_test_set)))\n",
    "success_on_unknown = (ood_c_matrix[1,1] / CIFAR10_SUBSET_SIZE) * 100\n",
    "print(\"We recieved {:.2f}% success rate on the {} OOD samples\".format(\n",
    "    success_on_unknown, CIFAR10_SUBSET_SIZE))"
   ]
  },
  {
   "cell_type": "markdown",
   "metadata": {
    "id": "FwT2fW44OwAP"
   },
   "source": [
    "### OSR results"
   ]
  },
  {
   "cell_type": "code",
   "execution_count": 23,
   "metadata": {
    "colab": {
     "base_uri": "https://localhost:8080/",
     "height": 598
    },
    "id": "klWkvyt4OwYr",
    "outputId": "5625372f-4b56-4b1b-f729-073499abf81c"
   },
   "outputs": [
    {
     "name": "stdout",
     "output_type": "stream",
     "text": [
      "Evaluation accuracy on the testing set: 92.959% \n"
     ]
    },
    {
     "data": {
      "image/png": "[encoded data removed]",
      "text/plain": [
       "<Figure size 720x720 with 2 Axes>"
      ]
     },
     "metadata": {
      "needs_background": "light"
     },
     "output_type": "display_data"
    }
   ],
   "source": [
    "osr_c_matrix = evaluate(osr, list(range(10)) + ['Unknown'], get_osr_prediction,\n",
    "                        combined_test_loader)"
   ]
  },
  {
   "cell_type": "markdown",
   "metadata": {
    "id": "n15LCgBjixNK"
   },
   "source": [
    "# 5. Visualization"
   ]
  },
  {
   "cell_type": "code",
   "execution_count": 24,
   "metadata": {
    "id": "0KAta7S22aFq"
   },
   "outputs": [],
   "source": [
    "def visualize_model(model, get_prediction, num_images=6):\n",
    "  model.eval()\n",
    "  images_so_far = 0\n",
    "  fig = plt.figure()\n",
    "\n",
    "  with torch.no_grad():\n",
    "    for i, (inputs, labels) in enumerate(combined_test_loader):\n",
    "      inputs = inputs.to(device)\n",
    "      labels = labels.to(device)\n",
    "\n",
    "      outputs = model(inputs)\n",
    "      predicted = get_prediction(outputs)\n",
    "      \n",
    "      out_inputs = []\n",
    "      out_labels = []\n",
    "      for j in range(inputs.size()[0]):\n",
    "        out_inputs.append(inputs.cpu().data[j])\n",
    "        out_labels.append(predicted.cpu().data[j])\n",
    "        images_so_far += 1\n",
    "\n",
    "        if images_so_far == num_images:\n",
    "            out_inputs = torchvision.utils.make_grid(out_inputs)\n",
    "            imshow(out_inputs, title=out_labels)\n",
    "            return"
   ]
  },
  {
   "cell_type": "code",
   "execution_count": 25,
   "metadata": {
    "colab": {
     "base_uri": "https://localhost:8080/",
     "height": 123
    },
    "id": "7dFE8dhkxqlm",
    "outputId": "f0fbc557-7511-4a26-b58d-a1c431710ac3"
   },
   "outputs": [
    {
     "data": {
      "image/png": "[encoded data removed]",
      "text/plain": [
       "<Figure size 432x288 with 1 Axes>"
      ]
     },
     "metadata": {
      "needs_background": "light"
     },
     "output_type": "display_data"
    }
   ],
   "source": [
    "visualize_model(osr, get_osr_prediction, 6)"
   ]
  },
  {
   "cell_type": "markdown",
   "metadata": {
    "id": "v8x32-pN15fh"
   },
   "source": [
    "# 6. Reference\n",
    "[1] Miller, Dimity and Suenderhauf, Niko and Milford, Michael and Dayoub, Feras. Class Anchor Clustering: A Loss for Distance-Based Open Set Recognition. In *Proceedings of the IEEE/CVF Winter Conference on Applications of Computer Vision*, pages 3,570-3,578\n",
    "https://openaccess.thecvf.com/content/WACV2021/papers/Miller_Class_Anchor_Clustering_A_Loss_for_Distance-Based_Open_Set_Recognition_WACV_2021_paper.pdf"
   ]
  }
 ],
 "metadata": {
  "accelerator": "GPU",
  "colab": {
   "collapsed_sections": [],
   "name": "GMDL_Final_Project.ipynb",
   "provenance": []
  },
  "gpuClass": "standard",
  "kernelspec": {
   "display_name": "Python 3 (ipykernel)",
   "language": "python",
   "name": "python3"
  },
  "language_info": {
   "codemirror_mode": {
    "name": "ipython",
    "version": 3
   },
   "file_extension": ".py",
   "mimetype": "text/x-python",
   "name": "python",
   "nbconvert_exporter": "python",
   "pygments_lexer": "ipython3",
   "version": "3.9.12"
  }
 },
 "nbformat": 4,
 "nbformat_minor": 1
}
