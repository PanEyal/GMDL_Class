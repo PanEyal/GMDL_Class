{
  "nbformat": 4,
  "nbformat_minor": 0,
  "metadata": {
    "colab": {
      "name": "GMDL_Final_Project.ipynb",
      "provenance": [],
      "collapsed_sections": []
    },
    "kernelspec": {
      "name": "python3",
      "display_name": "Python 3"
    },
    "language_info": {
      "name": "python"
    },
    "widgets": {
      "application/vnd.jupyter.widget-state+json": {
        "0a6c1df0ecd047038b2f1f89757621f5": {
          "model_module": "@jupyter-widgets/controls",
          "model_name": "HBoxModel",
          "model_module_version": "1.5.0",
          "state": {
            "_dom_classes": [],
            "_model_module": "@jupyter-widgets/controls",
            "_model_module_version": "1.5.0",
            "_model_name": "HBoxModel",
            "_view_count": null,
            "_view_module": "@jupyter-widgets/controls",
            "_view_module_version": "1.5.0",
            "_view_name": "HBoxView",
            "box_style": "",
            "children": [
              "IPY_MODEL_170e2f6a0921434ca900bf867e07d1f2",
              "IPY_MODEL_de3be71e003c4bea8ad6aca13265caad",
              "IPY_MODEL_861b3f2ad35f4ac79741a692a42041e0"
            ],
            "layout": "IPY_MODEL_3b6ad6068ddc4f428d909e50d02a6403"
          }
        },
        "170e2f6a0921434ca900bf867e07d1f2": {
          "model_module": "@jupyter-widgets/controls",
          "model_name": "HTMLModel",
          "model_module_version": "1.5.0",
          "state": {
            "_dom_classes": [],
            "_model_module": "@jupyter-widgets/controls",
            "_model_module_version": "1.5.0",
            "_model_name": "HTMLModel",
            "_view_count": null,
            "_view_module": "@jupyter-widgets/controls",
            "_view_module_version": "1.5.0",
            "_view_name": "HTMLView",
            "description": "",
            "description_tooltip": null,
            "layout": "IPY_MODEL_ff16eded3a534483a44ef414e57e7ac6",
            "placeholder": "​",
            "style": "IPY_MODEL_4c27467985e94693abed19f2293107be",
            "value": "100%"
          }
        },
        "de3be71e003c4bea8ad6aca13265caad": {
          "model_module": "@jupyter-widgets/controls",
          "model_name": "FloatProgressModel",
          "model_module_version": "1.5.0",
          "state": {
            "_dom_classes": [],
            "_model_module": "@jupyter-widgets/controls",
            "_model_module_version": "1.5.0",
            "_model_name": "FloatProgressModel",
            "_view_count": null,
            "_view_module": "@jupyter-widgets/controls",
            "_view_module_version": "1.5.0",
            "_view_name": "ProgressView",
            "bar_style": "success",
            "description": "",
            "description_tooltip": null,
            "layout": "IPY_MODEL_29d8776f22644bc9afe5def9e0fee23e",
            "max": 9912422,
            "min": 0,
            "orientation": "horizontal",
            "style": "IPY_MODEL_28f05866af6d444ea20535fcb5b27f34",
            "value": 9912422
          }
        },
        "861b3f2ad35f4ac79741a692a42041e0": {
          "model_module": "@jupyter-widgets/controls",
          "model_name": "HTMLModel",
          "model_module_version": "1.5.0",
          "state": {
            "_dom_classes": [],
            "_model_module": "@jupyter-widgets/controls",
            "_model_module_version": "1.5.0",
            "_model_name": "HTMLModel",
            "_view_count": null,
            "_view_module": "@jupyter-widgets/controls",
            "_view_module_version": "1.5.0",
            "_view_name": "HTMLView",
            "description": "",
            "description_tooltip": null,
            "layout": "IPY_MODEL_80ff2b68d9134c6fbd230d65bbc63455",
            "placeholder": "​",
            "style": "IPY_MODEL_52c2b2f92854461e954371b866e3a3a3",
            "value": " 9912422/9912422 [00:00&lt;00:00, 11100874.97it/s]"
          }
        },
        "3b6ad6068ddc4f428d909e50d02a6403": {
          "model_module": "@jupyter-widgets/base",
          "model_name": "LayoutModel",
          "model_module_version": "1.2.0",
          "state": {
            "_model_module": "@jupyter-widgets/base",
            "_model_module_version": "1.2.0",
            "_model_name": "LayoutModel",
            "_view_count": null,
            "_view_module": "@jupyter-widgets/base",
            "_view_module_version": "1.2.0",
            "_view_name": "LayoutView",
            "align_content": null,
            "align_items": null,
            "align_self": null,
            "border": null,
            "bottom": null,
            "display": null,
            "flex": null,
            "flex_flow": null,
            "grid_area": null,
            "grid_auto_columns": null,
            "grid_auto_flow": null,
            "grid_auto_rows": null,
            "grid_column": null,
            "grid_gap": null,
            "grid_row": null,
            "grid_template_areas": null,
            "grid_template_columns": null,
            "grid_template_rows": null,
            "height": null,
            "justify_content": null,
            "justify_items": null,
            "left": null,
            "margin": null,
            "max_height": null,
            "max_width": null,
            "min_height": null,
            "min_width": null,
            "object_fit": null,
            "object_position": null,
            "order": null,
            "overflow": null,
            "overflow_x": null,
            "overflow_y": null,
            "padding": null,
            "right": null,
            "top": null,
            "visibility": null,
            "width": null
          }
        },
        "ff16eded3a534483a44ef414e57e7ac6": {
          "model_module": "@jupyter-widgets/base",
          "model_name": "LayoutModel",
          "model_module_version": "1.2.0",
          "state": {
            "_model_module": "@jupyter-widgets/base",
            "_model_module_version": "1.2.0",
            "_model_name": "LayoutModel",
            "_view_count": null,
            "_view_module": "@jupyter-widgets/base",
            "_view_module_version": "1.2.0",
            "_view_name": "LayoutView",
            "align_content": null,
            "align_items": null,
            "align_self": null,
            "border": null,
            "bottom": null,
            "display": null,
            "flex": null,
            "flex_flow": null,
            "grid_area": null,
            "grid_auto_columns": null,
            "grid_auto_flow": null,
            "grid_auto_rows": null,
            "grid_column": null,
            "grid_gap": null,
            "grid_row": null,
            "grid_template_areas": null,
            "grid_template_columns": null,
            "grid_template_rows": null,
            "height": null,
            "justify_content": null,
            "justify_items": null,
            "left": null,
            "margin": null,
            "max_height": null,
            "max_width": null,
            "min_height": null,
            "min_width": null,
            "object_fit": null,
            "object_position": null,
            "order": null,
            "overflow": null,
            "overflow_x": null,
            "overflow_y": null,
            "padding": null,
            "right": null,
            "top": null,
            "visibility": null,
            "width": null
          }
        },
        "4c27467985e94693abed19f2293107be": {
          "model_module": "@jupyter-widgets/controls",
          "model_name": "DescriptionStyleModel",
          "model_module_version": "1.5.0",
          "state": {
            "_model_module": "@jupyter-widgets/controls",
            "_model_module_version": "1.5.0",
            "_model_name": "DescriptionStyleModel",
            "_view_count": null,
            "_view_module": "@jupyter-widgets/base",
            "_view_module_version": "1.2.0",
            "_view_name": "StyleView",
            "description_width": ""
          }
        },
        "29d8776f22644bc9afe5def9e0fee23e": {
          "model_module": "@jupyter-widgets/base",
          "model_name": "LayoutModel",
          "model_module_version": "1.2.0",
          "state": {
            "_model_module": "@jupyter-widgets/base",
            "_model_module_version": "1.2.0",
            "_model_name": "LayoutModel",
            "_view_count": null,
            "_view_module": "@jupyter-widgets/base",
            "_view_module_version": "1.2.0",
            "_view_name": "LayoutView",
            "align_content": null,
            "align_items": null,
            "align_self": null,
            "border": null,
            "bottom": null,
            "display": null,
            "flex": null,
            "flex_flow": null,
            "grid_area": null,
            "grid_auto_columns": null,
            "grid_auto_flow": null,
            "grid_auto_rows": null,
            "grid_column": null,
            "grid_gap": null,
            "grid_row": null,
            "grid_template_areas": null,
            "grid_template_columns": null,
            "grid_template_rows": null,
            "height": null,
            "justify_content": null,
            "justify_items": null,
            "left": null,
            "margin": null,
            "max_height": null,
            "max_width": null,
            "min_height": null,
            "min_width": null,
            "object_fit": null,
            "object_position": null,
            "order": null,
            "overflow": null,
            "overflow_x": null,
            "overflow_y": null,
            "padding": null,
            "right": null,
            "top": null,
            "visibility": null,
            "width": null
          }
        },
        "28f05866af6d444ea20535fcb5b27f34": {
          "model_module": "@jupyter-widgets/controls",
          "model_name": "ProgressStyleModel",
          "model_module_version": "1.5.0",
          "state": {
            "_model_module": "@jupyter-widgets/controls",
            "_model_module_version": "1.5.0",
            "_model_name": "ProgressStyleModel",
            "_view_count": null,
            "_view_module": "@jupyter-widgets/base",
            "_view_module_version": "1.2.0",
            "_view_name": "StyleView",
            "bar_color": null,
            "description_width": ""
          }
        },
        "80ff2b68d9134c6fbd230d65bbc63455": {
          "model_module": "@jupyter-widgets/base",
          "model_name": "LayoutModel",
          "model_module_version": "1.2.0",
          "state": {
            "_model_module": "@jupyter-widgets/base",
            "_model_module_version": "1.2.0",
            "_model_name": "LayoutModel",
            "_view_count": null,
            "_view_module": "@jupyter-widgets/base",
            "_view_module_version": "1.2.0",
            "_view_name": "LayoutView",
            "align_content": null,
            "align_items": null,
            "align_self": null,
            "border": null,
            "bottom": null,
            "display": null,
            "flex": null,
            "flex_flow": null,
            "grid_area": null,
            "grid_auto_columns": null,
            "grid_auto_flow": null,
            "grid_auto_rows": null,
            "grid_column": null,
            "grid_gap": null,
            "grid_row": null,
            "grid_template_areas": null,
            "grid_template_columns": null,
            "grid_template_rows": null,
            "height": null,
            "justify_content": null,
            "justify_items": null,
            "left": null,
            "margin": null,
            "max_height": null,
            "max_width": null,
            "min_height": null,
            "min_width": null,
            "object_fit": null,
            "object_position": null,
            "order": null,
            "overflow": null,
            "overflow_x": null,
            "overflow_y": null,
            "padding": null,
            "right": null,
            "top": null,
            "visibility": null,
            "width": null
          }
        },
        "52c2b2f92854461e954371b866e3a3a3": {
          "model_module": "@jupyter-widgets/controls",
          "model_name": "DescriptionStyleModel",
          "model_module_version": "1.5.0",
          "state": {
            "_model_module": "@jupyter-widgets/controls",
            "_model_module_version": "1.5.0",
            "_model_name": "DescriptionStyleModel",
            "_view_count": null,
            "_view_module": "@jupyter-widgets/base",
            "_view_module_version": "1.2.0",
            "_view_name": "StyleView",
            "description_width": ""
          }
        },
        "90ab36e6f7d44d4f9529d1e0057f1c3d": {
          "model_module": "@jupyter-widgets/controls",
          "model_name": "HBoxModel",
          "model_module_version": "1.5.0",
          "state": {
            "_dom_classes": [],
            "_model_module": "@jupyter-widgets/controls",
            "_model_module_version": "1.5.0",
            "_model_name": "HBoxModel",
            "_view_count": null,
            "_view_module": "@jupyter-widgets/controls",
            "_view_module_version": "1.5.0",
            "_view_name": "HBoxView",
            "box_style": "",
            "children": [
              "IPY_MODEL_3c5a1f0072ee4f4eb48c6420fc39e53d",
              "IPY_MODEL_087b52c6701941c7bf6d5bf5ab0a8ae4",
              "IPY_MODEL_197d9d580ef2497cbf0476720a275359"
            ],
            "layout": "IPY_MODEL_348920f3710a445cabb291ae249659bd"
          }
        },
        "3c5a1f0072ee4f4eb48c6420fc39e53d": {
          "model_module": "@jupyter-widgets/controls",
          "model_name": "HTMLModel",
          "model_module_version": "1.5.0",
          "state": {
            "_dom_classes": [],
            "_model_module": "@jupyter-widgets/controls",
            "_model_module_version": "1.5.0",
            "_model_name": "HTMLModel",
            "_view_count": null,
            "_view_module": "@jupyter-widgets/controls",
            "_view_module_version": "1.5.0",
            "_view_name": "HTMLView",
            "description": "",
            "description_tooltip": null,
            "layout": "IPY_MODEL_ebfce579493b44138b1b7ad98aae8a7a",
            "placeholder": "​",
            "style": "IPY_MODEL_13f307c72bc140b6a01c9253239025b3",
            "value": "100%"
          }
        },
        "087b52c6701941c7bf6d5bf5ab0a8ae4": {
          "model_module": "@jupyter-widgets/controls",
          "model_name": "FloatProgressModel",
          "model_module_version": "1.5.0",
          "state": {
            "_dom_classes": [],
            "_model_module": "@jupyter-widgets/controls",
            "_model_module_version": "1.5.0",
            "_model_name": "FloatProgressModel",
            "_view_count": null,
            "_view_module": "@jupyter-widgets/controls",
            "_view_module_version": "1.5.0",
            "_view_name": "ProgressView",
            "bar_style": "success",
            "description": "",
            "description_tooltip": null,
            "layout": "IPY_MODEL_ac7541fad3974770941ed21b668b19fe",
            "max": 28881,
            "min": 0,
            "orientation": "horizontal",
            "style": "IPY_MODEL_add837deb6ef4016a982b7a523199a2d",
            "value": 28881
          }
        },
        "197d9d580ef2497cbf0476720a275359": {
          "model_module": "@jupyter-widgets/controls",
          "model_name": "HTMLModel",
          "model_module_version": "1.5.0",
          "state": {
            "_dom_classes": [],
            "_model_module": "@jupyter-widgets/controls",
            "_model_module_version": "1.5.0",
            "_model_name": "HTMLModel",
            "_view_count": null,
            "_view_module": "@jupyter-widgets/controls",
            "_view_module_version": "1.5.0",
            "_view_name": "HTMLView",
            "description": "",
            "description_tooltip": null,
            "layout": "IPY_MODEL_b7601080c2314416893e27a8160bbc69",
            "placeholder": "​",
            "style": "IPY_MODEL_6d406b1cb4a64619ba9395caa3a04b64",
            "value": " 28881/28881 [00:00&lt;00:00, 400235.56it/s]"
          }
        },
        "348920f3710a445cabb291ae249659bd": {
          "model_module": "@jupyter-widgets/base",
          "model_name": "LayoutModel",
          "model_module_version": "1.2.0",
          "state": {
            "_model_module": "@jupyter-widgets/base",
            "_model_module_version": "1.2.0",
            "_model_name": "LayoutModel",
            "_view_count": null,
            "_view_module": "@jupyter-widgets/base",
            "_view_module_version": "1.2.0",
            "_view_name": "LayoutView",
            "align_content": null,
            "align_items": null,
            "align_self": null,
            "border": null,
            "bottom": null,
            "display": null,
            "flex": null,
            "flex_flow": null,
            "grid_area": null,
            "grid_auto_columns": null,
            "grid_auto_flow": null,
            "grid_auto_rows": null,
            "grid_column": null,
            "grid_gap": null,
            "grid_row": null,
            "grid_template_areas": null,
            "grid_template_columns": null,
            "grid_template_rows": null,
            "height": null,
            "justify_content": null,
            "justify_items": null,
            "left": null,
            "margin": null,
            "max_height": null,
            "max_width": null,
            "min_height": null,
            "min_width": null,
            "object_fit": null,
            "object_position": null,
            "order": null,
            "overflow": null,
            "overflow_x": null,
            "overflow_y": null,
            "padding": null,
            "right": null,
            "top": null,
            "visibility": null,
            "width": null
          }
        },
        "ebfce579493b44138b1b7ad98aae8a7a": {
          "model_module": "@jupyter-widgets/base",
          "model_name": "LayoutModel",
          "model_module_version": "1.2.0",
          "state": {
            "_model_module": "@jupyter-widgets/base",
            "_model_module_version": "1.2.0",
            "_model_name": "LayoutModel",
            "_view_count": null,
            "_view_module": "@jupyter-widgets/base",
            "_view_module_version": "1.2.0",
            "_view_name": "LayoutView",
            "align_content": null,
            "align_items": null,
            "align_self": null,
            "border": null,
            "bottom": null,
            "display": null,
            "flex": null,
            "flex_flow": null,
            "grid_area": null,
            "grid_auto_columns": null,
            "grid_auto_flow": null,
            "grid_auto_rows": null,
            "grid_column": null,
            "grid_gap": null,
            "grid_row": null,
            "grid_template_areas": null,
            "grid_template_columns": null,
            "grid_template_rows": null,
            "height": null,
            "justify_content": null,
            "justify_items": null,
            "left": null,
            "margin": null,
            "max_height": null,
            "max_width": null,
            "min_height": null,
            "min_width": null,
            "object_fit": null,
            "object_position": null,
            "order": null,
            "overflow": null,
            "overflow_x": null,
            "overflow_y": null,
            "padding": null,
            "right": null,
            "top": null,
            "visibility": null,
            "width": null
          }
        },
        "13f307c72bc140b6a01c9253239025b3": {
          "model_module": "@jupyter-widgets/controls",
          "model_name": "DescriptionStyleModel",
          "model_module_version": "1.5.0",
          "state": {
            "_model_module": "@jupyter-widgets/controls",
            "_model_module_version": "1.5.0",
            "_model_name": "DescriptionStyleModel",
            "_view_count": null,
            "_view_module": "@jupyter-widgets/base",
            "_view_module_version": "1.2.0",
            "_view_name": "StyleView",
            "description_width": ""
          }
        },
        "ac7541fad3974770941ed21b668b19fe": {
          "model_module": "@jupyter-widgets/base",
          "model_name": "LayoutModel",
          "model_module_version": "1.2.0",
          "state": {
            "_model_module": "@jupyter-widgets/base",
            "_model_module_version": "1.2.0",
            "_model_name": "LayoutModel",
            "_view_count": null,
            "_view_module": "@jupyter-widgets/base",
            "_view_module_version": "1.2.0",
            "_view_name": "LayoutView",
            "align_content": null,
            "align_items": null,
            "align_self": null,
            "border": null,
            "bottom": null,
            "display": null,
            "flex": null,
            "flex_flow": null,
            "grid_area": null,
            "grid_auto_columns": null,
            "grid_auto_flow": null,
            "grid_auto_rows": null,
            "grid_column": null,
            "grid_gap": null,
            "grid_row": null,
            "grid_template_areas": null,
            "grid_template_columns": null,
            "grid_template_rows": null,
            "height": null,
            "justify_content": null,
            "justify_items": null,
            "left": null,
            "margin": null,
            "max_height": null,
            "max_width": null,
            "min_height": null,
            "min_width": null,
            "object_fit": null,
            "object_position": null,
            "order": null,
            "overflow": null,
            "overflow_x": null,
            "overflow_y": null,
            "padding": null,
            "right": null,
            "top": null,
            "visibility": null,
            "width": null
          }
        },
        "add837deb6ef4016a982b7a523199a2d": {
          "model_module": "@jupyter-widgets/controls",
          "model_name": "ProgressStyleModel",
          "model_module_version": "1.5.0",
          "state": {
            "_model_module": "@jupyter-widgets/controls",
            "_model_module_version": "1.5.0",
            "_model_name": "ProgressStyleModel",
            "_view_count": null,
            "_view_module": "@jupyter-widgets/base",
            "_view_module_version": "1.2.0",
            "_view_name": "StyleView",
            "bar_color": null,
            "description_width": ""
          }
        },
        "b7601080c2314416893e27a8160bbc69": {
          "model_module": "@jupyter-widgets/base",
          "model_name": "LayoutModel",
          "model_module_version": "1.2.0",
          "state": {
            "_model_module": "@jupyter-widgets/base",
            "_model_module_version": "1.2.0",
            "_model_name": "LayoutModel",
            "_view_count": null,
            "_view_module": "@jupyter-widgets/base",
            "_view_module_version": "1.2.0",
            "_view_name": "LayoutView",
            "align_content": null,
            "align_items": null,
            "align_self": null,
            "border": null,
            "bottom": null,
            "display": null,
            "flex": null,
            "flex_flow": null,
            "grid_area": null,
            "grid_auto_columns": null,
            "grid_auto_flow": null,
            "grid_auto_rows": null,
            "grid_column": null,
            "grid_gap": null,
            "grid_row": null,
            "grid_template_areas": null,
            "grid_template_columns": null,
            "grid_template_rows": null,
            "height": null,
            "justify_content": null,
            "justify_items": null,
            "left": null,
            "margin": null,
            "max_height": null,
            "max_width": null,
            "min_height": null,
            "min_width": null,
            "object_fit": null,
            "object_position": null,
            "order": null,
            "overflow": null,
            "overflow_x": null,
            "overflow_y": null,
            "padding": null,
            "right": null,
            "top": null,
            "visibility": null,
            "width": null
          }
        },
        "6d406b1cb4a64619ba9395caa3a04b64": {
          "model_module": "@jupyter-widgets/controls",
          "model_name": "DescriptionStyleModel",
          "model_module_version": "1.5.0",
          "state": {
            "_model_module": "@jupyter-widgets/controls",
            "_model_module_version": "1.5.0",
            "_model_name": "DescriptionStyleModel",
            "_view_count": null,
            "_view_module": "@jupyter-widgets/base",
            "_view_module_version": "1.2.0",
            "_view_name": "StyleView",
            "description_width": ""
          }
        },
        "2333fc2364c6473d993a3a867d6e60c9": {
          "model_module": "@jupyter-widgets/controls",
          "model_name": "HBoxModel",
          "model_module_version": "1.5.0",
          "state": {
            "_dom_classes": [],
            "_model_module": "@jupyter-widgets/controls",
            "_model_module_version": "1.5.0",
            "_model_name": "HBoxModel",
            "_view_count": null,
            "_view_module": "@jupyter-widgets/controls",
            "_view_module_version": "1.5.0",
            "_view_name": "HBoxView",
            "box_style": "",
            "children": [
              "IPY_MODEL_682a6f98cd1541f0be67bbca279c77ad",
              "IPY_MODEL_bb5e29f2910d473c851c5155f5e7b8df",
              "IPY_MODEL_a577c6828616451785e9050d6894e6b3"
            ],
            "layout": "IPY_MODEL_7648e64d008a4e3b8c8abf2399257893"
          }
        },
        "682a6f98cd1541f0be67bbca279c77ad": {
          "model_module": "@jupyter-widgets/controls",
          "model_name": "HTMLModel",
          "model_module_version": "1.5.0",
          "state": {
            "_dom_classes": [],
            "_model_module": "@jupyter-widgets/controls",
            "_model_module_version": "1.5.0",
            "_model_name": "HTMLModel",
            "_view_count": null,
            "_view_module": "@jupyter-widgets/controls",
            "_view_module_version": "1.5.0",
            "_view_name": "HTMLView",
            "description": "",
            "description_tooltip": null,
            "layout": "IPY_MODEL_9ccb1dd4e63543bead4c86b77136dd59",
            "placeholder": "​",
            "style": "IPY_MODEL_87d7da00321641308a7b552313bd0de3",
            "value": "100%"
          }
        },
        "bb5e29f2910d473c851c5155f5e7b8df": {
          "model_module": "@jupyter-widgets/controls",
          "model_name": "FloatProgressModel",
          "model_module_version": "1.5.0",
          "state": {
            "_dom_classes": [],
            "_model_module": "@jupyter-widgets/controls",
            "_model_module_version": "1.5.0",
            "_model_name": "FloatProgressModel",
            "_view_count": null,
            "_view_module": "@jupyter-widgets/controls",
            "_view_module_version": "1.5.0",
            "_view_name": "ProgressView",
            "bar_style": "success",
            "description": "",
            "description_tooltip": null,
            "layout": "IPY_MODEL_9f79698a05de4d8ab197dcaddf60054d",
            "max": 1648877,
            "min": 0,
            "orientation": "horizontal",
            "style": "IPY_MODEL_a13f98bf81914a7883dcc7fc6546641e",
            "value": 1648877
          }
        },
        "a577c6828616451785e9050d6894e6b3": {
          "model_module": "@jupyter-widgets/controls",
          "model_name": "HTMLModel",
          "model_module_version": "1.5.0",
          "state": {
            "_dom_classes": [],
            "_model_module": "@jupyter-widgets/controls",
            "_model_module_version": "1.5.0",
            "_model_name": "HTMLModel",
            "_view_count": null,
            "_view_module": "@jupyter-widgets/controls",
            "_view_module_version": "1.5.0",
            "_view_name": "HTMLView",
            "description": "",
            "description_tooltip": null,
            "layout": "IPY_MODEL_f726dff162194f3695368e0091fa6f75",
            "placeholder": "​",
            "style": "IPY_MODEL_e2dde52cb89f46cca5fc0952c723a7ad",
            "value": " 1648877/1648877 [00:00&lt;00:00, 3404099.09it/s]"
          }
        },
        "7648e64d008a4e3b8c8abf2399257893": {
          "model_module": "@jupyter-widgets/base",
          "model_name": "LayoutModel",
          "model_module_version": "1.2.0",
          "state": {
            "_model_module": "@jupyter-widgets/base",
            "_model_module_version": "1.2.0",
            "_model_name": "LayoutModel",
            "_view_count": null,
            "_view_module": "@jupyter-widgets/base",
            "_view_module_version": "1.2.0",
            "_view_name": "LayoutView",
            "align_content": null,
            "align_items": null,
            "align_self": null,
            "border": null,
            "bottom": null,
            "display": null,
            "flex": null,
            "flex_flow": null,
            "grid_area": null,
            "grid_auto_columns": null,
            "grid_auto_flow": null,
            "grid_auto_rows": null,
            "grid_column": null,
            "grid_gap": null,
            "grid_row": null,
            "grid_template_areas": null,
            "grid_template_columns": null,
            "grid_template_rows": null,
            "height": null,
            "justify_content": null,
            "justify_items": null,
            "left": null,
            "margin": null,
            "max_height": null,
            "max_width": null,
            "min_height": null,
            "min_width": null,
            "object_fit": null,
            "object_position": null,
            "order": null,
            "overflow": null,
            "overflow_x": null,
            "overflow_y": null,
            "padding": null,
            "right": null,
            "top": null,
            "visibility": null,
            "width": null
          }
        },
        "9ccb1dd4e63543bead4c86b77136dd59": {
          "model_module": "@jupyter-widgets/base",
          "model_name": "LayoutModel",
          "model_module_version": "1.2.0",
          "state": {
            "_model_module": "@jupyter-widgets/base",
            "_model_module_version": "1.2.0",
            "_model_name": "LayoutModel",
            "_view_count": null,
            "_view_module": "@jupyter-widgets/base",
            "_view_module_version": "1.2.0",
            "_view_name": "LayoutView",
            "align_content": null,
            "align_items": null,
            "align_self": null,
            "border": null,
            "bottom": null,
            "display": null,
            "flex": null,
            "flex_flow": null,
            "grid_area": null,
            "grid_auto_columns": null,
            "grid_auto_flow": null,
            "grid_auto_rows": null,
            "grid_column": null,
            "grid_gap": null,
            "grid_row": null,
            "grid_template_areas": null,
            "grid_template_columns": null,
            "grid_template_rows": null,
            "height": null,
            "justify_content": null,
            "justify_items": null,
            "left": null,
            "margin": null,
            "max_height": null,
            "max_width": null,
            "min_height": null,
            "min_width": null,
            "object_fit": null,
            "object_position": null,
            "order": null,
            "overflow": null,
            "overflow_x": null,
            "overflow_y": null,
            "padding": null,
            "right": null,
            "top": null,
            "visibility": null,
            "width": null
          }
        },
        "87d7da00321641308a7b552313bd0de3": {
          "model_module": "@jupyter-widgets/controls",
          "model_name": "DescriptionStyleModel",
          "model_module_version": "1.5.0",
          "state": {
            "_model_module": "@jupyter-widgets/controls",
            "_model_module_version": "1.5.0",
            "_model_name": "DescriptionStyleModel",
            "_view_count": null,
            "_view_module": "@jupyter-widgets/base",
            "_view_module_version": "1.2.0",
            "_view_name": "StyleView",
            "description_width": ""
          }
        },
        "9f79698a05de4d8ab197dcaddf60054d": {
          "model_module": "@jupyter-widgets/base",
          "model_name": "LayoutModel",
          "model_module_version": "1.2.0",
          "state": {
            "_model_module": "@jupyter-widgets/base",
            "_model_module_version": "1.2.0",
            "_model_name": "LayoutModel",
            "_view_count": null,
            "_view_module": "@jupyter-widgets/base",
            "_view_module_version": "1.2.0",
            "_view_name": "LayoutView",
            "align_content": null,
            "align_items": null,
            "align_self": null,
            "border": null,
            "bottom": null,
            "display": null,
            "flex": null,
            "flex_flow": null,
            "grid_area": null,
            "grid_auto_columns": null,
            "grid_auto_flow": null,
            "grid_auto_rows": null,
            "grid_column": null,
            "grid_gap": null,
            "grid_row": null,
            "grid_template_areas": null,
            "grid_template_columns": null,
            "grid_template_rows": null,
            "height": null,
            "justify_content": null,
            "justify_items": null,
            "left": null,
            "margin": null,
            "max_height": null,
            "max_width": null,
            "min_height": null,
            "min_width": null,
            "object_fit": null,
            "object_position": null,
            "order": null,
            "overflow": null,
            "overflow_x": null,
            "overflow_y": null,
            "padding": null,
            "right": null,
            "top": null,
            "visibility": null,
            "width": null
          }
        },
        "a13f98bf81914a7883dcc7fc6546641e": {
          "model_module": "@jupyter-widgets/controls",
          "model_name": "ProgressStyleModel",
          "model_module_version": "1.5.0",
          "state": {
            "_model_module": "@jupyter-widgets/controls",
            "_model_module_version": "1.5.0",
            "_model_name": "ProgressStyleModel",
            "_view_count": null,
            "_view_module": "@jupyter-widgets/base",
            "_view_module_version": "1.2.0",
            "_view_name": "StyleView",
            "bar_color": null,
            "description_width": ""
          }
        },
        "f726dff162194f3695368e0091fa6f75": {
          "model_module": "@jupyter-widgets/base",
          "model_name": "LayoutModel",
          "model_module_version": "1.2.0",
          "state": {
            "_model_module": "@jupyter-widgets/base",
            "_model_module_version": "1.2.0",
            "_model_name": "LayoutModel",
            "_view_count": null,
            "_view_module": "@jupyter-widgets/base",
            "_view_module_version": "1.2.0",
            "_view_name": "LayoutView",
            "align_content": null,
            "align_items": null,
            "align_self": null,
            "border": null,
            "bottom": null,
            "display": null,
            "flex": null,
            "flex_flow": null,
            "grid_area": null,
            "grid_auto_columns": null,
            "grid_auto_flow": null,
            "grid_auto_rows": null,
            "grid_column": null,
            "grid_gap": null,
            "grid_row": null,
            "grid_template_areas": null,
            "grid_template_columns": null,
            "grid_template_rows": null,
            "height": null,
            "justify_content": null,
            "justify_items": null,
            "left": null,
            "margin": null,
            "max_height": null,
            "max_width": null,
            "min_height": null,
            "min_width": null,
            "object_fit": null,
            "object_position": null,
            "order": null,
            "overflow": null,
            "overflow_x": null,
            "overflow_y": null,
            "padding": null,
            "right": null,
            "top": null,
            "visibility": null,
            "width": null
          }
        },
        "e2dde52cb89f46cca5fc0952c723a7ad": {
          "model_module": "@jupyter-widgets/controls",
          "model_name": "DescriptionStyleModel",
          "model_module_version": "1.5.0",
          "state": {
            "_model_module": "@jupyter-widgets/controls",
            "_model_module_version": "1.5.0",
            "_model_name": "DescriptionStyleModel",
            "_view_count": null,
            "_view_module": "@jupyter-widgets/base",
            "_view_module_version": "1.2.0",
            "_view_name": "StyleView",
            "description_width": ""
          }
        },
        "590e7c9ec847447980c3de65b030a83b": {
          "model_module": "@jupyter-widgets/controls",
          "model_name": "HBoxModel",
          "model_module_version": "1.5.0",
          "state": {
            "_dom_classes": [],
            "_model_module": "@jupyter-widgets/controls",
            "_model_module_version": "1.5.0",
            "_model_name": "HBoxModel",
            "_view_count": null,
            "_view_module": "@jupyter-widgets/controls",
            "_view_module_version": "1.5.0",
            "_view_name": "HBoxView",
            "box_style": "",
            "children": [
              "IPY_MODEL_a5b2e969c66d420d9946f01b416e015d",
              "IPY_MODEL_c046b35f829b4272a5d179e216d47db1",
              "IPY_MODEL_5aaa8f89331a47b4ad0781863dc50f9b"
            ],
            "layout": "IPY_MODEL_61602af08dc54d2c8e5c6157e8829fc5"
          }
        },
        "a5b2e969c66d420d9946f01b416e015d": {
          "model_module": "@jupyter-widgets/controls",
          "model_name": "HTMLModel",
          "model_module_version": "1.5.0",
          "state": {
            "_dom_classes": [],
            "_model_module": "@jupyter-widgets/controls",
            "_model_module_version": "1.5.0",
            "_model_name": "HTMLModel",
            "_view_count": null,
            "_view_module": "@jupyter-widgets/controls",
            "_view_module_version": "1.5.0",
            "_view_name": "HTMLView",
            "description": "",
            "description_tooltip": null,
            "layout": "IPY_MODEL_4f5b6d8b56a648fd8ef730cfd22c2221",
            "placeholder": "​",
            "style": "IPY_MODEL_32f432d429e14142b4754f13900f20bc",
            "value": "100%"
          }
        },
        "c046b35f829b4272a5d179e216d47db1": {
          "model_module": "@jupyter-widgets/controls",
          "model_name": "FloatProgressModel",
          "model_module_version": "1.5.0",
          "state": {
            "_dom_classes": [],
            "_model_module": "@jupyter-widgets/controls",
            "_model_module_version": "1.5.0",
            "_model_name": "FloatProgressModel",
            "_view_count": null,
            "_view_module": "@jupyter-widgets/controls",
            "_view_module_version": "1.5.0",
            "_view_name": "ProgressView",
            "bar_style": "success",
            "description": "",
            "description_tooltip": null,
            "layout": "IPY_MODEL_c308adefd1364cc3b46148d831936577",
            "max": 4542,
            "min": 0,
            "orientation": "horizontal",
            "style": "IPY_MODEL_a35411951a194411881fa7f14abf99fa",
            "value": 4542
          }
        },
        "5aaa8f89331a47b4ad0781863dc50f9b": {
          "model_module": "@jupyter-widgets/controls",
          "model_name": "HTMLModel",
          "model_module_version": "1.5.0",
          "state": {
            "_dom_classes": [],
            "_model_module": "@jupyter-widgets/controls",
            "_model_module_version": "1.5.0",
            "_model_name": "HTMLModel",
            "_view_count": null,
            "_view_module": "@jupyter-widgets/controls",
            "_view_module_version": "1.5.0",
            "_view_name": "HTMLView",
            "description": "",
            "description_tooltip": null,
            "layout": "IPY_MODEL_949a22224fc94fa49929fc774525f300",
            "placeholder": "​",
            "style": "IPY_MODEL_76ec253b60264182bd6f6d1a012c1213",
            "value": " 4542/4542 [00:00&lt;00:00, 81597.33it/s]"
          }
        },
        "61602af08dc54d2c8e5c6157e8829fc5": {
          "model_module": "@jupyter-widgets/base",
          "model_name": "LayoutModel",
          "model_module_version": "1.2.0",
          "state": {
            "_model_module": "@jupyter-widgets/base",
            "_model_module_version": "1.2.0",
            "_model_name": "LayoutModel",
            "_view_count": null,
            "_view_module": "@jupyter-widgets/base",
            "_view_module_version": "1.2.0",
            "_view_name": "LayoutView",
            "align_content": null,
            "align_items": null,
            "align_self": null,
            "border": null,
            "bottom": null,
            "display": null,
            "flex": null,
            "flex_flow": null,
            "grid_area": null,
            "grid_auto_columns": null,
            "grid_auto_flow": null,
            "grid_auto_rows": null,
            "grid_column": null,
            "grid_gap": null,
            "grid_row": null,
            "grid_template_areas": null,
            "grid_template_columns": null,
            "grid_template_rows": null,
            "height": null,
            "justify_content": null,
            "justify_items": null,
            "left": null,
            "margin": null,
            "max_height": null,
            "max_width": null,
            "min_height": null,
            "min_width": null,
            "object_fit": null,
            "object_position": null,
            "order": null,
            "overflow": null,
            "overflow_x": null,
            "overflow_y": null,
            "padding": null,
            "right": null,
            "top": null,
            "visibility": null,
            "width": null
          }
        },
        "4f5b6d8b56a648fd8ef730cfd22c2221": {
          "model_module": "@jupyter-widgets/base",
          "model_name": "LayoutModel",
          "model_module_version": "1.2.0",
          "state": {
            "_model_module": "@jupyter-widgets/base",
            "_model_module_version": "1.2.0",
            "_model_name": "LayoutModel",
            "_view_count": null,
            "_view_module": "@jupyter-widgets/base",
            "_view_module_version": "1.2.0",
            "_view_name": "LayoutView",
            "align_content": null,
            "align_items": null,
            "align_self": null,
            "border": null,
            "bottom": null,
            "display": null,
            "flex": null,
            "flex_flow": null,
            "grid_area": null,
            "grid_auto_columns": null,
            "grid_auto_flow": null,
            "grid_auto_rows": null,
            "grid_column": null,
            "grid_gap": null,
            "grid_row": null,
            "grid_template_areas": null,
            "grid_template_columns": null,
            "grid_template_rows": null,
            "height": null,
            "justify_content": null,
            "justify_items": null,
            "left": null,
            "margin": null,
            "max_height": null,
            "max_width": null,
            "min_height": null,
            "min_width": null,
            "object_fit": null,
            "object_position": null,
            "order": null,
            "overflow": null,
            "overflow_x": null,
            "overflow_y": null,
            "padding": null,
            "right": null,
            "top": null,
            "visibility": null,
            "width": null
          }
        },
        "32f432d429e14142b4754f13900f20bc": {
          "model_module": "@jupyter-widgets/controls",
          "model_name": "DescriptionStyleModel",
          "model_module_version": "1.5.0",
          "state": {
            "_model_module": "@jupyter-widgets/controls",
            "_model_module_version": "1.5.0",
            "_model_name": "DescriptionStyleModel",
            "_view_count": null,
            "_view_module": "@jupyter-widgets/base",
            "_view_module_version": "1.2.0",
            "_view_name": "StyleView",
            "description_width": ""
          }
        },
        "c308adefd1364cc3b46148d831936577": {
          "model_module": "@jupyter-widgets/base",
          "model_name": "LayoutModel",
          "model_module_version": "1.2.0",
          "state": {
            "_model_module": "@jupyter-widgets/base",
            "_model_module_version": "1.2.0",
            "_model_name": "LayoutModel",
            "_view_count": null,
            "_view_module": "@jupyter-widgets/base",
            "_view_module_version": "1.2.0",
            "_view_name": "LayoutView",
            "align_content": null,
            "align_items": null,
            "align_self": null,
            "border": null,
            "bottom": null,
            "display": null,
            "flex": null,
            "flex_flow": null,
            "grid_area": null,
            "grid_auto_columns": null,
            "grid_auto_flow": null,
            "grid_auto_rows": null,
            "grid_column": null,
            "grid_gap": null,
            "grid_row": null,
            "grid_template_areas": null,
            "grid_template_columns": null,
            "grid_template_rows": null,
            "height": null,
            "justify_content": null,
            "justify_items": null,
            "left": null,
            "margin": null,
            "max_height": null,
            "max_width": null,
            "min_height": null,
            "min_width": null,
            "object_fit": null,
            "object_position": null,
            "order": null,
            "overflow": null,
            "overflow_x": null,
            "overflow_y": null,
            "padding": null,
            "right": null,
            "top": null,
            "visibility": null,
            "width": null
          }
        },
        "a35411951a194411881fa7f14abf99fa": {
          "model_module": "@jupyter-widgets/controls",
          "model_name": "ProgressStyleModel",
          "model_module_version": "1.5.0",
          "state": {
            "_model_module": "@jupyter-widgets/controls",
            "_model_module_version": "1.5.0",
            "_model_name": "ProgressStyleModel",
            "_view_count": null,
            "_view_module": "@jupyter-widgets/base",
            "_view_module_version": "1.2.0",
            "_view_name": "StyleView",
            "bar_color": null,
            "description_width": ""
          }
        },
        "949a22224fc94fa49929fc774525f300": {
          "model_module": "@jupyter-widgets/base",
          "model_name": "LayoutModel",
          "model_module_version": "1.2.0",
          "state": {
            "_model_module": "@jupyter-widgets/base",
            "_model_module_version": "1.2.0",
            "_model_name": "LayoutModel",
            "_view_count": null,
            "_view_module": "@jupyter-widgets/base",
            "_view_module_version": "1.2.0",
            "_view_name": "LayoutView",
            "align_content": null,
            "align_items": null,
            "align_self": null,
            "border": null,
            "bottom": null,
            "display": null,
            "flex": null,
            "flex_flow": null,
            "grid_area": null,
            "grid_auto_columns": null,
            "grid_auto_flow": null,
            "grid_auto_rows": null,
            "grid_column": null,
            "grid_gap": null,
            "grid_row": null,
            "grid_template_areas": null,
            "grid_template_columns": null,
            "grid_template_rows": null,
            "height": null,
            "justify_content": null,
            "justify_items": null,
            "left": null,
            "margin": null,
            "max_height": null,
            "max_width": null,
            "min_height": null,
            "min_width": null,
            "object_fit": null,
            "object_position": null,
            "order": null,
            "overflow": null,
            "overflow_x": null,
            "overflow_y": null,
            "padding": null,
            "right": null,
            "top": null,
            "visibility": null,
            "width": null
          }
        },
        "76ec253b60264182bd6f6d1a012c1213": {
          "model_module": "@jupyter-widgets/controls",
          "model_name": "DescriptionStyleModel",
          "model_module_version": "1.5.0",
          "state": {
            "_model_module": "@jupyter-widgets/controls",
            "_model_module_version": "1.5.0",
            "_model_name": "DescriptionStyleModel",
            "_view_count": null,
            "_view_module": "@jupyter-widgets/base",
            "_view_module_version": "1.2.0",
            "_view_name": "StyleView",
            "description_width": ""
          }
        }
      }
    }
  },
  "cells": [
    {
      "cell_type": "markdown",
      "source": [
        "# 1. Data & Preprocessing"
      ],
      "metadata": {
        "id": "CW8UTL7-Nmu1"
      }
    },
    {
      "cell_type": "code",
      "source": [
        "import numpy as np \n",
        "import torch\n",
        "import torch.nn as nn\n",
        "import torch.nn.functional as F\n",
        "import torch.utils.data\n",
        "from torch.autograd import Variable\n",
        "from torch.utils.data import Dataset\n",
        "\n",
        "import torchvision\n",
        "from torchvision import datasets, transforms\n",
        "\n",
        "import argparse\n",
        "\n",
        "from sklearn.metrics import confusion_matrix"
      ],
      "metadata": {
        "id": "QY4UYPyGEYNX"
      },
      "execution_count": 133,
      "outputs": []
    },
    {
      "cell_type": "markdown",
      "source": [
        "## Datasets, dataloaders and transformations"
      ],
      "metadata": {
        "id": "aJemwRQ8OEGR"
      }
    },
    {
      "cell_type": "code",
      "source": [
        "# Random seed (for reproducibility)\n",
        "np.random.seed(9)\n",
        "batch_size = 128"
      ],
      "metadata": {
        "id": "3J0tIHlo-0nn"
      },
      "execution_count": 2,
      "outputs": []
    },
    {
      "cell_type": "markdown",
      "source": [
        "MNIST - for training"
      ],
      "metadata": {
        "id": "198FIAjMY_bQ"
      }
    },
    {
      "cell_type": "code",
      "execution_count": 3,
      "metadata": {
        "id": "KJSzq6bhNNiI",
        "colab": {
          "base_uri": "https://localhost:8080/",
          "height": 423,
          "referenced_widgets": [
            "0a6c1df0ecd047038b2f1f89757621f5",
            "170e2f6a0921434ca900bf867e07d1f2",
            "de3be71e003c4bea8ad6aca13265caad",
            "861b3f2ad35f4ac79741a692a42041e0",
            "3b6ad6068ddc4f428d909e50d02a6403",
            "ff16eded3a534483a44ef414e57e7ac6",
            "4c27467985e94693abed19f2293107be",
            "29d8776f22644bc9afe5def9e0fee23e",
            "28f05866af6d444ea20535fcb5b27f34",
            "80ff2b68d9134c6fbd230d65bbc63455",
            "52c2b2f92854461e954371b866e3a3a3",
            "90ab36e6f7d44d4f9529d1e0057f1c3d",
            "3c5a1f0072ee4f4eb48c6420fc39e53d",
            "087b52c6701941c7bf6d5bf5ab0a8ae4",
            "197d9d580ef2497cbf0476720a275359",
            "348920f3710a445cabb291ae249659bd",
            "ebfce579493b44138b1b7ad98aae8a7a",
            "13f307c72bc140b6a01c9253239025b3",
            "ac7541fad3974770941ed21b668b19fe",
            "add837deb6ef4016a982b7a523199a2d",
            "b7601080c2314416893e27a8160bbc69",
            "6d406b1cb4a64619ba9395caa3a04b64",
            "2333fc2364c6473d993a3a867d6e60c9",
            "682a6f98cd1541f0be67bbca279c77ad",
            "bb5e29f2910d473c851c5155f5e7b8df",
            "a577c6828616451785e9050d6894e6b3",
            "7648e64d008a4e3b8c8abf2399257893",
            "9ccb1dd4e63543bead4c86b77136dd59",
            "87d7da00321641308a7b552313bd0de3",
            "9f79698a05de4d8ab197dcaddf60054d",
            "a13f98bf81914a7883dcc7fc6546641e",
            "f726dff162194f3695368e0091fa6f75",
            "e2dde52cb89f46cca5fc0952c723a7ad",
            "590e7c9ec847447980c3de65b030a83b",
            "a5b2e969c66d420d9946f01b416e015d",
            "c046b35f829b4272a5d179e216d47db1",
            "5aaa8f89331a47b4ad0781863dc50f9b",
            "61602af08dc54d2c8e5c6157e8829fc5",
            "4f5b6d8b56a648fd8ef730cfd22c2221",
            "32f432d429e14142b4754f13900f20bc",
            "c308adefd1364cc3b46148d831936577",
            "a35411951a194411881fa7f14abf99fa",
            "949a22224fc94fa49929fc774525f300",
            "76ec253b60264182bd6f6d1a012c1213"
          ]
        },
        "outputId": "fc70eb61-8766-435c-ad2d-8ee9a114bb4d"
      },
      "outputs": [
        {
          "output_type": "stream",
          "name": "stdout",
          "text": [
            "Downloading http://yann.lecun.com/exdb/mnist/train-images-idx3-ubyte.gz\n",
            "Downloading http://yann.lecun.com/exdb/mnist/train-images-idx3-ubyte.gz to ./data/MNIST/raw/train-images-idx3-ubyte.gz\n"
          ]
        },
        {
          "output_type": "display_data",
          "data": {
            "text/plain": [
              "  0%|          | 0/9912422 [00:00<?, ?it/s]"
            ],
            "application/vnd.jupyter.widget-view+json": {
              "version_major": 2,
              "version_minor": 0,
              "model_id": "0a6c1df0ecd047038b2f1f89757621f5"
            }
          },
          "metadata": {}
        },
        {
          "output_type": "stream",
          "name": "stdout",
          "text": [
            "Extracting ./data/MNIST/raw/train-images-idx3-ubyte.gz to ./data/MNIST/raw\n",
            "\n",
            "Downloading http://yann.lecun.com/exdb/mnist/train-labels-idx1-ubyte.gz\n",
            "Downloading http://yann.lecun.com/exdb/mnist/train-labels-idx1-ubyte.gz to ./data/MNIST/raw/train-labels-idx1-ubyte.gz\n"
          ]
        },
        {
          "output_type": "display_data",
          "data": {
            "text/plain": [
              "  0%|          | 0/28881 [00:00<?, ?it/s]"
            ],
            "application/vnd.jupyter.widget-view+json": {
              "version_major": 2,
              "version_minor": 0,
              "model_id": "90ab36e6f7d44d4f9529d1e0057f1c3d"
            }
          },
          "metadata": {}
        },
        {
          "output_type": "stream",
          "name": "stdout",
          "text": [
            "Extracting ./data/MNIST/raw/train-labels-idx1-ubyte.gz to ./data/MNIST/raw\n",
            "\n",
            "Downloading http://yann.lecun.com/exdb/mnist/t10k-images-idx3-ubyte.gz\n",
            "Downloading http://yann.lecun.com/exdb/mnist/t10k-images-idx3-ubyte.gz to ./data/MNIST/raw/t10k-images-idx3-ubyte.gz\n"
          ]
        },
        {
          "output_type": "display_data",
          "data": {
            "text/plain": [
              "  0%|          | 0/1648877 [00:00<?, ?it/s]"
            ],
            "application/vnd.jupyter.widget-view+json": {
              "version_major": 2,
              "version_minor": 0,
              "model_id": "2333fc2364c6473d993a3a867d6e60c9"
            }
          },
          "metadata": {}
        },
        {
          "output_type": "stream",
          "name": "stdout",
          "text": [
            "Extracting ./data/MNIST/raw/t10k-images-idx3-ubyte.gz to ./data/MNIST/raw\n",
            "\n",
            "Downloading http://yann.lecun.com/exdb/mnist/t10k-labels-idx1-ubyte.gz\n",
            "Downloading http://yann.lecun.com/exdb/mnist/t10k-labels-idx1-ubyte.gz to ./data/MNIST/raw/t10k-labels-idx1-ubyte.gz\n"
          ]
        },
        {
          "output_type": "display_data",
          "data": {
            "text/plain": [
              "  0%|          | 0/4542 [00:00<?, ?it/s]"
            ],
            "application/vnd.jupyter.widget-view+json": {
              "version_major": 2,
              "version_minor": 0,
              "model_id": "590e7c9ec847447980c3de65b030a83b"
            }
          },
          "metadata": {}
        },
        {
          "output_type": "stream",
          "name": "stdout",
          "text": [
            "Extracting ./data/MNIST/raw/t10k-labels-idx1-ubyte.gz to ./data/MNIST/raw\n",
            "\n"
          ]
        }
      ],
      "source": [
        "mnist_transform = transforms.Compose([transforms.ToTensor(),\n",
        "                              transforms.Normalize(\n",
        "                                  (0.1307,),\n",
        "                                  (0.3081,)), # mnist mean & std\n",
        "                              transforms.Resize(28)])\n",
        "\n",
        "mnist_all_train_set = torchvision.datasets.MNIST(root='./data',\n",
        "                                                 train=True,\n",
        "                                                 download=True,\n",
        "                                                 transform=mnist_transform)\n",
        "\n",
        "# Train, validation splits\n",
        "mnist_train_size = int(0.8*len(mnist_all_train_set))\n",
        "mnist_validation_size = len(mnist_all_train_set) - mnist_train_size\n",
        "\n",
        "mnist_train_set, mnist_validation_set = torch.utils.data.random_split(\n",
        "    mnist_all_train_set, [mnist_train_size, mnist_validation_size])\n",
        "mnist_test_set = torchvision.datasets.MNIST(root='./data',\n",
        "                                            train=False,\n",
        "                                            download=True,\n",
        "                                            transform=mnist_transform)"
      ]
    },
    {
      "cell_type": "code",
      "source": [
        "mnist_train_loader = torch.utils.data.DataLoader(mnist_train_set,\n",
        "                                                 batch_size=batch_size,\n",
        "                                                 shuffle=True,\n",
        "                                                 num_workers=2)\n",
        "mnist_validation_loader = torch.utils.data.DataLoader(mnist_validation_size,\n",
        "                                                      batch_size=batch_size,\n",
        "                                                      shuffle=False,\n",
        "                                                      num_workers=2)\n",
        "mnist_test_loader = torch.utils.data.DataLoader(mnist_test_set,\n",
        "                                                batch_size=batch_size,\n",
        "                                                shuffle=False,\n",
        "                                                num_workers=2)"
      ],
      "metadata": {
        "id": "kqwaSOKTU1FO"
      },
      "execution_count": 4,
      "outputs": []
    },
    {
      "cell_type": "markdown",
      "source": [
        "CIFAR10 as OOD dataset - for evaluation"
      ],
      "metadata": {
        "id": "1PJui2PtOG7H"
      }
    },
    {
      "cell_type": "code",
      "source": [
        "cifar10_transform = transforms.Compose([transforms.ToTensor(),\n",
        "                              transforms.Normalize(\n",
        "                                  (0.4914, 0.4822, 0.4465),\n",
        "                                  (0.247, 0.243, 0.261)), # cifar10 mean & std\n",
        "                              transforms.Resize(28),\n",
        "                              transforms.Grayscale(num_output_channels=1)])\n",
        "\n",
        "cifar10_data_set = torchvision.datasets.CIFAR10(root='./data',\n",
        "                                              train=False,\n",
        "                                              download=True,\n",
        "                                              transform=cifar10_transform)\n",
        "\n",
        "cifar10_data_set = torch.utils.data.Subset(cifar10_data_set, np.random.choice(range(len(cifar10_data_set)), size=500))"
      ],
      "metadata": {
        "id": "nDpWEUwET3a-",
        "colab": {
          "base_uri": "https://localhost:8080/"
        },
        "outputId": "26c15cf6-398e-4948-f537-c32bfd70052a"
      },
      "execution_count": 143,
      "outputs": [
        {
          "output_type": "stream",
          "name": "stdout",
          "text": [
            "Files already downloaded and verified\n"
          ]
        }
      ]
    },
    {
      "cell_type": "code",
      "source": [
        "class sub_data_set(Dataset):\n",
        "  \"\"\"Combined dataset.\"\"\"\n",
        "  def __init__(self, dataset, targets):\n",
        "    self.dataset = dataset\n",
        "    self.targets = targets\n",
        "      \n",
        "  def __getitem__(self, idx):\n",
        "      image = self.dataset[idx][0]\n",
        "      target = self.targets[idx]\n",
        "      return (image, target)\n",
        "\n",
        "  def __len__(self):\n",
        "      return len(self.dataset)"
      ],
      "metadata": {
        "id": "VulBX7FjPyIe"
      },
      "execution_count": 54,
      "outputs": []
    },
    {
      "cell_type": "code",
      "source": [
        "cifar10_size = 500\n",
        "\n",
        "sub_cifar10_data = torch.utils.data.Subset(cifar10_data_set, np.random.choice(range(len(cifar10_data_set)), size=cifar10_size))\n",
        "sub_cifar10_targets = [10 for i in range(cifar10_size)]\n",
        "\n",
        "sub_cifar10_data_set = sub_data_set(sub_cifar10_data, sub_cifar10_targets)\n",
        "\n",
        "sub_cifar10_test_loader = torch.utils.data.DataLoader(sub_cifar10_data_set,\n",
        "                                                batch_size=batch_size,\n",
        "                                                shuffle=False,\n",
        "                                                num_workers=2)\n",
        "\n",
        "combined_test_loader = torch.utils.data.DataLoader(\n",
        "    torch.utils.data.ConcatDataset([mnist_test_set, sub_cifar10_data_set]),\n",
        "        batch_size=batch_size, shuffle=True)"
      ],
      "metadata": {
        "id": "94l3RUoAUtal"
      },
      "execution_count": 146,
      "outputs": []
    },
    {
      "cell_type": "markdown",
      "source": [
        "\n",
        "# 2. Models"
      ],
      "metadata": {
        "id": "QeGkjNbvWmOd"
      }
    },
    {
      "cell_type": "code",
      "source": [
        "def out_size(W, F, S, P):\n",
        "  return ((W-F+2*P) // S) + 1"
      ],
      "metadata": {
        "id": "2QirT6gEHQF2"
      },
      "execution_count": 60,
      "outputs": []
    },
    {
      "cell_type": "markdown",
      "source": [
        "Baseline model class"
      ],
      "metadata": {
        "id": "TY5Tl05oW2nv"
      }
    },
    {
      "cell_type": "code",
      "source": [
        "class CNN(nn.Module):\n",
        "    def __init__(self):\n",
        "        super(CNN, self).__init__()\n",
        "        self.conv1 = nn.Conv2d(1, 32, kernel_size=5)\n",
        "        self.conv2 = nn.Conv2d(32, 32, kernel_size=5)\n",
        "        self.conv3 = nn.Conv2d(32,64, kernel_size=5)\n",
        "        self.fc1 = nn.Linear(3*3*64, 256)\n",
        "        self.fc2 = nn.Linear(256, 10)\n",
        "\n",
        "    def forward(self, x):\n",
        "        x = F.relu(self.conv1(x))\n",
        "        #x = F.dropout(x, p=0.5, training=self.training)\n",
        "        x = F.relu(F.avg_pool2d(self.conv2(x), 2))\n",
        "        x = F.dropout(x, p=0.5, training=self.training)\n",
        "        x = F.relu(F.avg_pool2d(self.conv3(x),2))\n",
        "        x = F.dropout(x, p=0.5, training=self.training)\n",
        "        x = x.view(-1,3*3*64 )\n",
        "        x = F.relu(self.fc1(x))\n",
        "        x = F.dropout(x, training=self.training)\n",
        "        x = self.fc2(x)\n",
        "        return F.log_softmax(x, dim=1)"
      ],
      "metadata": {
        "id": "OpNl-OWY9aQI"
      },
      "execution_count": 61,
      "outputs": []
    },
    {
      "cell_type": "markdown",
      "source": [
        "OSR model class"
      ],
      "metadata": {
        "id": "LGvYZ5GfW5SO"
      }
    },
    {
      "cell_type": "code",
      "source": [
        "class OSR_CNN(nn.Module):\n",
        "    def __init__(self):\n",
        "        super(OSR_CNN, self).__init__()\n",
        "        self.conv1 = nn.Conv2d(1, 32, kernel_size=5)\n",
        "        self.conv2 = nn.Conv2d(32, 32, kernel_size=5)\n",
        "        self.conv3 = nn.Conv2d(32,64, kernel_size=5)\n",
        "        self.fc1 = nn.Linear(3*3*64, 256)\n",
        "        self.fc2 = nn.Linear(256, 11)\n",
        "\n",
        "    def forward(self, x):\n",
        "        x = F.relu(self.conv1(x))\n",
        "        #x = F.dropout(x, p=0.5, training=self.training)\n",
        "        x = F.relu(F.avg_pool2d(self.conv2(x), 2))\n",
        "        x = F.dropout(x, p=0.5, training=self.training)\n",
        "        x = F.relu(F.avg_pool2d(self.conv3(x),2))\n",
        "        x = F.dropout(x, p=0.5, training=self.training)\n",
        "        x = x.view(-1,3*3*64 )\n",
        "        x = F.relu(self.fc1(x))\n",
        "        x = F.dropout(x, training=self.training)\n",
        "        x = self.fc2(x)\n",
        "        return F.log_softmax(x, dim=1)"
      ],
      "metadata": {
        "id": "txCJK_5jNs7l"
      },
      "execution_count": 70,
      "outputs": []
    },
    {
      "cell_type": "markdown",
      "source": [
        "# 3. Training"
      ],
      "metadata": {
        "id": "hLJfhW3jN88t"
      }
    },
    {
      "cell_type": "code",
      "source": [
        "def fit(model, train_loader):\n",
        "    it = iter(train_loader)\n",
        "    X_batch, y_batch = next(it)\n",
        "    optimizer = torch.optim.Adam(model.parameters())#,lr=0.001, betas=(0.9,0.999))\n",
        "    error = nn.CrossEntropyLoss()\n",
        "    EPOCHS = 1 # return to 5 at the end\n",
        "    model.train()\n",
        "    for epoch in range(EPOCHS):\n",
        "        correct = 0\n",
        "        for batch_idx, (X_batch, y_batch) in enumerate(train_loader):\n",
        "            var_X_batch = Variable(X_batch).float()\n",
        "            var_y_batch = Variable(y_batch)\n",
        "            optimizer.zero_grad()\n",
        "            output = model(var_X_batch)\n",
        "            loss = error(output, var_y_batch)\n",
        "            loss.backward()\n",
        "            optimizer.step()\n",
        "\n",
        "            # Total correct predictions\n",
        "            predicted = torch.max(output.data, 1)[1] \n",
        "            correct += (predicted == var_y_batch).sum()\n",
        "            #print(correct)\n",
        "            if batch_idx % 50 == 0:\n",
        "                print('Epoch : {} [{}/{} ({:.0f}%)]\\tLoss: {:.6f}\\t Accuracy:{:.3f}%'.format(\n",
        "                    epoch,\n",
        "                    batch_idx*len(X_batch),\n",
        "                    len(train_loader.dataset),\n",
        "                    100.*batch_idx / len(train_loader),\n",
        "                    loss.data,\n",
        "                    float(correct*100) / float(batch_size*(batch_idx+1))))"
      ],
      "metadata": {
        "id": "L61jUSqMOcaR"
      },
      "execution_count": 105,
      "outputs": []
    },
    {
      "cell_type": "markdown",
      "source": [
        "\n",
        "Training procedure for baseline model"
      ],
      "metadata": {
        "id": "VJgmRkd2OPuJ"
      }
    },
    {
      "cell_type": "code",
      "source": [
        "cnn = CNN()\n",
        "fit(cnn, mnist_train_loader)"
      ],
      "metadata": {
        "colab": {
          "base_uri": "https://localhost:8080/"
        },
        "id": "rjbbcRYTCbxg",
        "outputId": "51e435ec-93b7-4722-8266-1d46e5658c08"
      },
      "execution_count": 104,
      "outputs": [
        {
          "output_type": "stream",
          "name": "stdout",
          "text": [
            "Epoch : 0 [0/48000 (0%)]\tLoss: 2.307150\t Accuracy:7.031%\n",
            "Epoch : 0 [6400/48000 (13%)]\tLoss: 0.518751\t Accuracy:61.305%\n",
            "Epoch : 0 [12800/48000 (27%)]\tLoss: 0.290424\t Accuracy:73.747%\n",
            "Epoch : 0 [19200/48000 (40%)]\tLoss: 0.330406\t Accuracy:79.217%\n",
            "Epoch : 0 [25600/48000 (53%)]\tLoss: 0.308589\t Accuracy:82.455%\n",
            "Epoch : 0 [32000/48000 (67%)]\tLoss: 0.171881\t Accuracy:84.705%\n",
            "Epoch : 0 [38400/48000 (80%)]\tLoss: 0.276109\t Accuracy:86.303%\n",
            "Epoch : 0 [44800/48000 (93%)]\tLoss: 0.185724\t Accuracy:87.467%\n"
          ]
        }
      ]
    },
    {
      "cell_type": "markdown",
      "source": [
        "Training procedure for OSR model"
      ],
      "metadata": {
        "id": "mPIc_SoteNRx"
      }
    },
    {
      "cell_type": "code",
      "source": [
        "osr_cnn = OSR_CNN()\n",
        "fit(osr_cnn, mnist_train_loader)"
      ],
      "metadata": {
        "colab": {
          "base_uri": "https://localhost:8080/"
        },
        "id": "fxYfG3npeB3B",
        "outputId": "86701f3d-d558-49db-952e-30acd24b6d2b"
      },
      "execution_count": 106,
      "outputs": [
        {
          "output_type": "stream",
          "name": "stdout",
          "text": [
            "Epoch : 0 [0/48000 (0%)]\tLoss: 2.399718\t Accuracy:7.812%\n",
            "Epoch : 0 [6400/48000 (13%)]\tLoss: 0.526944\t Accuracy:60.754%\n",
            "Epoch : 0 [12800/48000 (27%)]\tLoss: 0.359408\t Accuracy:73.670%\n",
            "Epoch : 0 [19200/48000 (40%)]\tLoss: 0.341653\t Accuracy:79.398%\n",
            "Epoch : 0 [25600/48000 (53%)]\tLoss: 0.324484\t Accuracy:82.669%\n",
            "Epoch : 0 [32000/48000 (67%)]\tLoss: 0.196436\t Accuracy:84.879%\n",
            "Epoch : 0 [38400/48000 (80%)]\tLoss: 0.195027\t Accuracy:86.477%\n",
            "Epoch : 0 [44800/48000 (93%)]\tLoss: 0.145303\t Accuracy:87.640%\n"
          ]
        }
      ]
    },
    {
      "cell_type": "markdown",
      "source": [
        "# 4. Evaluation"
      ],
      "metadata": {
        "id": "9cE7M0iDOasl"
      }
    },
    {
      "cell_type": "code",
      "source": [
        "dictionary = {0:0, 1:0, 2:0, 3:0, 4:0, 5:0, 6:0, 7:0, 8:0, 9:0, 10:1}\n",
        "\n",
        "def evaluate(model, labels, test_loader, binary=False):\n",
        "  y_true = []\n",
        "  y_pred = []\n",
        "  correct = 0 \n",
        "  for test_imgs, test_labels in test_loader:\n",
        "    \n",
        "    # print(test_imgs.shape)\n",
        "    test_imgs = Variable(test_imgs).float()\n",
        "    output = model(test_imgs)\n",
        "    predicted = torch.max(output,1)[1]\n",
        "    correct += (predicted == test_labels).sum()\n",
        "\n",
        "    y_true += list(test_labels.detach().cpu())\n",
        "    y_pred += list(predicted.detach().cpu())\n",
        "\n",
        "  if binary:\n",
        "    y_true = [dictionary[int(y.detach().cpu())] for y in y_true]\n",
        "    y_pred = [dictionary[int(y.detach().cpu())] for y in y_pred]\n",
        "\n",
        "  print(\"Test accuracy:{:.3f}% \".format( float(correct*100) / (len(test_loader)*batch_size)))\n",
        "  a = confusion_matrix(y_true, y_pred, labels=labels)\n",
        "  return a"
      ],
      "metadata": {
        "id": "5QhKtylpR2TT"
      },
      "execution_count": 127,
      "outputs": []
    },
    {
      "cell_type": "markdown",
      "source": [
        "Baseline results"
      ],
      "metadata": {
        "id": "u8O8jeWSOdaQ"
      }
    },
    {
      "cell_type": "code",
      "source": [
        "baseline_c_matrix = evaluate(cnn, range(10), mnist_test_loader)\n",
        "print(baseline_c_matrix)"
      ],
      "metadata": {
        "colab": {
          "base_uri": "https://localhost:8080/"
        },
        "id": "g-lDRAo8TTaF",
        "outputId": "2d908d9d-1717-4937-f9a6-51d4905b7778"
      },
      "execution_count": 139,
      "outputs": [
        {
          "output_type": "stream",
          "name": "stdout",
          "text": [
            "Test accuracy:94.996% \n",
            "[[ 961    0    3    2    1    2    4    3    3    1]\n",
            " [   0 1118    5    1    1    2    2    4    2    0]\n",
            " [   4    4 1000    4    2    2    1   11    3    1]\n",
            " [   1    1    7  968    0   17    0   10    6    0]\n",
            " [   1    3    1    0  931    2   10    3    2   29]\n",
            " [   3    1    0   21    1  857    4    2    0    3]\n",
            " [   9    1    4    0    6   11  926    0    1    0]\n",
            " [   2    5   19    5    1    1    0  986    1    8]\n",
            " [   5    0    9    4    4   17    9    3  908   15]\n",
            " [   6    4    1    5   13   14    1   11    3  951]]\n"
          ]
        }
      ]
    },
    {
      "cell_type": "markdown",
      "source": [
        "OSR rational"
      ],
      "metadata": {
        "id": "pce_JqdNOf_e"
      }
    },
    {
      "cell_type": "markdown",
      "source": [
        ":TODO"
      ],
      "metadata": {
        "id": "b-bKtsmgXeKj"
      }
    },
    {
      "cell_type": "markdown",
      "source": [
        "OOD results"
      ],
      "metadata": {
        "id": "RqFwAaeuOjd3"
      }
    },
    {
      "cell_type": "code",
      "source": [
        "ood_c_matrix = evaluate(osr_cnn, range(2), sub_cifar10_test_loader, True)\n",
        "print(ood_c_matrix)"
      ],
      "metadata": {
        "id": "qpIUbMIlOlgS",
        "colab": {
          "base_uri": "https://localhost:8080/"
        },
        "outputId": "d508fc21-7493-415f-a48b-0424754dbd4e"
      },
      "execution_count": 147,
      "outputs": [
        {
          "output_type": "stream",
          "name": "stdout",
          "text": [
            "Test accuracy:0.000% \n",
            "[[  0   0]\n",
            " [500   0]]\n"
          ]
        }
      ]
    },
    {
      "cell_type": "markdown",
      "source": [
        "OSR results"
      ],
      "metadata": {
        "id": "FwT2fW44OwAP"
      }
    },
    {
      "cell_type": "code",
      "source": [
        "osr_c_matrix = evaluate(osr_cnn, range(11), combined_test_loader)\n",
        "print(osr_c_matrix)"
      ],
      "metadata": {
        "id": "klWkvyt4OwYr",
        "colab": {
          "base_uri": "https://localhost:8080/"
        },
        "outputId": "a6ba146b-060a-4352-857d-10e3c5631014"
      },
      "execution_count": 148,
      "outputs": [
        {
          "output_type": "stream",
          "name": "stdout",
          "text": [
            "Test accuracy:90.258% \n",
            "[[ 953    0    1    0    3    3    8    1    6    5    0]\n",
            " [   1 1113    5    0    2    1    1    2   10    0    0]\n",
            " [   6    5  987    1    1    0    3   17   12    0    0]\n",
            " [   1    0    5  975    0    7    0   11    9    2    0]\n",
            " [   0    0    3    1  954    0    6    0    0   18    0]\n",
            " [   2    0    0   20    0  826    8    2   25    9    0]\n",
            " [   4    4    1    0   13    4  925    0    7    0    0]\n",
            " [   1    5   26    4    1    2    0  968    7   14    0]\n",
            " [   4    1   12    4    5    0    1    2  938    7    0]\n",
            " [   2    1    0    4   17    7    1    9   18  950    0]\n",
            " [  15    9  115   89   15  161   16   48   17   15    0]]\n"
          ]
        }
      ]
    }
  ]
}