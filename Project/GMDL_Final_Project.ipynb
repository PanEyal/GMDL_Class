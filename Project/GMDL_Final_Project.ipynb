{
  "nbformat": 4,
  "nbformat_minor": 0,
  "metadata": {
    "colab": {
      "name": "GMDL_Final_Project.ipynb",
      "provenance": [],
      "collapsed_sections": []
    },
    "kernelspec": {
      "name": "python3",
      "display_name": "Python 3"
    },
    "language_info": {
      "name": "python"
    },
    "widgets": {
      "application/vnd.jupyter.widget-state+json": {
        "f2498befdac6495c9cbdb55e076660e3": {
          "model_module": "@jupyter-widgets/controls",
          "model_name": "HBoxModel",
          "model_module_version": "1.5.0",
          "state": {
            "_dom_classes": [],
            "_model_module": "@jupyter-widgets/controls",
            "_model_module_version": "1.5.0",
            "_model_name": "HBoxModel",
            "_view_count": null,
            "_view_module": "@jupyter-widgets/controls",
            "_view_module_version": "1.5.0",
            "_view_name": "HBoxView",
            "box_style": "",
            "children": [
              "IPY_MODEL_04039c6164a24a3cb5d4848754f815e9",
              "IPY_MODEL_7439fba3e779405bae0dfb7a80c86d8d",
              "IPY_MODEL_20d620b0bba848528247cd6d036da72e"
            ],
            "layout": "IPY_MODEL_cfa9b82b74be4c1e8ae54097852b2b33"
          }
        },
        "04039c6164a24a3cb5d4848754f815e9": {
          "model_module": "@jupyter-widgets/controls",
          "model_name": "HTMLModel",
          "model_module_version": "1.5.0",
          "state": {
            "_dom_classes": [],
            "_model_module": "@jupyter-widgets/controls",
            "_model_module_version": "1.5.0",
            "_model_name": "HTMLModel",
            "_view_count": null,
            "_view_module": "@jupyter-widgets/controls",
            "_view_module_version": "1.5.0",
            "_view_name": "HTMLView",
            "description": "",
            "description_tooltip": null,
            "layout": "IPY_MODEL_ecbb807450cb4eb48bedbc85e9d886ec",
            "placeholder": "​",
            "style": "IPY_MODEL_cd1a7308d7f34145a7625fb6891a0132",
            "value": "100%"
          }
        },
        "7439fba3e779405bae0dfb7a80c86d8d": {
          "model_module": "@jupyter-widgets/controls",
          "model_name": "FloatProgressModel",
          "model_module_version": "1.5.0",
          "state": {
            "_dom_classes": [],
            "_model_module": "@jupyter-widgets/controls",
            "_model_module_version": "1.5.0",
            "_model_name": "FloatProgressModel",
            "_view_count": null,
            "_view_module": "@jupyter-widgets/controls",
            "_view_module_version": "1.5.0",
            "_view_name": "ProgressView",
            "bar_style": "success",
            "description": "",
            "description_tooltip": null,
            "layout": "IPY_MODEL_fbe8af362b3840b5adeca2945e26e22a",
            "max": 9912422,
            "min": 0,
            "orientation": "horizontal",
            "style": "IPY_MODEL_1930603660b5442eadb6ea2f0b7feff4",
            "value": 9912422
          }
        },
        "20d620b0bba848528247cd6d036da72e": {
          "model_module": "@jupyter-widgets/controls",
          "model_name": "HTMLModel",
          "model_module_version": "1.5.0",
          "state": {
            "_dom_classes": [],
            "_model_module": "@jupyter-widgets/controls",
            "_model_module_version": "1.5.0",
            "_model_name": "HTMLModel",
            "_view_count": null,
            "_view_module": "@jupyter-widgets/controls",
            "_view_module_version": "1.5.0",
            "_view_name": "HTMLView",
            "description": "",
            "description_tooltip": null,
            "layout": "IPY_MODEL_1245a26690e74bd38d7b7cb3ae50fac7",
            "placeholder": "​",
            "style": "IPY_MODEL_3df943806fd04ac18cfe21ae40549b24",
            "value": " 9912422/9912422 [00:01&lt;00:00, 12036763.21it/s]"
          }
        },
        "cfa9b82b74be4c1e8ae54097852b2b33": {
          "model_module": "@jupyter-widgets/base",
          "model_name": "LayoutModel",
          "model_module_version": "1.2.0",
          "state": {
            "_model_module": "@jupyter-widgets/base",
            "_model_module_version": "1.2.0",
            "_model_name": "LayoutModel",
            "_view_count": null,
            "_view_module": "@jupyter-widgets/base",
            "_view_module_version": "1.2.0",
            "_view_name": "LayoutView",
            "align_content": null,
            "align_items": null,
            "align_self": null,
            "border": null,
            "bottom": null,
            "display": null,
            "flex": null,
            "flex_flow": null,
            "grid_area": null,
            "grid_auto_columns": null,
            "grid_auto_flow": null,
            "grid_auto_rows": null,
            "grid_column": null,
            "grid_gap": null,
            "grid_row": null,
            "grid_template_areas": null,
            "grid_template_columns": null,
            "grid_template_rows": null,
            "height": null,
            "justify_content": null,
            "justify_items": null,
            "left": null,
            "margin": null,
            "max_height": null,
            "max_width": null,
            "min_height": null,
            "min_width": null,
            "object_fit": null,
            "object_position": null,
            "order": null,
            "overflow": null,
            "overflow_x": null,
            "overflow_y": null,
            "padding": null,
            "right": null,
            "top": null,
            "visibility": null,
            "width": null
          }
        },
        "ecbb807450cb4eb48bedbc85e9d886ec": {
          "model_module": "@jupyter-widgets/base",
          "model_name": "LayoutModel",
          "model_module_version": "1.2.0",
          "state": {
            "_model_module": "@jupyter-widgets/base",
            "_model_module_version": "1.2.0",
            "_model_name": "LayoutModel",
            "_view_count": null,
            "_view_module": "@jupyter-widgets/base",
            "_view_module_version": "1.2.0",
            "_view_name": "LayoutView",
            "align_content": null,
            "align_items": null,
            "align_self": null,
            "border": null,
            "bottom": null,
            "display": null,
            "flex": null,
            "flex_flow": null,
            "grid_area": null,
            "grid_auto_columns": null,
            "grid_auto_flow": null,
            "grid_auto_rows": null,
            "grid_column": null,
            "grid_gap": null,
            "grid_row": null,
            "grid_template_areas": null,
            "grid_template_columns": null,
            "grid_template_rows": null,
            "height": null,
            "justify_content": null,
            "justify_items": null,
            "left": null,
            "margin": null,
            "max_height": null,
            "max_width": null,
            "min_height": null,
            "min_width": null,
            "object_fit": null,
            "object_position": null,
            "order": null,
            "overflow": null,
            "overflow_x": null,
            "overflow_y": null,
            "padding": null,
            "right": null,
            "top": null,
            "visibility": null,
            "width": null
          }
        },
        "cd1a7308d7f34145a7625fb6891a0132": {
          "model_module": "@jupyter-widgets/controls",
          "model_name": "DescriptionStyleModel",
          "model_module_version": "1.5.0",
          "state": {
            "_model_module": "@jupyter-widgets/controls",
            "_model_module_version": "1.5.0",
            "_model_name": "DescriptionStyleModel",
            "_view_count": null,
            "_view_module": "@jupyter-widgets/base",
            "_view_module_version": "1.2.0",
            "_view_name": "StyleView",
            "description_width": ""
          }
        },
        "fbe8af362b3840b5adeca2945e26e22a": {
          "model_module": "@jupyter-widgets/base",
          "model_name": "LayoutModel",
          "model_module_version": "1.2.0",
          "state": {
            "_model_module": "@jupyter-widgets/base",
            "_model_module_version": "1.2.0",
            "_model_name": "LayoutModel",
            "_view_count": null,
            "_view_module": "@jupyter-widgets/base",
            "_view_module_version": "1.2.0",
            "_view_name": "LayoutView",
            "align_content": null,
            "align_items": null,
            "align_self": null,
            "border": null,
            "bottom": null,
            "display": null,
            "flex": null,
            "flex_flow": null,
            "grid_area": null,
            "grid_auto_columns": null,
            "grid_auto_flow": null,
            "grid_auto_rows": null,
            "grid_column": null,
            "grid_gap": null,
            "grid_row": null,
            "grid_template_areas": null,
            "grid_template_columns": null,
            "grid_template_rows": null,
            "height": null,
            "justify_content": null,
            "justify_items": null,
            "left": null,
            "margin": null,
            "max_height": null,
            "max_width": null,
            "min_height": null,
            "min_width": null,
            "object_fit": null,
            "object_position": null,
            "order": null,
            "overflow": null,
            "overflow_x": null,
            "overflow_y": null,
            "padding": null,
            "right": null,
            "top": null,
            "visibility": null,
            "width": null
          }
        },
        "1930603660b5442eadb6ea2f0b7feff4": {
          "model_module": "@jupyter-widgets/controls",
          "model_name": "ProgressStyleModel",
          "model_module_version": "1.5.0",
          "state": {
            "_model_module": "@jupyter-widgets/controls",
            "_model_module_version": "1.5.0",
            "_model_name": "ProgressStyleModel",
            "_view_count": null,
            "_view_module": "@jupyter-widgets/base",
            "_view_module_version": "1.2.0",
            "_view_name": "StyleView",
            "bar_color": null,
            "description_width": ""
          }
        },
        "1245a26690e74bd38d7b7cb3ae50fac7": {
          "model_module": "@jupyter-widgets/base",
          "model_name": "LayoutModel",
          "model_module_version": "1.2.0",
          "state": {
            "_model_module": "@jupyter-widgets/base",
            "_model_module_version": "1.2.0",
            "_model_name": "LayoutModel",
            "_view_count": null,
            "_view_module": "@jupyter-widgets/base",
            "_view_module_version": "1.2.0",
            "_view_name": "LayoutView",
            "align_content": null,
            "align_items": null,
            "align_self": null,
            "border": null,
            "bottom": null,
            "display": null,
            "flex": null,
            "flex_flow": null,
            "grid_area": null,
            "grid_auto_columns": null,
            "grid_auto_flow": null,
            "grid_auto_rows": null,
            "grid_column": null,
            "grid_gap": null,
            "grid_row": null,
            "grid_template_areas": null,
            "grid_template_columns": null,
            "grid_template_rows": null,
            "height": null,
            "justify_content": null,
            "justify_items": null,
            "left": null,
            "margin": null,
            "max_height": null,
            "max_width": null,
            "min_height": null,
            "min_width": null,
            "object_fit": null,
            "object_position": null,
            "order": null,
            "overflow": null,
            "overflow_x": null,
            "overflow_y": null,
            "padding": null,
            "right": null,
            "top": null,
            "visibility": null,
            "width": null
          }
        },
        "3df943806fd04ac18cfe21ae40549b24": {
          "model_module": "@jupyter-widgets/controls",
          "model_name": "DescriptionStyleModel",
          "model_module_version": "1.5.0",
          "state": {
            "_model_module": "@jupyter-widgets/controls",
            "_model_module_version": "1.5.0",
            "_model_name": "DescriptionStyleModel",
            "_view_count": null,
            "_view_module": "@jupyter-widgets/base",
            "_view_module_version": "1.2.0",
            "_view_name": "StyleView",
            "description_width": ""
          }
        },
        "0b9ce91a937449658879c1017cccd594": {
          "model_module": "@jupyter-widgets/controls",
          "model_name": "HBoxModel",
          "model_module_version": "1.5.0",
          "state": {
            "_dom_classes": [],
            "_model_module": "@jupyter-widgets/controls",
            "_model_module_version": "1.5.0",
            "_model_name": "HBoxModel",
            "_view_count": null,
            "_view_module": "@jupyter-widgets/controls",
            "_view_module_version": "1.5.0",
            "_view_name": "HBoxView",
            "box_style": "",
            "children": [
              "IPY_MODEL_ef94ca1c2a4e45d2b5ccf7592ae8ac1e",
              "IPY_MODEL_65b428562ad5489f8795e42ba044fa88",
              "IPY_MODEL_62787c1889ac428e928c7df424b8f7a8"
            ],
            "layout": "IPY_MODEL_e90b8df32a8141649f1dfb5f9e1dde46"
          }
        },
        "ef94ca1c2a4e45d2b5ccf7592ae8ac1e": {
          "model_module": "@jupyter-widgets/controls",
          "model_name": "HTMLModel",
          "model_module_version": "1.5.0",
          "state": {
            "_dom_classes": [],
            "_model_module": "@jupyter-widgets/controls",
            "_model_module_version": "1.5.0",
            "_model_name": "HTMLModel",
            "_view_count": null,
            "_view_module": "@jupyter-widgets/controls",
            "_view_module_version": "1.5.0",
            "_view_name": "HTMLView",
            "description": "",
            "description_tooltip": null,
            "layout": "IPY_MODEL_7f2f4fdbdadf4d0d9212a80aebb77347",
            "placeholder": "​",
            "style": "IPY_MODEL_2a171e050754412c82b05d12eb76a72a",
            "value": "100%"
          }
        },
        "65b428562ad5489f8795e42ba044fa88": {
          "model_module": "@jupyter-widgets/controls",
          "model_name": "FloatProgressModel",
          "model_module_version": "1.5.0",
          "state": {
            "_dom_classes": [],
            "_model_module": "@jupyter-widgets/controls",
            "_model_module_version": "1.5.0",
            "_model_name": "FloatProgressModel",
            "_view_count": null,
            "_view_module": "@jupyter-widgets/controls",
            "_view_module_version": "1.5.0",
            "_view_name": "ProgressView",
            "bar_style": "success",
            "description": "",
            "description_tooltip": null,
            "layout": "IPY_MODEL_479dc44983094a76b4c092403e84538d",
            "max": 28881,
            "min": 0,
            "orientation": "horizontal",
            "style": "IPY_MODEL_7438e05652344d579d36e4e1b5744803",
            "value": 28881
          }
        },
        "62787c1889ac428e928c7df424b8f7a8": {
          "model_module": "@jupyter-widgets/controls",
          "model_name": "HTMLModel",
          "model_module_version": "1.5.0",
          "state": {
            "_dom_classes": [],
            "_model_module": "@jupyter-widgets/controls",
            "_model_module_version": "1.5.0",
            "_model_name": "HTMLModel",
            "_view_count": null,
            "_view_module": "@jupyter-widgets/controls",
            "_view_module_version": "1.5.0",
            "_view_name": "HTMLView",
            "description": "",
            "description_tooltip": null,
            "layout": "IPY_MODEL_6cecf43a2c4a4649afe592c026d3348e",
            "placeholder": "​",
            "style": "IPY_MODEL_7568553e1da14c419aeba8e8f16c7f95",
            "value": " 28881/28881 [00:00&lt;00:00, 652196.38it/s]"
          }
        },
        "e90b8df32a8141649f1dfb5f9e1dde46": {
          "model_module": "@jupyter-widgets/base",
          "model_name": "LayoutModel",
          "model_module_version": "1.2.0",
          "state": {
            "_model_module": "@jupyter-widgets/base",
            "_model_module_version": "1.2.0",
            "_model_name": "LayoutModel",
            "_view_count": null,
            "_view_module": "@jupyter-widgets/base",
            "_view_module_version": "1.2.0",
            "_view_name": "LayoutView",
            "align_content": null,
            "align_items": null,
            "align_self": null,
            "border": null,
            "bottom": null,
            "display": null,
            "flex": null,
            "flex_flow": null,
            "grid_area": null,
            "grid_auto_columns": null,
            "grid_auto_flow": null,
            "grid_auto_rows": null,
            "grid_column": null,
            "grid_gap": null,
            "grid_row": null,
            "grid_template_areas": null,
            "grid_template_columns": null,
            "grid_template_rows": null,
            "height": null,
            "justify_content": null,
            "justify_items": null,
            "left": null,
            "margin": null,
            "max_height": null,
            "max_width": null,
            "min_height": null,
            "min_width": null,
            "object_fit": null,
            "object_position": null,
            "order": null,
            "overflow": null,
            "overflow_x": null,
            "overflow_y": null,
            "padding": null,
            "right": null,
            "top": null,
            "visibility": null,
            "width": null
          }
        },
        "7f2f4fdbdadf4d0d9212a80aebb77347": {
          "model_module": "@jupyter-widgets/base",
          "model_name": "LayoutModel",
          "model_module_version": "1.2.0",
          "state": {
            "_model_module": "@jupyter-widgets/base",
            "_model_module_version": "1.2.0",
            "_model_name": "LayoutModel",
            "_view_count": null,
            "_view_module": "@jupyter-widgets/base",
            "_view_module_version": "1.2.0",
            "_view_name": "LayoutView",
            "align_content": null,
            "align_items": null,
            "align_self": null,
            "border": null,
            "bottom": null,
            "display": null,
            "flex": null,
            "flex_flow": null,
            "grid_area": null,
            "grid_auto_columns": null,
            "grid_auto_flow": null,
            "grid_auto_rows": null,
            "grid_column": null,
            "grid_gap": null,
            "grid_row": null,
            "grid_template_areas": null,
            "grid_template_columns": null,
            "grid_template_rows": null,
            "height": null,
            "justify_content": null,
            "justify_items": null,
            "left": null,
            "margin": null,
            "max_height": null,
            "max_width": null,
            "min_height": null,
            "min_width": null,
            "object_fit": null,
            "object_position": null,
            "order": null,
            "overflow": null,
            "overflow_x": null,
            "overflow_y": null,
            "padding": null,
            "right": null,
            "top": null,
            "visibility": null,
            "width": null
          }
        },
        "2a171e050754412c82b05d12eb76a72a": {
          "model_module": "@jupyter-widgets/controls",
          "model_name": "DescriptionStyleModel",
          "model_module_version": "1.5.0",
          "state": {
            "_model_module": "@jupyter-widgets/controls",
            "_model_module_version": "1.5.0",
            "_model_name": "DescriptionStyleModel",
            "_view_count": null,
            "_view_module": "@jupyter-widgets/base",
            "_view_module_version": "1.2.0",
            "_view_name": "StyleView",
            "description_width": ""
          }
        },
        "479dc44983094a76b4c092403e84538d": {
          "model_module": "@jupyter-widgets/base",
          "model_name": "LayoutModel",
          "model_module_version": "1.2.0",
          "state": {
            "_model_module": "@jupyter-widgets/base",
            "_model_module_version": "1.2.0",
            "_model_name": "LayoutModel",
            "_view_count": null,
            "_view_module": "@jupyter-widgets/base",
            "_view_module_version": "1.2.0",
            "_view_name": "LayoutView",
            "align_content": null,
            "align_items": null,
            "align_self": null,
            "border": null,
            "bottom": null,
            "display": null,
            "flex": null,
            "flex_flow": null,
            "grid_area": null,
            "grid_auto_columns": null,
            "grid_auto_flow": null,
            "grid_auto_rows": null,
            "grid_column": null,
            "grid_gap": null,
            "grid_row": null,
            "grid_template_areas": null,
            "grid_template_columns": null,
            "grid_template_rows": null,
            "height": null,
            "justify_content": null,
            "justify_items": null,
            "left": null,
            "margin": null,
            "max_height": null,
            "max_width": null,
            "min_height": null,
            "min_width": null,
            "object_fit": null,
            "object_position": null,
            "order": null,
            "overflow": null,
            "overflow_x": null,
            "overflow_y": null,
            "padding": null,
            "right": null,
            "top": null,
            "visibility": null,
            "width": null
          }
        },
        "7438e05652344d579d36e4e1b5744803": {
          "model_module": "@jupyter-widgets/controls",
          "model_name": "ProgressStyleModel",
          "model_module_version": "1.5.0",
          "state": {
            "_model_module": "@jupyter-widgets/controls",
            "_model_module_version": "1.5.0",
            "_model_name": "ProgressStyleModel",
            "_view_count": null,
            "_view_module": "@jupyter-widgets/base",
            "_view_module_version": "1.2.0",
            "_view_name": "StyleView",
            "bar_color": null,
            "description_width": ""
          }
        },
        "6cecf43a2c4a4649afe592c026d3348e": {
          "model_module": "@jupyter-widgets/base",
          "model_name": "LayoutModel",
          "model_module_version": "1.2.0",
          "state": {
            "_model_module": "@jupyter-widgets/base",
            "_model_module_version": "1.2.0",
            "_model_name": "LayoutModel",
            "_view_count": null,
            "_view_module": "@jupyter-widgets/base",
            "_view_module_version": "1.2.0",
            "_view_name": "LayoutView",
            "align_content": null,
            "align_items": null,
            "align_self": null,
            "border": null,
            "bottom": null,
            "display": null,
            "flex": null,
            "flex_flow": null,
            "grid_area": null,
            "grid_auto_columns": null,
            "grid_auto_flow": null,
            "grid_auto_rows": null,
            "grid_column": null,
            "grid_gap": null,
            "grid_row": null,
            "grid_template_areas": null,
            "grid_template_columns": null,
            "grid_template_rows": null,
            "height": null,
            "justify_content": null,
            "justify_items": null,
            "left": null,
            "margin": null,
            "max_height": null,
            "max_width": null,
            "min_height": null,
            "min_width": null,
            "object_fit": null,
            "object_position": null,
            "order": null,
            "overflow": null,
            "overflow_x": null,
            "overflow_y": null,
            "padding": null,
            "right": null,
            "top": null,
            "visibility": null,
            "width": null
          }
        },
        "7568553e1da14c419aeba8e8f16c7f95": {
          "model_module": "@jupyter-widgets/controls",
          "model_name": "DescriptionStyleModel",
          "model_module_version": "1.5.0",
          "state": {
            "_model_module": "@jupyter-widgets/controls",
            "_model_module_version": "1.5.0",
            "_model_name": "DescriptionStyleModel",
            "_view_count": null,
            "_view_module": "@jupyter-widgets/base",
            "_view_module_version": "1.2.0",
            "_view_name": "StyleView",
            "description_width": ""
          }
        },
        "12f42ea9cc9c4c7fa8724d8e12181030": {
          "model_module": "@jupyter-widgets/controls",
          "model_name": "HBoxModel",
          "model_module_version": "1.5.0",
          "state": {
            "_dom_classes": [],
            "_model_module": "@jupyter-widgets/controls",
            "_model_module_version": "1.5.0",
            "_model_name": "HBoxModel",
            "_view_count": null,
            "_view_module": "@jupyter-widgets/controls",
            "_view_module_version": "1.5.0",
            "_view_name": "HBoxView",
            "box_style": "",
            "children": [
              "IPY_MODEL_521f812b4d534b0b96d976b83ed5026d",
              "IPY_MODEL_d03fdffe3bff48df881f81941c8749fb",
              "IPY_MODEL_1352fb6f9184432c86ad02a2c6d1f56e"
            ],
            "layout": "IPY_MODEL_54ebc3b8f1e5416ca051da01e1218c8b"
          }
        },
        "521f812b4d534b0b96d976b83ed5026d": {
          "model_module": "@jupyter-widgets/controls",
          "model_name": "HTMLModel",
          "model_module_version": "1.5.0",
          "state": {
            "_dom_classes": [],
            "_model_module": "@jupyter-widgets/controls",
            "_model_module_version": "1.5.0",
            "_model_name": "HTMLModel",
            "_view_count": null,
            "_view_module": "@jupyter-widgets/controls",
            "_view_module_version": "1.5.0",
            "_view_name": "HTMLView",
            "description": "",
            "description_tooltip": null,
            "layout": "IPY_MODEL_bb5d30033f2e4a22ae38ca5ba0d01cce",
            "placeholder": "​",
            "style": "IPY_MODEL_bc2dc594629c412dbe9156ad8994870f",
            "value": "100%"
          }
        },
        "d03fdffe3bff48df881f81941c8749fb": {
          "model_module": "@jupyter-widgets/controls",
          "model_name": "FloatProgressModel",
          "model_module_version": "1.5.0",
          "state": {
            "_dom_classes": [],
            "_model_module": "@jupyter-widgets/controls",
            "_model_module_version": "1.5.0",
            "_model_name": "FloatProgressModel",
            "_view_count": null,
            "_view_module": "@jupyter-widgets/controls",
            "_view_module_version": "1.5.0",
            "_view_name": "ProgressView",
            "bar_style": "success",
            "description": "",
            "description_tooltip": null,
            "layout": "IPY_MODEL_0388e8948df74e63937ee28c3399c2ea",
            "max": 1648877,
            "min": 0,
            "orientation": "horizontal",
            "style": "IPY_MODEL_982a9e49f2a14e83b819a4244c9e1b6f",
            "value": 1648877
          }
        },
        "1352fb6f9184432c86ad02a2c6d1f56e": {
          "model_module": "@jupyter-widgets/controls",
          "model_name": "HTMLModel",
          "model_module_version": "1.5.0",
          "state": {
            "_dom_classes": [],
            "_model_module": "@jupyter-widgets/controls",
            "_model_module_version": "1.5.0",
            "_model_name": "HTMLModel",
            "_view_count": null,
            "_view_module": "@jupyter-widgets/controls",
            "_view_module_version": "1.5.0",
            "_view_name": "HTMLView",
            "description": "",
            "description_tooltip": null,
            "layout": "IPY_MODEL_df4385f398324b00908e57acd8686424",
            "placeholder": "​",
            "style": "IPY_MODEL_96f16275d579403ab27053c935ff934e",
            "value": " 1648877/1648877 [00:00&lt;00:00, 2930280.65it/s]"
          }
        },
        "54ebc3b8f1e5416ca051da01e1218c8b": {
          "model_module": "@jupyter-widgets/base",
          "model_name": "LayoutModel",
          "model_module_version": "1.2.0",
          "state": {
            "_model_module": "@jupyter-widgets/base",
            "_model_module_version": "1.2.0",
            "_model_name": "LayoutModel",
            "_view_count": null,
            "_view_module": "@jupyter-widgets/base",
            "_view_module_version": "1.2.0",
            "_view_name": "LayoutView",
            "align_content": null,
            "align_items": null,
            "align_self": null,
            "border": null,
            "bottom": null,
            "display": null,
            "flex": null,
            "flex_flow": null,
            "grid_area": null,
            "grid_auto_columns": null,
            "grid_auto_flow": null,
            "grid_auto_rows": null,
            "grid_column": null,
            "grid_gap": null,
            "grid_row": null,
            "grid_template_areas": null,
            "grid_template_columns": null,
            "grid_template_rows": null,
            "height": null,
            "justify_content": null,
            "justify_items": null,
            "left": null,
            "margin": null,
            "max_height": null,
            "max_width": null,
            "min_height": null,
            "min_width": null,
            "object_fit": null,
            "object_position": null,
            "order": null,
            "overflow": null,
            "overflow_x": null,
            "overflow_y": null,
            "padding": null,
            "right": null,
            "top": null,
            "visibility": null,
            "width": null
          }
        },
        "bb5d30033f2e4a22ae38ca5ba0d01cce": {
          "model_module": "@jupyter-widgets/base",
          "model_name": "LayoutModel",
          "model_module_version": "1.2.0",
          "state": {
            "_model_module": "@jupyter-widgets/base",
            "_model_module_version": "1.2.0",
            "_model_name": "LayoutModel",
            "_view_count": null,
            "_view_module": "@jupyter-widgets/base",
            "_view_module_version": "1.2.0",
            "_view_name": "LayoutView",
            "align_content": null,
            "align_items": null,
            "align_self": null,
            "border": null,
            "bottom": null,
            "display": null,
            "flex": null,
            "flex_flow": null,
            "grid_area": null,
            "grid_auto_columns": null,
            "grid_auto_flow": null,
            "grid_auto_rows": null,
            "grid_column": null,
            "grid_gap": null,
            "grid_row": null,
            "grid_template_areas": null,
            "grid_template_columns": null,
            "grid_template_rows": null,
            "height": null,
            "justify_content": null,
            "justify_items": null,
            "left": null,
            "margin": null,
            "max_height": null,
            "max_width": null,
            "min_height": null,
            "min_width": null,
            "object_fit": null,
            "object_position": null,
            "order": null,
            "overflow": null,
            "overflow_x": null,
            "overflow_y": null,
            "padding": null,
            "right": null,
            "top": null,
            "visibility": null,
            "width": null
          }
        },
        "bc2dc594629c412dbe9156ad8994870f": {
          "model_module": "@jupyter-widgets/controls",
          "model_name": "DescriptionStyleModel",
          "model_module_version": "1.5.0",
          "state": {
            "_model_module": "@jupyter-widgets/controls",
            "_model_module_version": "1.5.0",
            "_model_name": "DescriptionStyleModel",
            "_view_count": null,
            "_view_module": "@jupyter-widgets/base",
            "_view_module_version": "1.2.0",
            "_view_name": "StyleView",
            "description_width": ""
          }
        },
        "0388e8948df74e63937ee28c3399c2ea": {
          "model_module": "@jupyter-widgets/base",
          "model_name": "LayoutModel",
          "model_module_version": "1.2.0",
          "state": {
            "_model_module": "@jupyter-widgets/base",
            "_model_module_version": "1.2.0",
            "_model_name": "LayoutModel",
            "_view_count": null,
            "_view_module": "@jupyter-widgets/base",
            "_view_module_version": "1.2.0",
            "_view_name": "LayoutView",
            "align_content": null,
            "align_items": null,
            "align_self": null,
            "border": null,
            "bottom": null,
            "display": null,
            "flex": null,
            "flex_flow": null,
            "grid_area": null,
            "grid_auto_columns": null,
            "grid_auto_flow": null,
            "grid_auto_rows": null,
            "grid_column": null,
            "grid_gap": null,
            "grid_row": null,
            "grid_template_areas": null,
            "grid_template_columns": null,
            "grid_template_rows": null,
            "height": null,
            "justify_content": null,
            "justify_items": null,
            "left": null,
            "margin": null,
            "max_height": null,
            "max_width": null,
            "min_height": null,
            "min_width": null,
            "object_fit": null,
            "object_position": null,
            "order": null,
            "overflow": null,
            "overflow_x": null,
            "overflow_y": null,
            "padding": null,
            "right": null,
            "top": null,
            "visibility": null,
            "width": null
          }
        },
        "982a9e49f2a14e83b819a4244c9e1b6f": {
          "model_module": "@jupyter-widgets/controls",
          "model_name": "ProgressStyleModel",
          "model_module_version": "1.5.0",
          "state": {
            "_model_module": "@jupyter-widgets/controls",
            "_model_module_version": "1.5.0",
            "_model_name": "ProgressStyleModel",
            "_view_count": null,
            "_view_module": "@jupyter-widgets/base",
            "_view_module_version": "1.2.0",
            "_view_name": "StyleView",
            "bar_color": null,
            "description_width": ""
          }
        },
        "df4385f398324b00908e57acd8686424": {
          "model_module": "@jupyter-widgets/base",
          "model_name": "LayoutModel",
          "model_module_version": "1.2.0",
          "state": {
            "_model_module": "@jupyter-widgets/base",
            "_model_module_version": "1.2.0",
            "_model_name": "LayoutModel",
            "_view_count": null,
            "_view_module": "@jupyter-widgets/base",
            "_view_module_version": "1.2.0",
            "_view_name": "LayoutView",
            "align_content": null,
            "align_items": null,
            "align_self": null,
            "border": null,
            "bottom": null,
            "display": null,
            "flex": null,
            "flex_flow": null,
            "grid_area": null,
            "grid_auto_columns": null,
            "grid_auto_flow": null,
            "grid_auto_rows": null,
            "grid_column": null,
            "grid_gap": null,
            "grid_row": null,
            "grid_template_areas": null,
            "grid_template_columns": null,
            "grid_template_rows": null,
            "height": null,
            "justify_content": null,
            "justify_items": null,
            "left": null,
            "margin": null,
            "max_height": null,
            "max_width": null,
            "min_height": null,
            "min_width": null,
            "object_fit": null,
            "object_position": null,
            "order": null,
            "overflow": null,
            "overflow_x": null,
            "overflow_y": null,
            "padding": null,
            "right": null,
            "top": null,
            "visibility": null,
            "width": null
          }
        },
        "96f16275d579403ab27053c935ff934e": {
          "model_module": "@jupyter-widgets/controls",
          "model_name": "DescriptionStyleModel",
          "model_module_version": "1.5.0",
          "state": {
            "_model_module": "@jupyter-widgets/controls",
            "_model_module_version": "1.5.0",
            "_model_name": "DescriptionStyleModel",
            "_view_count": null,
            "_view_module": "@jupyter-widgets/base",
            "_view_module_version": "1.2.0",
            "_view_name": "StyleView",
            "description_width": ""
          }
        },
        "ab9d6a1f17b944a695bf18c47bdca465": {
          "model_module": "@jupyter-widgets/controls",
          "model_name": "HBoxModel",
          "model_module_version": "1.5.0",
          "state": {
            "_dom_classes": [],
            "_model_module": "@jupyter-widgets/controls",
            "_model_module_version": "1.5.0",
            "_model_name": "HBoxModel",
            "_view_count": null,
            "_view_module": "@jupyter-widgets/controls",
            "_view_module_version": "1.5.0",
            "_view_name": "HBoxView",
            "box_style": "",
            "children": [
              "IPY_MODEL_91cbe26886ee4d92b82e8f0e5795cb12",
              "IPY_MODEL_19e864ce76bc471abf2ff108e56164fe",
              "IPY_MODEL_d658554f09d34171af63bf1684dab663"
            ],
            "layout": "IPY_MODEL_809dab3240724fcf96ca92912b74a35a"
          }
        },
        "91cbe26886ee4d92b82e8f0e5795cb12": {
          "model_module": "@jupyter-widgets/controls",
          "model_name": "HTMLModel",
          "model_module_version": "1.5.0",
          "state": {
            "_dom_classes": [],
            "_model_module": "@jupyter-widgets/controls",
            "_model_module_version": "1.5.0",
            "_model_name": "HTMLModel",
            "_view_count": null,
            "_view_module": "@jupyter-widgets/controls",
            "_view_module_version": "1.5.0",
            "_view_name": "HTMLView",
            "description": "",
            "description_tooltip": null,
            "layout": "IPY_MODEL_f2340d8f771c45f39c02f1b7ef0ee5cc",
            "placeholder": "​",
            "style": "IPY_MODEL_6553694ace0a4edf90fcefbf287ae94a",
            "value": "100%"
          }
        },
        "19e864ce76bc471abf2ff108e56164fe": {
          "model_module": "@jupyter-widgets/controls",
          "model_name": "FloatProgressModel",
          "model_module_version": "1.5.0",
          "state": {
            "_dom_classes": [],
            "_model_module": "@jupyter-widgets/controls",
            "_model_module_version": "1.5.0",
            "_model_name": "FloatProgressModel",
            "_view_count": null,
            "_view_module": "@jupyter-widgets/controls",
            "_view_module_version": "1.5.0",
            "_view_name": "ProgressView",
            "bar_style": "success",
            "description": "",
            "description_tooltip": null,
            "layout": "IPY_MODEL_6ed157fb9b824d1f9c4fe0b20d881d96",
            "max": 4542,
            "min": 0,
            "orientation": "horizontal",
            "style": "IPY_MODEL_ffa68d2961e246c4afbe2c75ac8e76d3",
            "value": 4542
          }
        },
        "d658554f09d34171af63bf1684dab663": {
          "model_module": "@jupyter-widgets/controls",
          "model_name": "HTMLModel",
          "model_module_version": "1.5.0",
          "state": {
            "_dom_classes": [],
            "_model_module": "@jupyter-widgets/controls",
            "_model_module_version": "1.5.0",
            "_model_name": "HTMLModel",
            "_view_count": null,
            "_view_module": "@jupyter-widgets/controls",
            "_view_module_version": "1.5.0",
            "_view_name": "HTMLView",
            "description": "",
            "description_tooltip": null,
            "layout": "IPY_MODEL_2889057fb7774827adbc2bce254da1c9",
            "placeholder": "​",
            "style": "IPY_MODEL_d13e65115af844fcb51d36befc75d566",
            "value": " 4542/4542 [00:00&lt;00:00, 151674.98it/s]"
          }
        },
        "809dab3240724fcf96ca92912b74a35a": {
          "model_module": "@jupyter-widgets/base",
          "model_name": "LayoutModel",
          "model_module_version": "1.2.0",
          "state": {
            "_model_module": "@jupyter-widgets/base",
            "_model_module_version": "1.2.0",
            "_model_name": "LayoutModel",
            "_view_count": null,
            "_view_module": "@jupyter-widgets/base",
            "_view_module_version": "1.2.0",
            "_view_name": "LayoutView",
            "align_content": null,
            "align_items": null,
            "align_self": null,
            "border": null,
            "bottom": null,
            "display": null,
            "flex": null,
            "flex_flow": null,
            "grid_area": null,
            "grid_auto_columns": null,
            "grid_auto_flow": null,
            "grid_auto_rows": null,
            "grid_column": null,
            "grid_gap": null,
            "grid_row": null,
            "grid_template_areas": null,
            "grid_template_columns": null,
            "grid_template_rows": null,
            "height": null,
            "justify_content": null,
            "justify_items": null,
            "left": null,
            "margin": null,
            "max_height": null,
            "max_width": null,
            "min_height": null,
            "min_width": null,
            "object_fit": null,
            "object_position": null,
            "order": null,
            "overflow": null,
            "overflow_x": null,
            "overflow_y": null,
            "padding": null,
            "right": null,
            "top": null,
            "visibility": null,
            "width": null
          }
        },
        "f2340d8f771c45f39c02f1b7ef0ee5cc": {
          "model_module": "@jupyter-widgets/base",
          "model_name": "LayoutModel",
          "model_module_version": "1.2.0",
          "state": {
            "_model_module": "@jupyter-widgets/base",
            "_model_module_version": "1.2.0",
            "_model_name": "LayoutModel",
            "_view_count": null,
            "_view_module": "@jupyter-widgets/base",
            "_view_module_version": "1.2.0",
            "_view_name": "LayoutView",
            "align_content": null,
            "align_items": null,
            "align_self": null,
            "border": null,
            "bottom": null,
            "display": null,
            "flex": null,
            "flex_flow": null,
            "grid_area": null,
            "grid_auto_columns": null,
            "grid_auto_flow": null,
            "grid_auto_rows": null,
            "grid_column": null,
            "grid_gap": null,
            "grid_row": null,
            "grid_template_areas": null,
            "grid_template_columns": null,
            "grid_template_rows": null,
            "height": null,
            "justify_content": null,
            "justify_items": null,
            "left": null,
            "margin": null,
            "max_height": null,
            "max_width": null,
            "min_height": null,
            "min_width": null,
            "object_fit": null,
            "object_position": null,
            "order": null,
            "overflow": null,
            "overflow_x": null,
            "overflow_y": null,
            "padding": null,
            "right": null,
            "top": null,
            "visibility": null,
            "width": null
          }
        },
        "6553694ace0a4edf90fcefbf287ae94a": {
          "model_module": "@jupyter-widgets/controls",
          "model_name": "DescriptionStyleModel",
          "model_module_version": "1.5.0",
          "state": {
            "_model_module": "@jupyter-widgets/controls",
            "_model_module_version": "1.5.0",
            "_model_name": "DescriptionStyleModel",
            "_view_count": null,
            "_view_module": "@jupyter-widgets/base",
            "_view_module_version": "1.2.0",
            "_view_name": "StyleView",
            "description_width": ""
          }
        },
        "6ed157fb9b824d1f9c4fe0b20d881d96": {
          "model_module": "@jupyter-widgets/base",
          "model_name": "LayoutModel",
          "model_module_version": "1.2.0",
          "state": {
            "_model_module": "@jupyter-widgets/base",
            "_model_module_version": "1.2.0",
            "_model_name": "LayoutModel",
            "_view_count": null,
            "_view_module": "@jupyter-widgets/base",
            "_view_module_version": "1.2.0",
            "_view_name": "LayoutView",
            "align_content": null,
            "align_items": null,
            "align_self": null,
            "border": null,
            "bottom": null,
            "display": null,
            "flex": null,
            "flex_flow": null,
            "grid_area": null,
            "grid_auto_columns": null,
            "grid_auto_flow": null,
            "grid_auto_rows": null,
            "grid_column": null,
            "grid_gap": null,
            "grid_row": null,
            "grid_template_areas": null,
            "grid_template_columns": null,
            "grid_template_rows": null,
            "height": null,
            "justify_content": null,
            "justify_items": null,
            "left": null,
            "margin": null,
            "max_height": null,
            "max_width": null,
            "min_height": null,
            "min_width": null,
            "object_fit": null,
            "object_position": null,
            "order": null,
            "overflow": null,
            "overflow_x": null,
            "overflow_y": null,
            "padding": null,
            "right": null,
            "top": null,
            "visibility": null,
            "width": null
          }
        },
        "ffa68d2961e246c4afbe2c75ac8e76d3": {
          "model_module": "@jupyter-widgets/controls",
          "model_name": "ProgressStyleModel",
          "model_module_version": "1.5.0",
          "state": {
            "_model_module": "@jupyter-widgets/controls",
            "_model_module_version": "1.5.0",
            "_model_name": "ProgressStyleModel",
            "_view_count": null,
            "_view_module": "@jupyter-widgets/base",
            "_view_module_version": "1.2.0",
            "_view_name": "StyleView",
            "bar_color": null,
            "description_width": ""
          }
        },
        "2889057fb7774827adbc2bce254da1c9": {
          "model_module": "@jupyter-widgets/base",
          "model_name": "LayoutModel",
          "model_module_version": "1.2.0",
          "state": {
            "_model_module": "@jupyter-widgets/base",
            "_model_module_version": "1.2.0",
            "_model_name": "LayoutModel",
            "_view_count": null,
            "_view_module": "@jupyter-widgets/base",
            "_view_module_version": "1.2.0",
            "_view_name": "LayoutView",
            "align_content": null,
            "align_items": null,
            "align_self": null,
            "border": null,
            "bottom": null,
            "display": null,
            "flex": null,
            "flex_flow": null,
            "grid_area": null,
            "grid_auto_columns": null,
            "grid_auto_flow": null,
            "grid_auto_rows": null,
            "grid_column": null,
            "grid_gap": null,
            "grid_row": null,
            "grid_template_areas": null,
            "grid_template_columns": null,
            "grid_template_rows": null,
            "height": null,
            "justify_content": null,
            "justify_items": null,
            "left": null,
            "margin": null,
            "max_height": null,
            "max_width": null,
            "min_height": null,
            "min_width": null,
            "object_fit": null,
            "object_position": null,
            "order": null,
            "overflow": null,
            "overflow_x": null,
            "overflow_y": null,
            "padding": null,
            "right": null,
            "top": null,
            "visibility": null,
            "width": null
          }
        },
        "d13e65115af844fcb51d36befc75d566": {
          "model_module": "@jupyter-widgets/controls",
          "model_name": "DescriptionStyleModel",
          "model_module_version": "1.5.0",
          "state": {
            "_model_module": "@jupyter-widgets/controls",
            "_model_module_version": "1.5.0",
            "_model_name": "DescriptionStyleModel",
            "_view_count": null,
            "_view_module": "@jupyter-widgets/base",
            "_view_module_version": "1.2.0",
            "_view_name": "StyleView",
            "description_width": ""
          }
        }
      }
    },
    "gpuClass": "standard",
    "accelerator": "GPU"
  },
  "cells": [
    {
      "cell_type": "markdown",
      "source": [
        "## Reference\n",
        "https://openaccess.thecvf.com/content/WACV2021/papers/Miller_Class_Anchor_Clustering_A_Loss_for_Distance-Based_Open_Set_Recognition_WACV_2021_paper.pdf"
      ],
      "metadata": {
        "id": "v8x32-pN15fh"
      }
    },
    {
      "cell_type": "markdown",
      "source": [
        "# 1. Data & Preprocessing"
      ],
      "metadata": {
        "id": "CW8UTL7-Nmu1"
      }
    },
    {
      "cell_type": "code",
      "source": [
        "import os\n",
        "\n",
        "import numpy as np \n",
        "import torch\n",
        "import torch.nn as nn\n",
        "import torch.nn.functional as F\n",
        "import torch.utils.data\n",
        "from torch.utils.data import Dataset\n",
        "\n",
        "import torchvision\n",
        "from torchvision import datasets, transforms\n",
        "\n",
        "import matplotlib.pyplot as plt\n",
        "\n",
        "import argparse\n",
        "\n",
        "from sklearn.metrics import confusion_matrix\n",
        "\n",
        "from sklearn.cluster import DBSCAN\n",
        "\n",
        "device = torch.device(\"cuda:0\" if torch.cuda.is_available() else \"cpu\")\n",
        "\n",
        "# Random seed (for reproducibility)\n",
        "SEED = 8\n",
        "np.random.seed(SEED)\n",
        "torch.manual_seed(SEED)\n",
        "torch.cuda.manual_seed(SEED)"
      ],
      "metadata": {
        "id": "QY4UYPyGEYNX"
      },
      "execution_count": 1,
      "outputs": []
    },
    {
      "cell_type": "code",
      "source": [
        "def imshow(inp, title=None):\n",
        "    \"\"\"Imshow for Tensor.\"\"\"\n",
        "    inp = inp.numpy().transpose((1, 2, 0))\n",
        "    mean = np.array([0.485, 0.456, 0.406])\n",
        "    std = np.array([0.229, 0.224, 0.225])\n",
        "    inp = std * inp + mean\n",
        "    inp = np.clip(inp, 0, 1)\n",
        "    plt.imshow(inp)\n",
        "    if title is not None:\n",
        "        plt.title(title)\n",
        "    plt.pause(0.001)  # pause a bit so that plots are updated"
      ],
      "metadata": {
        "id": "iB9RBMpo0O-f"
      },
      "execution_count": 2,
      "outputs": []
    },
    {
      "cell_type": "markdown",
      "source": [
        "## Datasets, dataloaders and transformations"
      ],
      "metadata": {
        "id": "aJemwRQ8OEGR"
      }
    },
    {
      "cell_type": "code",
      "source": [
        "BATCH_SIZE = 128"
      ],
      "metadata": {
        "id": "3J0tIHlo-0nn"
      },
      "execution_count": 3,
      "outputs": []
    },
    {
      "cell_type": "code",
      "source": [
        "class data_set(Dataset):\n",
        "  \"\"\"for Combined dataset.\"\"\"\n",
        "  def __init__(self, dataset, targets):\n",
        "    self.dataset = dataset\n",
        "    self.targets = targets\n",
        "      \n",
        "  def __getitem__(self, idx):\n",
        "    image = self.dataset[idx][0]\n",
        "    target = self.targets[idx]\n",
        "    return (image, target)\n",
        "\n",
        "  def __len__(self):\n",
        "    return len(self.dataset)"
      ],
      "metadata": {
        "id": "VulBX7FjPyIe"
      },
      "execution_count": 4,
      "outputs": []
    },
    {
      "cell_type": "markdown",
      "source": [
        "MNIST - for training"
      ],
      "metadata": {
        "id": "198FIAjMY_bQ"
      }
    },
    {
      "cell_type": "code",
      "execution_count": 5,
      "metadata": {
        "id": "KJSzq6bhNNiI",
        "colab": {
          "base_uri": "https://localhost:8080/",
          "height": 423,
          "referenced_widgets": [
            "f2498befdac6495c9cbdb55e076660e3",
            "04039c6164a24a3cb5d4848754f815e9",
            "7439fba3e779405bae0dfb7a80c86d8d",
            "20d620b0bba848528247cd6d036da72e",
            "cfa9b82b74be4c1e8ae54097852b2b33",
            "ecbb807450cb4eb48bedbc85e9d886ec",
            "cd1a7308d7f34145a7625fb6891a0132",
            "fbe8af362b3840b5adeca2945e26e22a",
            "1930603660b5442eadb6ea2f0b7feff4",
            "1245a26690e74bd38d7b7cb3ae50fac7",
            "3df943806fd04ac18cfe21ae40549b24",
            "0b9ce91a937449658879c1017cccd594",
            "ef94ca1c2a4e45d2b5ccf7592ae8ac1e",
            "65b428562ad5489f8795e42ba044fa88",
            "62787c1889ac428e928c7df424b8f7a8",
            "e90b8df32a8141649f1dfb5f9e1dde46",
            "7f2f4fdbdadf4d0d9212a80aebb77347",
            "2a171e050754412c82b05d12eb76a72a",
            "479dc44983094a76b4c092403e84538d",
            "7438e05652344d579d36e4e1b5744803",
            "6cecf43a2c4a4649afe592c026d3348e",
            "7568553e1da14c419aeba8e8f16c7f95",
            "12f42ea9cc9c4c7fa8724d8e12181030",
            "521f812b4d534b0b96d976b83ed5026d",
            "d03fdffe3bff48df881f81941c8749fb",
            "1352fb6f9184432c86ad02a2c6d1f56e",
            "54ebc3b8f1e5416ca051da01e1218c8b",
            "bb5d30033f2e4a22ae38ca5ba0d01cce",
            "bc2dc594629c412dbe9156ad8994870f",
            "0388e8948df74e63937ee28c3399c2ea",
            "982a9e49f2a14e83b819a4244c9e1b6f",
            "df4385f398324b00908e57acd8686424",
            "96f16275d579403ab27053c935ff934e",
            "ab9d6a1f17b944a695bf18c47bdca465",
            "91cbe26886ee4d92b82e8f0e5795cb12",
            "19e864ce76bc471abf2ff108e56164fe",
            "d658554f09d34171af63bf1684dab663",
            "809dab3240724fcf96ca92912b74a35a",
            "f2340d8f771c45f39c02f1b7ef0ee5cc",
            "6553694ace0a4edf90fcefbf287ae94a",
            "6ed157fb9b824d1f9c4fe0b20d881d96",
            "ffa68d2961e246c4afbe2c75ac8e76d3",
            "2889057fb7774827adbc2bce254da1c9",
            "d13e65115af844fcb51d36befc75d566"
          ]
        },
        "outputId": "84f251da-f8b1-48ad-d114-aef536181241"
      },
      "outputs": [
        {
          "output_type": "stream",
          "name": "stdout",
          "text": [
            "Downloading http://yann.lecun.com/exdb/mnist/train-images-idx3-ubyte.gz\n",
            "Downloading http://yann.lecun.com/exdb/mnist/train-images-idx3-ubyte.gz to ./data/MNIST/raw/train-images-idx3-ubyte.gz\n"
          ]
        },
        {
          "output_type": "display_data",
          "data": {
            "text/plain": [
              "  0%|          | 0/9912422 [00:00<?, ?it/s]"
            ],
            "application/vnd.jupyter.widget-view+json": {
              "version_major": 2,
              "version_minor": 0,
              "model_id": "f2498befdac6495c9cbdb55e076660e3"
            }
          },
          "metadata": {}
        },
        {
          "output_type": "stream",
          "name": "stdout",
          "text": [
            "Extracting ./data/MNIST/raw/train-images-idx3-ubyte.gz to ./data/MNIST/raw\n",
            "\n",
            "Downloading http://yann.lecun.com/exdb/mnist/train-labels-idx1-ubyte.gz\n",
            "Downloading http://yann.lecun.com/exdb/mnist/train-labels-idx1-ubyte.gz to ./data/MNIST/raw/train-labels-idx1-ubyte.gz\n"
          ]
        },
        {
          "output_type": "display_data",
          "data": {
            "text/plain": [
              "  0%|          | 0/28881 [00:00<?, ?it/s]"
            ],
            "application/vnd.jupyter.widget-view+json": {
              "version_major": 2,
              "version_minor": 0,
              "model_id": "0b9ce91a937449658879c1017cccd594"
            }
          },
          "metadata": {}
        },
        {
          "output_type": "stream",
          "name": "stdout",
          "text": [
            "Extracting ./data/MNIST/raw/train-labels-idx1-ubyte.gz to ./data/MNIST/raw\n",
            "\n",
            "Downloading http://yann.lecun.com/exdb/mnist/t10k-images-idx3-ubyte.gz\n",
            "Downloading http://yann.lecun.com/exdb/mnist/t10k-images-idx3-ubyte.gz to ./data/MNIST/raw/t10k-images-idx3-ubyte.gz\n"
          ]
        },
        {
          "output_type": "display_data",
          "data": {
            "text/plain": [
              "  0%|          | 0/1648877 [00:00<?, ?it/s]"
            ],
            "application/vnd.jupyter.widget-view+json": {
              "version_major": 2,
              "version_minor": 0,
              "model_id": "12f42ea9cc9c4c7fa8724d8e12181030"
            }
          },
          "metadata": {}
        },
        {
          "output_type": "stream",
          "name": "stdout",
          "text": [
            "Extracting ./data/MNIST/raw/t10k-images-idx3-ubyte.gz to ./data/MNIST/raw\n",
            "\n",
            "Downloading http://yann.lecun.com/exdb/mnist/t10k-labels-idx1-ubyte.gz\n",
            "Downloading http://yann.lecun.com/exdb/mnist/t10k-labels-idx1-ubyte.gz to ./data/MNIST/raw/t10k-labels-idx1-ubyte.gz\n"
          ]
        },
        {
          "output_type": "display_data",
          "data": {
            "text/plain": [
              "  0%|          | 0/4542 [00:00<?, ?it/s]"
            ],
            "application/vnd.jupyter.widget-view+json": {
              "version_major": 2,
              "version_minor": 0,
              "model_id": "ab9d6a1f17b944a695bf18c47bdca465"
            }
          },
          "metadata": {}
        },
        {
          "output_type": "stream",
          "name": "stdout",
          "text": [
            "Extracting ./data/MNIST/raw/t10k-labels-idx1-ubyte.gz to ./data/MNIST/raw\n",
            "\n"
          ]
        }
      ],
      "source": [
        "mnist_transform = transforms.Compose([transforms.ToTensor(),\n",
        "                              transforms.Normalize(\n",
        "                                  (0.1307,),\n",
        "                                  (0.3081,)), # mnist mean & std\n",
        "                              transforms.Resize(28)])\n",
        "\n",
        "mnist_train_set = torchvision.datasets.MNIST(root='./data',\n",
        "                                                 train=True,\n",
        "                                                 download=True,\n",
        "                                                 transform=mnist_transform)\n",
        "\n",
        "mnist_test_set = torchvision.datasets.MNIST(root='./data',\n",
        "                                            train=False,\n",
        "                                            download=True,\n",
        "                                            transform=mnist_transform)\n",
        "\n",
        "mnist_train_loader = torch.utils.data.DataLoader(mnist_train_set,\n",
        "                                                 batch_size=BATCH_SIZE,\n",
        "                                                 shuffle=True,\n",
        "                                                 num_workers=2)\n",
        "\n",
        "mnist_test_loader = torch.utils.data.DataLoader(mnist_test_set,\n",
        "                                                batch_size=BATCH_SIZE,\n",
        "                                                shuffle=False,\n",
        "                                                num_workers=2)"
      ]
    },
    {
      "cell_type": "code",
      "source": [
        "# Printing 5 MNIST data examples\n",
        "inputs, classes = next(iter(mnist_test_loader))\n",
        "out = torchvision.utils.make_grid(inputs[:5])\n",
        "imshow(out, title=[x for x in classes[:5]])"
      ],
      "metadata": {
        "colab": {
          "base_uri": "https://localhost:8080/",
          "height": 134
        },
        "id": "4CA8HEHf0l1r",
        "outputId": "7e210f19-f541-4453-c38a-16722447977f"
      },
      "execution_count": 6,
      "outputs": [
        {
          "output_type": "display_data",
          "data": {
            "text/plain": [
              "<Figure size 432x288 with 1 Axes>"
            ],
            "image/png": "[encoded data removed]"
          },
          "metadata": {
            "needs_background": "light"
          }
        }
      ]
    },
    {
      "cell_type": "markdown",
      "source": [
        "CIFAR10 as OOD dataset - for evaluation"
      ],
      "metadata": {
        "id": "1PJui2PtOG7H"
      }
    },
    {
      "cell_type": "code",
      "source": [
        "CIFAR10_SUBSET_SIZE = 1000\n",
        "\n",
        "cifar10_transform = transforms.Compose([transforms.ToTensor(),\n",
        "                              transforms.Normalize(\n",
        "                                  (0.4914, 0.4822, 0.4465),\n",
        "                                  (0.247, 0.243, 0.261)), # cifar10 mean & std\n",
        "                              transforms.Resize(28),\n",
        "                              transforms.Grayscale(num_output_channels=1)])\n",
        "\n",
        "cifar10_test_set = torchvision.datasets.CIFAR10(root='./data',\n",
        "                                              train=False,\n",
        "                                              download=True,\n",
        "                                              transform=cifar10_transform)\n",
        "\n",
        "cifar10_test_subset_data = torch.utils.data.Subset(cifar10_test_set,\n",
        "                                                   np.random.choice(range(len(cifar10_test_set)),\n",
        "                                                                    size=CIFAR10_SUBSET_SIZE))\n",
        "sub_cifar10_targets = [10 for i in range(CIFAR10_SUBSET_SIZE)]\n",
        "cifar10_test_subset = data_set(cifar10_test_subset_data, sub_cifar10_targets)\n",
        "\n",
        "cifar10_test_loader = torch.utils.data.DataLoader(cifar10_test_subset,\n",
        "                                                batch_size=BATCH_SIZE,\n",
        "                                                shuffle=False,\n",
        "                                                num_workers=2)"
      ],
      "metadata": {
        "id": "nDpWEUwET3a-",
        "colab": {
          "base_uri": "https://localhost:8080/"
        },
        "outputId": "10dc20f5-6294-4e1f-b7be-46f2f0386bf3"
      },
      "execution_count": 60,
      "outputs": [
        {
          "output_type": "stream",
          "name": "stdout",
          "text": [
            "Files already downloaded and verified\n"
          ]
        }
      ]
    },
    {
      "cell_type": "code",
      "source": [
        "# Printing 5 CIFAR10 data examples\n",
        "inputs, classes = next(iter(cifar10_test_loader))\n",
        "out = torchvision.utils.make_grid(inputs[:5])\n",
        "imshow(out, title=[x for x in classes[:5]])"
      ],
      "metadata": {
        "colab": {
          "base_uri": "https://localhost:8080/",
          "height": 134
        },
        "id": "B2Jpl2lc1c3F",
        "outputId": "9bb9922f-5352-4506-c934-221ba8a5d884"
      },
      "execution_count": 8,
      "outputs": [
        {
          "output_type": "display_data",
          "data": {
            "text/plain": [
              "<Figure size 432x288 with 1 Axes>"
            ],
            "image/png": "[encoded data removed]"
          },
          "metadata": {
            "needs_background": "light"
          }
        }
      ]
    },
    {
      "cell_type": "code",
      "source": [
        "combined_test_loader = torch.utils.data.DataLoader(\n",
        "    torch.utils.data.ConcatDataset([mnist_test_set, cifar10_test_subset]),\n",
        "        batch_size=BATCH_SIZE, shuffle=True)"
      ],
      "metadata": {
        "id": "qBqvcjz12HrU"
      },
      "execution_count": 64,
      "outputs": []
    },
    {
      "cell_type": "code",
      "source": [
        "# Printing 5 COMBINED data examples\n",
        "inputs, classes = next(iter(combined_test_loader))\n",
        "out = torchvision.utils.make_grid(inputs[:5])\n",
        "imshow(out, title=[x for x in classes[:5]])"
      ],
      "metadata": {
        "colab": {
          "base_uri": "https://localhost:8080/",
          "height": 134
        },
        "id": "P_DfilVe1ssM",
        "outputId": "7648d050-9d65-4c21-8298-c62b511a8247"
      },
      "execution_count": 10,
      "outputs": [
        {
          "output_type": "display_data",
          "data": {
            "text/plain": [
              "<Figure size 432x288 with 1 Axes>"
            ],
            "image/png": "[encoded data removed]"
          },
          "metadata": {
            "needs_background": "light"
          }
        }
      ]
    },
    {
      "cell_type": "markdown",
      "source": [
        "\n",
        "# 2. Models"
      ],
      "metadata": {
        "id": "QeGkjNbvWmOd"
      }
    },
    {
      "cell_type": "code",
      "source": [
        "def out_size(W, F, S, P):\n",
        "  return ((W-F+2*P) // S) + 1"
      ],
      "metadata": {
        "id": "2QirT6gEHQF2"
      },
      "execution_count": 11,
      "outputs": []
    },
    {
      "cell_type": "markdown",
      "source": [
        "Baseline model class"
      ],
      "metadata": {
        "id": "TY5Tl05oW2nv"
      }
    },
    {
      "cell_type": "code",
      "source": [
        "class CNN(nn.Module):\n",
        "  def __init__(self):\n",
        "    super(CNN, self).__init__()\n",
        "    self.conv1 = nn.Conv2d(1, 32, kernel_size=5)\n",
        "    self.conv2 = nn.Conv2d(32, 32, kernel_size=5)\n",
        "    self.conv3 = nn.Conv2d(32,64, kernel_size=5)\n",
        "    self.fc1 = nn.Linear(3*3*64, 256)\n",
        "    self.fc2 = nn.Linear(256, 10)\n",
        "\n",
        "  def forward(self, x):\n",
        "    x = F.relu(self.conv1(x))\n",
        "    x = F.dropout(x, p=0.5, training=self.training)\n",
        "\n",
        "    x = F.relu(F.avg_pool2d(self.conv2(x), 2))\n",
        "    x = F.dropout(x, p=0.5, training=self.training)\n",
        "\n",
        "    x = F.relu(F.avg_pool2d(self.conv3(x),2))\n",
        "    x = F.dropout(x, p=0.5, training=self.training)\n",
        "\n",
        "    x = x.view(-1, 3*3*64)\n",
        "    x = F.relu(self.fc1(x))\n",
        "    x = F.dropout(x, training=self.training)\n",
        "\n",
        "    x = self.fc2(x)\n",
        "    return x"
      ],
      "metadata": {
        "id": "OpNl-OWY9aQI"
      },
      "execution_count": 12,
      "outputs": []
    },
    {
      "cell_type": "markdown",
      "source": [
        "OSR model class"
      ],
      "metadata": {
        "id": "LGvYZ5GfW5SO"
      }
    },
    {
      "cell_type": "code",
      "source": [
        "class OSR(nn.Module):\n",
        "  def __init__(self, cnn, init_weights = False, dropout = 0.3, **kwargs):\n",
        "    super(OSR, self).__init__()\n",
        "\n",
        "    self.num_classes = 10\n",
        "    self.cnn = cnn\n",
        "    self.classify = nn.Linear(10, self.num_classes)\n",
        "    self.anchors = nn.Parameter(torch.zeros(self.num_classes, self.num_classes).double(), requires_grad = False)\n",
        "\n",
        "  def forward(self, x):\n",
        "    batch_size = len(x)\n",
        "    x = self.cnn(x)\n",
        "    outLinear = x.view(batch_size, -1)\n",
        "    outLinear = self.classify(x)\n",
        "    outDistance = self.distance_classifier(outLinear)\n",
        "\n",
        "    return outDistance\n",
        "\n",
        "  def distance_classifier(self, outLinear):\n",
        "    ''' Calculates euclidean distance from outLinear to each class anchor\n",
        "      Returns n x m array of distance from input of batch_size n to anchors of size m\n",
        "    '''\n",
        "    n = outLinear.size(0)\n",
        "    m = self.num_classes\n",
        "    d = self.num_classes\n",
        "\n",
        "    outLinear = outLinear.unsqueeze(1).expand(n, m, d).double()\n",
        "    anchors = self.anchors.unsqueeze(0).expand(n, m, d)\n",
        "    dists = torch.norm(outLinear-anchors, 2, 2)\n",
        "\n",
        "    return dists\n",
        "\n",
        "  def set_anchors(self, means):\n",
        "    self.anchors = nn.Parameter(means.double(), requires_grad = False)\n",
        "    self.cuda()"
      ],
      "metadata": {
        "id": "txCJK_5jNs7l"
      },
      "execution_count": 13,
      "outputs": []
    },
    {
      "cell_type": "markdown",
      "source": [
        "# 3. Training"
      ],
      "metadata": {
        "id": "hLJfhW3jN88t"
      }
    },
    {
      "cell_type": "code",
      "source": [
        "def train_cnn(model, train_loader):\n",
        "  optimizer = torch.optim.Adam(model.parameters())#,lr=0.001, betas=(0.9,0.999))\n",
        "  criterion = nn.CrossEntropyLoss()\n",
        "  EPOCHS = 5 # return to 5 at the end\n",
        "  model.train()\n",
        "  \n",
        "  for epoch in range(EPOCHS):\n",
        "    print('--------------------- Epoch : {} -------------------'.format(epoch))\n",
        "    correct = 0\n",
        "    loss = 0\n",
        "    for batch_idx, (inputs, targets) in enumerate(train_loader):\n",
        "      inputs = inputs.to(device)\n",
        "      targets = targets.to(device)\n",
        "      optimizer.zero_grad()\n",
        "      outputs = model(inputs)\n",
        "      loss = criterion(outputs, targets)\n",
        "      loss.backward()\n",
        "      optimizer.step()\n",
        "\n",
        "      # Total correct predictions\n",
        "      predicted = torch.max(outputs.data, 1)[1] \n",
        "      correct += (predicted == targets).sum()\n",
        "      #print(correct)\n",
        "      if batch_idx % 100 == 0:\n",
        "        print('[{}/{} ({:.0f}%)]\\tLoss: {:.6f}\\t Accuracy:{:.3f}%'.format(\n",
        "              batch_idx*len(inputs),\n",
        "              len(train_loader.dataset),\n",
        "              100.*batch_idx / len(train_loader),\n",
        "              loss.data,\n",
        "              float(correct*100) / float(BATCH_SIZE*(batch_idx+1))))"
      ],
      "metadata": {
        "id": "L61jUSqMOcaR"
      },
      "execution_count": 14,
      "outputs": []
    },
    {
      "cell_type": "code",
      "source": [
        "def CACLoss(distances, gt):\n",
        "\t'''Returns CAC loss, as well as the Anchor and Tuplet loss components separately for visualisation.'''\n",
        "\ttrue = torch.gather(distances, 1, gt.view(-1, 1)).view(-1)\n",
        "\tnon_gt = torch.Tensor([[i for i in range(10) if gt[x] != i] for x in range(len(distances))]).long().to(device)\n",
        "\tothers = torch.gather(distances, 1, non_gt)\n",
        "\t\n",
        "\tanchor = torch.mean(true)\n",
        "\n",
        "\ttuplet = torch.exp(-others+true.unsqueeze(1))\n",
        "\ttuplet = torch.mean(torch.log(1+torch.sum(tuplet, dim = 1)))\n",
        "\n",
        "\ttotal = 0.1*anchor + tuplet\n",
        "\n",
        "\treturn total, anchor, tuplet"
      ],
      "metadata": {
        "id": "ojrBgsWLdhIe"
      },
      "execution_count": 15,
      "outputs": []
    },
    {
      "cell_type": "code",
      "source": [
        "def train_osr(model, train_loader):\n",
        "  optimizer = torch.optim.Adam(model.parameters())#,lr=0.001, betas=(0.9,0.999))\n",
        "  criterion = nn.CrossEntropyLoss()\n",
        "  EPOCHS = 5 # return to 5 at the end\n",
        "  model.train()\n",
        "\n",
        "  for epoch in range(EPOCHS):\n",
        "    print('--------------------- Epoch : {} -------------------'.format(epoch))\n",
        "    loss = 0\n",
        "    correct = 0\n",
        "    total = 0\n",
        "    for batch_idx, (inputs, targets) in enumerate(train_loader):\n",
        "      inputs, targets = inputs.to(device), targets.to(device)\n",
        "\n",
        "      optimizer.zero_grad()\n",
        "\n",
        "      outputs = model(inputs)\n",
        "      cacLoss, anchorLoss, tupletLoss = CACLoss(outputs, targets)\n",
        "\n",
        "      cacLoss.backward()\n",
        "\n",
        "      optimizer.step()\n",
        "\n",
        "      loss = cacLoss.item()\n",
        "      _, predicted = outputs.min(1)\n",
        "      correct += predicted.eq(targets).sum().item()\n",
        "      #print(correct)\n",
        "      if batch_idx % 100 == 0:\n",
        "        print('[{}/{} ({:.0f}%)]\\tLoss: {:.6f}\\t Accuracy:{:.3f}%'.format(\n",
        "              batch_idx*len(inputs),\n",
        "              len(train_loader.dataset),\n",
        "              100.*batch_idx / len(train_loader),\n",
        "              loss,\n",
        "              float(correct*100) / float(BATCH_SIZE*(batch_idx+1))))"
      ],
      "metadata": {
        "id": "Aul9msRrcYF-"
      },
      "execution_count": 28,
      "outputs": []
    },
    {
      "cell_type": "markdown",
      "source": [
        "\n",
        "Training procedure for baseline model"
      ],
      "metadata": {
        "id": "VJgmRkd2OPuJ"
      }
    },
    {
      "cell_type": "code",
      "source": [
        "cnn = CNN()\n",
        "if torch.cuda.is_available():\n",
        "    cnn.cuda()\n",
        "train_cnn(cnn, mnist_train_loader)"
      ],
      "metadata": {
        "colab": {
          "base_uri": "https://localhost:8080/"
        },
        "id": "rjbbcRYTCbxg",
        "outputId": "6c6a6289-e890-4bf0-fcb5-5c112cae1929"
      },
      "execution_count": 17,
      "outputs": [
        {
          "output_type": "stream",
          "name": "stdout",
          "text": [
            "--------------------- Epoch : 0 -------------------\n",
            "[0/60000 (0%)]\tLoss: 2.297710\t Accuracy:7.812%\n",
            "[12800/60000 (21%)]\tLoss: 0.499258\t Accuracy:71.697%\n",
            "[25600/60000 (43%)]\tLoss: 0.185691\t Accuracy:81.367%\n",
            "[38400/60000 (64%)]\tLoss: 0.164285\t Accuracy:85.613%\n",
            "[51200/60000 (85%)]\tLoss: 0.176800\t Accuracy:87.899%\n",
            "--------------------- Epoch : 1 -------------------\n",
            "[0/60000 (0%)]\tLoss: 0.123242\t Accuracy:95.312%\n",
            "[12800/60000 (21%)]\tLoss: 0.123671\t Accuracy:95.753%\n",
            "[25600/60000 (43%)]\tLoss: 0.214432\t Accuracy:95.864%\n",
            "[38400/60000 (64%)]\tLoss: 0.140310\t Accuracy:95.941%\n",
            "[51200/60000 (85%)]\tLoss: 0.072384\t Accuracy:96.131%\n",
            "--------------------- Epoch : 2 -------------------\n",
            "[0/60000 (0%)]\tLoss: 0.299632\t Accuracy:92.969%\n",
            "[12800/60000 (21%)]\tLoss: 0.077048\t Accuracy:97.014%\n",
            "[25600/60000 (43%)]\tLoss: 0.099869\t Accuracy:96.875%\n",
            "[38400/60000 (64%)]\tLoss: 0.063720\t Accuracy:96.940%\n",
            "[51200/60000 (85%)]\tLoss: 0.081687\t Accuracy:96.965%\n",
            "--------------------- Epoch : 3 -------------------\n",
            "[0/60000 (0%)]\tLoss: 0.150074\t Accuracy:96.094%\n",
            "[12800/60000 (21%)]\tLoss: 0.137539\t Accuracy:97.517%\n",
            "[25600/60000 (43%)]\tLoss: 0.070592\t Accuracy:97.516%\n",
            "[38400/60000 (64%)]\tLoss: 0.122813\t Accuracy:97.443%\n",
            "[51200/60000 (85%)]\tLoss: 0.197086\t Accuracy:97.407%\n",
            "--------------------- Epoch : 4 -------------------\n",
            "[0/60000 (0%)]\tLoss: 0.048493\t Accuracy:97.656%\n",
            "[12800/60000 (21%)]\tLoss: 0.113413\t Accuracy:97.765%\n",
            "[25600/60000 (43%)]\tLoss: 0.080997\t Accuracy:97.660%\n",
            "[38400/60000 (64%)]\tLoss: 0.045152\t Accuracy:97.571%\n",
            "[51200/60000 (85%)]\tLoss: 0.034434\t Accuracy:97.528%\n"
          ]
        }
      ]
    },
    {
      "cell_type": "markdown",
      "source": [
        "Training procedure for OSR model"
      ],
      "metadata": {
        "id": "mPIc_SoteNRx"
      }
    },
    {
      "cell_type": "code",
      "source": [
        "def gather_outputs(model, data_loader):\n",
        "    ''' Tests data and returns outputs and their ground truth labels.\n",
        "        data_idx        0 returns logits, 1 returns distances to anchors\n",
        "        use_softmax     True to apply softmax\n",
        "        unknown         True if an unknown dataset\n",
        "        only_correct    True to filter for correct classifications as per logits\n",
        "    '''\n",
        "    X = []\n",
        "    y = []\n",
        "\n",
        "    softmax = torch.nn.Softmax(dim = 1)\n",
        "\n",
        "    for i, data in enumerate(data_loader):\n",
        "        images, labels = data\n",
        "        images = images.cuda()\n",
        "        targets = labels\n",
        "        \n",
        "        outputs = model(images)\n",
        "        distances = outputs\n",
        "\n",
        "        softmin = softmax(-distances)\n",
        "        invScores = 1-softmin\n",
        "        scores = distances*invScores\n",
        "\n",
        "        X += scores.cpu().detach().tolist()\n",
        "        y += targets.cpu().tolist()\n",
        "\n",
        "    X = np.asarray(X)\n",
        "    y = np.asarray(y)\n",
        "\n",
        "    return X, y"
      ],
      "metadata": {
        "id": "myzXDS36oHP1"
      },
      "execution_count": 18,
      "outputs": []
    },
    {
      "cell_type": "code",
      "source": [
        "def find_anchor_means(model):\n",
        "  ''' Tests data and fits a multivariate gaussian to each class' logits. \n",
        "      If dataloaderFlip is not None, also test with flipped images. \n",
        "      Returns means and covariances for each class. '''\n",
        "  logits, labels = gather_outputs(model, mnist_train_loader)\n",
        "\n",
        "  num_classes = 10\n",
        "  means = [None for i in range(num_classes)]\n",
        "\n",
        "  for cl in range(num_classes):\n",
        "      x = logits[labels == cl]\n",
        "      x = np.squeeze(x)\n",
        "      means[cl] = np.mean(x, axis = 0)\n",
        "\n",
        "  return means"
      ],
      "metadata": {
        "id": "eXj4fXXKnLvx"
      },
      "execution_count": 19,
      "outputs": []
    },
    {
      "cell_type": "code",
      "source": [
        "osr = OSR(cnn)\n",
        "if torch.cuda.is_available():\n",
        "  osr.cuda()\n",
        "\n",
        "anchors = torch.diag(torch.Tensor([10 for i in range(10)]))\t\n",
        "osr.set_anchors(anchors)\n",
        "\n",
        "train_osr(osr, mnist_train_loader)"
      ],
      "metadata": {
        "id": "fxYfG3npeB3B",
        "colab": {
          "base_uri": "https://localhost:8080/"
        },
        "outputId": "30ed4738-2a46-49ed-823f-b328308a67e9"
      },
      "execution_count": 32,
      "outputs": [
        {
          "output_type": "stream",
          "name": "stdout",
          "text": [
            "--------------------- Epoch : 0 -------------------\n",
            "[0/60000 (0%)]\tLoss: 7.302916\t Accuracy:8.594%\n",
            "[12800/60000 (21%)]\tLoss: 1.426503\t Accuracy:40.408%\n",
            "[25600/60000 (43%)]\tLoss: 0.815156\t Accuracy:65.229%\n",
            "[38400/60000 (64%)]\tLoss: 0.704421\t Accuracy:75.073%\n",
            "[51200/60000 (85%)]\tLoss: 0.583037\t Accuracy:80.295%\n",
            "--------------------- Epoch : 1 -------------------\n",
            "[0/60000 (0%)]\tLoss: 0.552177\t Accuracy:96.875%\n",
            "[12800/60000 (21%)]\tLoss: 0.513462\t Accuracy:97.355%\n",
            "[25600/60000 (43%)]\tLoss: 0.516014\t Accuracy:97.264%\n",
            "[38400/60000 (64%)]\tLoss: 0.578195\t Accuracy:97.373%\n",
            "[51200/60000 (85%)]\tLoss: 0.487476\t Accuracy:97.407%\n",
            "--------------------- Epoch : 2 -------------------\n",
            "[0/60000 (0%)]\tLoss: 0.453794\t Accuracy:96.875%\n",
            "[12800/60000 (21%)]\tLoss: 0.410983\t Accuracy:97.935%\n",
            "[25600/60000 (43%)]\tLoss: 0.356031\t Accuracy:97.851%\n",
            "[38400/60000 (64%)]\tLoss: 0.498158\t Accuracy:97.846%\n",
            "[51200/60000 (85%)]\tLoss: 0.450774\t Accuracy:97.960%\n",
            "--------------------- Epoch : 3 -------------------\n",
            "[0/60000 (0%)]\tLoss: 0.380633\t Accuracy:99.219%\n",
            "[12800/60000 (21%)]\tLoss: 0.522695\t Accuracy:98.213%\n",
            "[25600/60000 (43%)]\tLoss: 0.447527\t Accuracy:98.220%\n",
            "[38400/60000 (64%)]\tLoss: 0.313400\t Accuracy:98.186%\n",
            "[51200/60000 (85%)]\tLoss: 0.447906\t Accuracy:98.151%\n",
            "--------------------- Epoch : 4 -------------------\n",
            "[0/60000 (0%)]\tLoss: 0.328308\t Accuracy:99.219%\n",
            "[12800/60000 (21%)]\tLoss: 0.390941\t Accuracy:98.352%\n",
            "[25600/60000 (43%)]\tLoss: 0.449477\t Accuracy:98.266%\n",
            "[38400/60000 (64%)]\tLoss: 0.308850\t Accuracy:98.308%\n",
            "[51200/60000 (85%)]\tLoss: 0.284932\t Accuracy:98.289%\n"
          ]
        }
      ]
    },
    {
      "cell_type": "markdown",
      "source": [
        "# 4. Evaluation"
      ],
      "metadata": {
        "id": "9cE7M0iDOasl"
      }
    },
    {
      "cell_type": "code",
      "source": [
        "def evaluate_cnn(model, labels, test_loader):\n",
        "  y_true = []\n",
        "  y_pred = []\n",
        "  correct = 0\n",
        "  with torch.no_grad():\n",
        "    for inputs, targets in test_loader:\n",
        "      inputs = inputs.to(device)\n",
        "      targets = targets.to(device)\n",
        "\n",
        "      outputs = model(inputs)\n",
        "      predicted = torch.max(outputs, 1)[1]\n",
        "      correct += (predicted == targets).sum()\n",
        "\n",
        "      y_true += list(targets.detach().cpu())\n",
        "      y_pred += list(predicted.detach().cpu())\n",
        "\n",
        "    print(\"Test accuracy:{:.3f}% \".format(\n",
        "        float(correct*100) / (len(test_loader)*BATCH_SIZE)))\n",
        "    a = confusion_matrix(y_true, y_pred, labels=labels)\n",
        "  return a"
      ],
      "metadata": {
        "id": "5QhKtylpR2TT"
      },
      "execution_count": 20,
      "outputs": []
    },
    {
      "cell_type": "code",
      "source": [
        "dictionary = {0:0, 1:0, 2:0, 3:0, 4:0, 5:0, 6:0, 7:0, 8:0, 9:0, 10:1}\n",
        "\n",
        "def get_prediction(outputs, threshold = 0.5):\n",
        "  softmin = torch.nn.Softmax(dim = 1)\n",
        "  invScores = 1-softmin(-outputs)\n",
        "  scores = torch.Tensor(outputs*invScores).detach().cpu()\n",
        "  pred_value, prediction = torch.min(scores, axis = 1)\n",
        "  prediction[pred_value > threshold] = 10\n",
        "  \n",
        "  return prediction\n",
        "\n",
        "def evaluate_osr(model,  labels, test_loader, binary=False):\n",
        "  y_true = []\n",
        "  y_pred = []\n",
        "  correct = 0\n",
        "  with torch.no_grad():\n",
        "    for inputs, targets in test_loader:\n",
        "      inputs = inputs.to(device)\n",
        "      targets = targets.to(device)\n",
        "\n",
        "      outputs = model(inputs)\n",
        "      \n",
        "      predicted = get_prediction(outputs)\n",
        "\n",
        "      correct += (predicted == targets.detach().cpu()).sum()\n",
        "\n",
        "      y_true += list(targets.detach().cpu())\n",
        "      y_pred += list(predicted.detach().cpu())\n",
        "\n",
        "    if binary:\n",
        "      y_true = [dictionary[int(y)] for y in y_true]\n",
        "      y_pred = [dictionary[int(y)] for y in y_pred]\n",
        "\n",
        "    print(\"Test accuracy:{:.3f}% \".format(\n",
        "        float(correct*100) / (len(test_loader)*BATCH_SIZE)))\n",
        "    a = confusion_matrix(y_true, y_pred, labels=labels)\n",
        "  return a"
      ],
      "metadata": {
        "id": "ZjivO5nWmTLZ"
      },
      "execution_count": 61,
      "outputs": []
    },
    {
      "cell_type": "code",
      "source": [
        "def visualize_model(model, num_images=6):\n",
        "    was_training = model.training\n",
        "    model.eval()\n",
        "    images_so_far = 0\n",
        "    fig = plt.figure()\n",
        "\n",
        "    with torch.no_grad():\n",
        "        for i, (inputs, labels) in enumerate(combined_test_loader):\n",
        "            inputs = inputs.to(device)\n",
        "            labels = labels.to(device)\n",
        "\n",
        "            outputs = model(inputs)\n",
        "            predicted = get_prediction(outputs)\n",
        "\n",
        "            for j in range(inputs.size()[0]):\n",
        "                images_so_far += 1\n",
        "                ax = plt.subplot(num_images//2, 2, images_so_far)\n",
        "                ax.axis('off')\n",
        "                ax.set_title(f'predicted: {predicted[j]}')\n",
        "                imshow(inputs.cpu().data[j])\n",
        "\n",
        "                if images_so_far == num_images:\n",
        "                    model.train(mode=was_training)\n",
        "                    return\n",
        "        model.train(mode=was_training)"
      ],
      "metadata": {
        "id": "0KAta7S22aFq"
      },
      "execution_count": 71,
      "outputs": []
    },
    {
      "cell_type": "markdown",
      "source": [
        "Baseline results"
      ],
      "metadata": {
        "id": "u8O8jeWSOdaQ"
      }
    },
    {
      "cell_type": "code",
      "source": [
        "baseline_c_matrix = evaluate_cnn(cnn, range(10), mnist_test_loader)\n",
        "print(baseline_c_matrix)"
      ],
      "metadata": {
        "colab": {
          "base_uri": "https://localhost:8080/"
        },
        "id": "g-lDRAo8TTaF",
        "outputId": "3cf9b6ac-c91d-440e-d2ff-9ae3df6906aa"
      },
      "execution_count": 23,
      "outputs": [
        {
          "output_type": "stream",
          "name": "stdout",
          "text": [
            "Test accuracy:96.667% \n",
            "[[ 964    0    1    1    4    0    5    2    1    2]\n",
            " [   0 1127    4    1    0    1    1    1    0    0]\n",
            " [   3    0 1010    3    1    0    1   14    0    0]\n",
            " [   0    1    0  998    0    2    0    6    2    1]\n",
            " [   0    1    0    0  955    0    4    3    4   15]\n",
            " [   3    0    0   13    0  863    6    1    1    5]\n",
            " [   3    3    1    0    7    1  939    0    3    1]\n",
            " [   0   12   10    0    2    1    0  994    1    8]\n",
            " [   4    1    1    4    2    2    2    5  944    9]\n",
            " [   2    5    0    2    5    4    0    6    4  981]]\n"
          ]
        }
      ]
    },
    {
      "cell_type": "markdown",
      "source": [
        "OSR rational"
      ],
      "metadata": {
        "id": "pce_JqdNOf_e"
      }
    },
    {
      "cell_type": "markdown",
      "source": [
        ":TODO"
      ],
      "metadata": {
        "id": "b-bKtsmgXeKj"
      }
    },
    {
      "cell_type": "markdown",
      "source": [
        "OOD results"
      ],
      "metadata": {
        "id": "RqFwAaeuOjd3"
      }
    },
    {
      "cell_type": "code",
      "source": [
        "ood_c_matrix = evaluate_osr(osr, range(2), combined_test_loader, True)\n",
        "print(ood_c_matrix)"
      ],
      "metadata": {
        "id": "qpIUbMIlOlgS",
        "colab": {
          "base_uri": "https://localhost:8080/"
        },
        "outputId": "ecb57fe1-13b2-4d8f-acea-30a388c46f22"
      },
      "execution_count": 66,
      "outputs": [
        {
          "output_type": "stream",
          "name": "stdout",
          "text": [
            "Test accuracy:92.723% \n",
            "[[9552  448]\n",
            " [ 302  698]]\n"
          ]
        }
      ]
    },
    {
      "cell_type": "markdown",
      "source": [
        "OSR results"
      ],
      "metadata": {
        "id": "FwT2fW44OwAP"
      }
    },
    {
      "cell_type": "code",
      "source": [
        "osr_c_matrix = evaluate_osr(osr, range(11), combined_test_loader)\n",
        "print(osr_c_matrix)"
      ],
      "metadata": {
        "id": "klWkvyt4OwYr",
        "colab": {
          "base_uri": "https://localhost:8080/"
        },
        "outputId": "4ace241d-bb90-4dca-f6a6-e9bbb49f7c4a"
      },
      "execution_count": 65,
      "outputs": [
        {
          "output_type": "stream",
          "name": "stdout",
          "text": [
            "Test accuracy:92.769% \n",
            "[[ 948    0    0    0    0    0    0    1    0    0   31]\n",
            " [   0 1112    0    0    0    1    0    1    0    0   21]\n",
            " [   0    0  989    0    0    0    0    0    0    0   43]\n",
            " [   0    0    0  959    0    2    0    2    1    0   46]\n",
            " [   0    0    1    0  922    0    0    0    0    4   55]\n",
            " [   1    0    0    1    0  848    1    0    0    0   41]\n",
            " [   4    2    0    0    0    0  905    0    0    0   47]\n",
            " [   0    3    2    0    0    0    0  972    0    2   49]\n",
            " [   1    0    1    0    1    0    1    0  902    2   66]\n",
            " [   0    1    0    0    4    0    0    0    0  937   67]\n",
            " [  21   83   51   10   25   52    4   32    4    0  718]]\n"
          ]
        }
      ]
    },
    {
      "cell_type": "code",
      "source": [
        "visualize_model(osr, 6)"
      ],
      "metadata": {
        "colab": {
          "base_uri": "https://localhost:8080/",
          "height": 581
        },
        "id": "7dFE8dhkxqlm",
        "outputId": "4cc64aac-2b60-422b-9972-762a884d916a"
      },
      "execution_count": 74,
      "outputs": [
        {
          "output_type": "display_data",
          "data": {
            "text/plain": [
              "<Figure size 432x288 with 1 Axes>"
            ],
            "image/png": "[encoded data removed]"
          },
          "metadata": {
            "needs_background": "light"
          }
        },
        {
          "output_type": "display_data",
          "data": {
            "text/plain": [
              "<Figure size 432x288 with 1 Axes>"
            ],
            "image/png": "[encoded data removed]"
          },
          "metadata": {
            "needs_background": "light"
          }
        },
        {
          "output_type": "display_data",
          "data": {
            "text/plain": [
              "<Figure size 432x288 with 1 Axes>"
            ],
            "image/png": "[encoded data removed]"
          },
          "metadata": {
            "needs_background": "light"
          }
        },
        {
          "output_type": "display_data",
          "data": {
            "text/plain": [
              "<Figure size 432x288 with 1 Axes>"
            ],
            "image/png": "[encoded data removed]"
          },
          "metadata": {
            "needs_background": "light"
          }
        },
        {
          "output_type": "display_data",
          "data": {
            "text/plain": [
              "<Figure size 432x288 with 1 Axes>"
            ],
            "image/png": "[encoded data removed]"
          },
          "metadata": {
            "needs_background": "light"
          }
        },
        {
          "output_type": "display_data",
          "data": {
            "text/plain": [
              "<Figure size 432x288 with 1 Axes>"
            ],
            "image/png": "[encoded data removed]"
          },
          "metadata": {
            "needs_background": "light"
          }
        }
      ]
    }
  ]
}